{
 "cells": [
  {
   "cell_type": "markdown",
   "id": "cb616948-a136-40df-973e-1b30118b4899",
   "metadata": {},
   "source": [
    "# Python fundamentals"
   ]
  },
  {
   "cell_type": "markdown",
   "id": "c3080614",
   "metadata": {},
   "source": [
    "********************"
   ]
  },
  {
   "cell_type": "markdown",
   "id": "f0d61353",
   "metadata": {},
   "source": [
    "### Print lines\n"
   ]
  },
  {
   "cell_type": "code",
   "execution_count": 2,
   "id": "9a0901b8",
   "metadata": {},
   "outputs": [
    {
     "name": "stdout",
     "output_type": "stream",
     "text": [
      "Hello, World!\n",
      "let's go\n"
     ]
    }
   ],
   "source": [
    "# Print hello worls\n",
    "print(\"Hello, World!\")\n",
    "print(\"let's go\")\n"
   ]
  },
  {
   "cell_type": "code",
   "execution_count": 1,
   "id": "1cf09fe1",
   "metadata": {},
   "outputs": [
    {
     "name": "stdout",
     "output_type": "stream",
     "text": [
      "10 2 15\n",
      "\n",
      "10\n",
      "2\n",
      "15\n",
      "\n",
      "10 215\n"
     ]
    }
   ],
   "source": [
    "print(10, 2, 15)\n",
    "\n",
    "print()\n",
    "\n",
    "print(10)\n",
    "print(2)\n",
    "print(15)\n",
    "\n",
    "print()\n",
    "\n",
    "print(10, end=' ')\n",
    "print(2, end='')\n",
    "print(15)"
   ]
  },
  {
   "cell_type": "code",
   "execution_count": 3,
   "id": "5189a45e",
   "metadata": {},
   "outputs": [
    {
     "name": "stdout",
     "output_type": "stream",
     "text": [
      "Ahmed is 20 years old\n"
     ]
    }
   ],
   "source": [
    "print(f'Ahmed is {20} years old')"
   ]
  },
  {
   "cell_type": "code",
   "execution_count": 4,
   "id": "ce465d55",
   "metadata": {},
   "outputs": [
    {
     "name": "stdout",
     "output_type": "stream",
     "text": [
      "Esraa is 25 years old, while Ahmed is 20 years old\n"
     ]
    }
   ],
   "source": [
    "print(\"Esraa is {} years old, while Ahmed is {} years old\".format(25, 20))"
   ]
  },
  {
   "cell_type": "code",
   "execution_count": 5,
   "id": "3e8b0aca",
   "metadata": {},
   "outputs": [
    {
     "name": "stdout",
     "output_type": "stream",
     "text": [
      "Esraa is 20 years old, while Ahmed is 25 years old, fawzy is 50, magda is 50\n"
     ]
    }
   ],
   "source": [
    "print(\"Esraa is {1} years old, while Ahmed is {0} years old, fawzy is {other}, magda is {other}\".format(25, 20, other = 50))"
   ]
  },
  {
   "cell_type": "code",
   "execution_count": 4,
   "id": "13a59e00",
   "metadata": {},
   "outputs": [
    {
     "name": "stdout",
     "output_type": "stream",
     "text": [
      "Esraa is 20 years old, while Ahmed is 25 years old, fawzy is 50, magda is 50\n"
     ]
    }
   ],
   "source": [
    "data = dict(age1 =\"20\", age2 =\"25\", any_other='50')\n",
    "\n",
    "print(\"Esraa is {age1} years old, while Ahmed is {age2} years old, fawzy is {any_other}, magda is {any_other}\".format(**data))"
   ]
  },
  {
   "cell_type": "code",
   "execution_count": 6,
   "id": "11c8736c",
   "metadata": {},
   "outputs": [
    {
     "name": "stdout",
     "output_type": "stream",
     "text": [
      "apple : 111\n",
      "orange : 111.50, orange : 5.3 , orange :  5.33\n"
     ]
    }
   ],
   "source": [
    "print(\"apple : %d\" % 111.5) \n",
    "print(\"orange : %.2f, orange : %.1f , orange : %5.2f\" % (111.5, 5.333, 5.333)) "
   ]
  },
  {
   "cell_type": "code",
   "execution_count": 11,
   "id": "66e1e7be",
   "metadata": {},
   "outputs": [
    {
     "name": "stdout",
     "output_type": "stream",
     "text": [
      "########## let's learn python###########\n",
      "\n",
      " let's learn python                     \n",
      "\n",
      "--------------------- let's learn python\n"
     ]
    }
   ],
   "source": [
    "string = \" let's learn python\"\n",
    "\n",
    "print(string.center(40, '#'))\n",
    "print()\n",
    "print(string.ljust(40, ' '))\n",
    "print()\n",
    "print(string.rjust(40, '-'))"
   ]
  },
  {
   "cell_type": "markdown",
   "id": "a929b2c6",
   "metadata": {},
   "source": [
    "### Print system parameters"
   ]
  },
  {
   "cell_type": "code",
   "execution_count": 9,
   "id": "ab40d623",
   "metadata": {},
   "outputs": [
    {
     "name": "stdout",
     "output_type": "stream",
     "text": [
      "3.10.7 (tags/v3.10.7:6cc6b13, Sep  5 2022, 14:08:36) [MSC v.1933 64 bit (AMD64)]\n"
     ]
    }
   ],
   "source": [
    "# print python version\n",
    "\n",
    "import sys\n",
    "\n",
    "print(sys.version)"
   ]
  },
  {
   "cell_type": "code",
   "execution_count": 10,
   "id": "8d1ba39b",
   "metadata": {},
   "outputs": [
    {
     "name": "stdout",
     "output_type": "stream",
     "text": [
      "['D:\\\\EYouth\\\\My Materials\\\\03) python', 'C:\\\\Users\\\\Hello\\\\AppData\\\\Local\\\\Programs\\\\Python\\\\Python310\\\\python310.zip', 'C:\\\\Users\\\\Hello\\\\AppData\\\\Local\\\\Programs\\\\Python\\\\Python310\\\\DLLs', 'C:\\\\Users\\\\Hello\\\\AppData\\\\Local\\\\Programs\\\\Python\\\\Python310\\\\lib', 'C:\\\\Users\\\\Hello\\\\AppData\\\\Local\\\\Programs\\\\Python\\\\Python310', '', 'C:\\\\Users\\\\Hello\\\\AppData\\\\Roaming\\\\Python\\\\Python310\\\\site-packages', 'C:\\\\Users\\\\Hello\\\\AppData\\\\Local\\\\Programs\\\\Python\\\\Python310\\\\lib\\\\site-packages', 'C:\\\\Users\\\\Hello\\\\AppData\\\\Local\\\\Programs\\\\Python\\\\Python310\\\\lib\\\\site-packages\\\\win32', 'C:\\\\Users\\\\Hello\\\\AppData\\\\Local\\\\Programs\\\\Python\\\\Python310\\\\lib\\\\site-packages\\\\win32\\\\lib', 'C:\\\\Users\\\\Hello\\\\AppData\\\\Local\\\\Programs\\\\Python\\\\Python310\\\\lib\\\\site-packages\\\\Pythonwin']\n"
     ]
    }
   ],
   "source": [
    "# print environment paths\n",
    "\n",
    "print(sys.path)"
   ]
  },
  {
   "cell_type": "code",
   "execution_count": 11,
   "id": "afc9f15b",
   "metadata": {
    "collapsed": true,
    "jupyter": {
     "outputs_hidden": true
    },
    "scrolled": true
   },
   "outputs": [
    {
     "name": "stdout",
     "output_type": "stream",
     "text": [
      "{'sys': <module 'sys' (built-in)>, 'builtins': <module 'builtins' (built-in)>, '_frozen_importlib': <module '_frozen_importlib' (frozen)>, '_imp': <module '_imp' (built-in)>, '_thread': <module '_thread' (built-in)>, '_warnings': <module '_warnings' (built-in)>, '_weakref': <module '_weakref' (built-in)>, '_io': <module '_io' (built-in)>, 'marshal': <module 'marshal' (built-in)>, 'nt': <module 'nt' (built-in)>, 'winreg': <module 'winreg' (built-in)>, '_frozen_importlib_external': <module '_frozen_importlib_external' (frozen)>, 'time': <module 'time' (built-in)>, 'zipimport': <module 'zipimport' (frozen)>, '_codecs': <module '_codecs' (built-in)>, 'codecs': <module 'codecs' from 'C:\\\\Users\\\\Hello\\\\AppData\\\\Local\\\\Programs\\\\Python\\\\Python310\\\\lib\\\\codecs.py'>, 'encodings.aliases': <module 'encodings.aliases' from 'C:\\\\Users\\\\Hello\\\\AppData\\\\Local\\\\Programs\\\\Python\\\\Python310\\\\lib\\\\encodings\\\\aliases.py'>, 'encodings': <module 'encodings' from 'C:\\\\Users\\\\Hello\\\\AppData\\\\Local\\\\Programs\\\\Python\\\\Python310\\\\lib\\\\encodings\\\\__init__.py'>, 'encodings.utf_8': <module 'encodings.utf_8' from 'C:\\\\Users\\\\Hello\\\\AppData\\\\Local\\\\Programs\\\\Python\\\\Python310\\\\lib\\\\encodings\\\\utf_8.py'>, 'encodings.cp1252': <module 'encodings.cp1252' from 'C:\\\\Users\\\\Hello\\\\AppData\\\\Local\\\\Programs\\\\Python\\\\Python310\\\\lib\\\\encodings\\\\cp1252.py'>, '_signal': <module '_signal' (built-in)>, '_abc': <module '_abc' (built-in)>, 'abc': <module 'abc' from 'C:\\\\Users\\\\Hello\\\\AppData\\\\Local\\\\Programs\\\\Python\\\\Python310\\\\lib\\\\abc.py'>, 'io': <module 'io' from 'C:\\\\Users\\\\Hello\\\\AppData\\\\Local\\\\Programs\\\\Python\\\\Python310\\\\lib\\\\io.py'>, '__main__': <module '__main__'>, '_stat': <module '_stat' (built-in)>, 'stat': <module 'stat' from 'C:\\\\Users\\\\Hello\\\\AppData\\\\Local\\\\Programs\\\\Python\\\\Python310\\\\lib\\\\stat.py'>, '_collections_abc': <module '_collections_abc' from 'C:\\\\Users\\\\Hello\\\\AppData\\\\Local\\\\Programs\\\\Python\\\\Python310\\\\lib\\\\_collections_abc.py'>, 'genericpath': <module 'genericpath' from 'C:\\\\Users\\\\Hello\\\\AppData\\\\Local\\\\Programs\\\\Python\\\\Python310\\\\lib\\\\genericpath.py'>, '_winapi': <module '_winapi' (built-in)>, 'ntpath': <module 'ntpath' from 'C:\\\\Users\\\\Hello\\\\AppData\\\\Local\\\\Programs\\\\Python\\\\Python310\\\\lib\\\\ntpath.py'>, 'os.path': <module 'ntpath' from 'C:\\\\Users\\\\Hello\\\\AppData\\\\Local\\\\Programs\\\\Python\\\\Python310\\\\lib\\\\ntpath.py'>, 'os': <module 'os' from 'C:\\\\Users\\\\Hello\\\\AppData\\\\Local\\\\Programs\\\\Python\\\\Python310\\\\lib\\\\os.py'>, '_sitebuiltins': <module '_sitebuiltins' from 'C:\\\\Users\\\\Hello\\\\AppData\\\\Local\\\\Programs\\\\Python\\\\Python310\\\\lib\\\\_sitebuiltins.py'>, '_distutils_hack': <module '_distutils_hack' from 'C:\\\\Users\\\\Hello\\\\AppData\\\\Local\\\\Programs\\\\Python\\\\Python310\\\\lib\\\\site-packages\\\\_distutils_hack\\\\__init__.py'>, 'types': <module 'types' from 'C:\\\\Users\\\\Hello\\\\AppData\\\\Local\\\\Programs\\\\Python\\\\Python310\\\\lib\\\\types.py'>, 'importlib._bootstrap': <module '_frozen_importlib' (frozen)>, 'importlib._bootstrap_external': <module '_frozen_importlib_external' (frozen)>, 'warnings': <module 'warnings' from 'C:\\\\Users\\\\Hello\\\\AppData\\\\Local\\\\Programs\\\\Python\\\\Python310\\\\lib\\\\warnings.py'>, 'importlib': <module 'importlib' from 'C:\\\\Users\\\\Hello\\\\AppData\\\\Local\\\\Programs\\\\Python\\\\Python310\\\\lib\\\\importlib\\\\__init__.py'>, 'importlib._abc': <module 'importlib._abc' from 'C:\\\\Users\\\\Hello\\\\AppData\\\\Local\\\\Programs\\\\Python\\\\Python310\\\\lib\\\\importlib\\\\_abc.py'>, 'itertools': <module 'itertools' (built-in)>, 'keyword': <module 'keyword' from 'C:\\\\Users\\\\Hello\\\\AppData\\\\Local\\\\Programs\\\\Python\\\\Python310\\\\lib\\\\keyword.py'>, '_operator': <module '_operator' (built-in)>, 'operator': <module 'operator' from 'C:\\\\Users\\\\Hello\\\\AppData\\\\Local\\\\Programs\\\\Python\\\\Python310\\\\lib\\\\operator.py'>, 'reprlib': <module 'reprlib' from 'C:\\\\Users\\\\Hello\\\\AppData\\\\Local\\\\Programs\\\\Python\\\\Python310\\\\lib\\\\reprlib.py'>, '_collections': <module '_collections' (built-in)>, 'collections': <module 'collections' from 'C:\\\\Users\\\\Hello\\\\AppData\\\\Local\\\\Programs\\\\Python\\\\Python310\\\\lib\\\\collections\\\\__init__.py'>, '_functools': <module '_functools' (built-in)>, 'functools': <module 'functools' from 'C:\\\\Users\\\\Hello\\\\AppData\\\\Local\\\\Programs\\\\Python\\\\Python310\\\\lib\\\\functools.py'>, 'contextlib': <module 'contextlib' from 'C:\\\\Users\\\\Hello\\\\AppData\\\\Local\\\\Programs\\\\Python\\\\Python310\\\\lib\\\\contextlib.py'>, 'importlib.util': <module 'importlib.util' from 'C:\\\\Users\\\\Hello\\\\AppData\\\\Local\\\\Programs\\\\Python\\\\Python310\\\\lib\\\\importlib\\\\util.py'>, 'importlib.machinery': <module 'importlib.machinery' from 'C:\\\\Users\\\\Hello\\\\AppData\\\\Local\\\\Programs\\\\Python\\\\Python310\\\\lib\\\\importlib\\\\machinery.py'>, 'mpl_toolkits': <module 'mpl_toolkits' from 'C:\\\\Users\\\\Hello\\\\AppData\\\\Local\\\\Programs\\\\Python\\\\Python310\\\\lib\\\\site-packages\\\\mpl_toolkits\\\\__init__.py'>, 'pywin32_system32': <module 'pywin32_system32' (<_frozen_importlib_external._NamespaceLoader object at 0x000001C27ABBA020>)>, 'pywin32_bootstrap': <module 'pywin32_bootstrap' from 'C:\\\\Users\\\\Hello\\\\AppData\\\\Local\\\\Programs\\\\Python\\\\Python310\\\\lib\\\\site-packages\\\\win32\\\\lib\\\\pywin32_bootstrap.py'>, 'site': <module 'site' from 'C:\\\\Users\\\\Hello\\\\AppData\\\\Local\\\\Programs\\\\Python\\\\Python310\\\\lib\\\\site.py'>, 'runpy': <module 'runpy' from 'C:\\\\Users\\\\Hello\\\\AppData\\\\Local\\\\Programs\\\\Python\\\\Python310\\\\lib\\\\runpy.py'>, 'enum': <module 'enum' from 'C:\\\\Users\\\\Hello\\\\AppData\\\\Local\\\\Programs\\\\Python\\\\Python310\\\\lib\\\\enum.py'>, '_sre': <module '_sre' (built-in)>, 'sre_constants': <module 'sre_constants' from 'C:\\\\Users\\\\Hello\\\\AppData\\\\Local\\\\Programs\\\\Python\\\\Python310\\\\lib\\\\sre_constants.py'>, 'sre_parse': <module 'sre_parse' from 'C:\\\\Users\\\\Hello\\\\AppData\\\\Local\\\\Programs\\\\Python\\\\Python310\\\\lib\\\\sre_parse.py'>, 'sre_compile': <module 'sre_compile' from 'C:\\\\Users\\\\Hello\\\\AppData\\\\Local\\\\Programs\\\\Python\\\\Python310\\\\lib\\\\sre_compile.py'>, '_locale': <module '_locale' (built-in)>, 'copyreg': <module 'copyreg' from 'C:\\\\Users\\\\Hello\\\\AppData\\\\Local\\\\Programs\\\\Python\\\\Python310\\\\lib\\\\copyreg.py'>, 're': <module 're' from 'C:\\\\Users\\\\Hello\\\\AppData\\\\Local\\\\Programs\\\\Python\\\\Python310\\\\lib\\\\re.py'>, 'collections.abc': <module 'collections.abc' from 'C:\\\\Users\\\\Hello\\\\AppData\\\\Local\\\\Programs\\\\Python\\\\Python310\\\\lib\\\\collections\\\\abc.py'>, 'typing.io': <class 'typing.io'>, 'typing.re': <class 'typing.re'>, 'typing': <module 'typing' from 'C:\\\\Users\\\\Hello\\\\AppData\\\\Local\\\\Programs\\\\Python\\\\Python310\\\\lib\\\\typing.py'>, 'ipykernel._version': <module 'ipykernel._version' from 'C:\\\\Users\\\\Hello\\\\AppData\\\\Local\\\\Programs\\\\Python\\\\Python310\\\\lib\\\\site-packages\\\\ipykernel\\\\_version.py'>, '_json': <module '_json' (built-in)>, 'json.scanner': <module 'json.scanner' from 'C:\\\\Users\\\\Hello\\\\AppData\\\\Local\\\\Programs\\\\Python\\\\Python310\\\\lib\\\\json\\\\scanner.py'>, 'json.decoder': <module 'json.decoder' from 'C:\\\\Users\\\\Hello\\\\AppData\\\\Local\\\\Programs\\\\Python\\\\Python310\\\\lib\\\\json\\\\decoder.py'>, 'json.encoder': <module 'json.encoder' from 'C:\\\\Users\\\\Hello\\\\AppData\\\\Local\\\\Programs\\\\Python\\\\Python310\\\\lib\\\\json\\\\encoder.py'>, 'json': <module 'json' from 'C:\\\\Users\\\\Hello\\\\AppData\\\\Local\\\\Programs\\\\Python\\\\Python310\\\\lib\\\\json\\\\__init__.py'>, 'errno': <module 'errno' (built-in)>, 'signal': <module 'signal' from 'C:\\\\Users\\\\Hello\\\\AppData\\\\Local\\\\Programs\\\\Python\\\\Python310\\\\lib\\\\signal.py'>, '_weakrefset': <module '_weakrefset' from 'C:\\\\Users\\\\Hello\\\\AppData\\\\Local\\\\Programs\\\\Python\\\\Python310\\\\lib\\\\_weakrefset.py'>, 'threading': <module 'threading' from 'C:\\\\Users\\\\Hello\\\\AppData\\\\Local\\\\Programs\\\\Python\\\\Python310\\\\lib\\\\threading.py'>, 'msvcrt': <module 'msvcrt' (built-in)>, 'subprocess': <module 'subprocess' from 'C:\\\\Users\\\\Hello\\\\AppData\\\\Local\\\\Programs\\\\Python\\\\Python310\\\\lib\\\\subprocess.py'>, 'jupyter_client._version': <module 'jupyter_client._version' from 'C:\\\\Users\\\\Hello\\\\AppData\\\\Local\\\\Programs\\\\Python\\\\Python310\\\\lib\\\\site-packages\\\\jupyter_client\\\\_version.py'>, 'platform': <module 'platform' from 'C:\\\\Users\\\\Hello\\\\AppData\\\\Local\\\\Programs\\\\Python\\\\Python310\\\\lib\\\\platform.py'>, 'zmq.backend.select': <module 'zmq.backend.select' from 'C:\\\\Users\\\\Hello\\\\AppData\\\\Local\\\\Programs\\\\Python\\\\Python310\\\\lib\\\\site-packages\\\\zmq\\\\backend\\\\select.py'>, '_cython_0_29_35': <module '_cython_0_29_35'>, 'cython_runtime': <module 'cython_runtime'>, 'zmq.error': <module 'zmq.error' from 'C:\\\\Users\\\\Hello\\\\AppData\\\\Local\\\\Programs\\\\Python\\\\Python310\\\\lib\\\\site-packages\\\\zmq\\\\error.py'>, 'zmq.backend.cython.context': <module 'zmq.backend.cython.context' from 'C:\\\\Users\\\\Hello\\\\AppData\\\\Local\\\\Programs\\\\Python\\\\Python310\\\\lib\\\\site-packages\\\\zmq\\\\backend\\\\cython\\\\context.cp310-win_amd64.pyd'>, 'weakref': <module 'weakref' from 'C:\\\\Users\\\\Hello\\\\AppData\\\\Local\\\\Programs\\\\Python\\\\Python310\\\\lib\\\\weakref.py'>, 'zmq.backend.cython.message': <module 'zmq.backend.cython.message' from 'C:\\\\Users\\\\Hello\\\\AppData\\\\Local\\\\Programs\\\\Python\\\\Python310\\\\lib\\\\site-packages\\\\zmq\\\\backend\\\\cython\\\\message.cp310-win_amd64.pyd'>, 'copy': <module 'copy' from 'C:\\\\Users\\\\Hello\\\\AppData\\\\Local\\\\Programs\\\\Python\\\\Python310\\\\lib\\\\copy.py'>, 'math': <module 'math' (built-in)>, '_bisect': <module '_bisect' (built-in)>, 'bisect': <module 'bisect' from 'C:\\\\Users\\\\Hello\\\\AppData\\\\Local\\\\Programs\\\\Python\\\\Python310\\\\lib\\\\bisect.py'>, '_random': <module '_random' (built-in)>, '_sha512': <module '_sha512' (built-in)>, 'random': <module 'random' from 'C:\\\\Users\\\\Hello\\\\AppData\\\\Local\\\\Programs\\\\Python\\\\Python310\\\\lib\\\\random.py'>, '_struct': <module '_struct' (built-in)>, 'struct': <module 'struct' from 'C:\\\\Users\\\\Hello\\\\AppData\\\\Local\\\\Programs\\\\Python\\\\Python310\\\\lib\\\\struct.py'>, '_compat_pickle': <module '_compat_pickle' from 'C:\\\\Users\\\\Hello\\\\AppData\\\\Local\\\\Programs\\\\Python\\\\Python310\\\\lib\\\\_compat_pickle.py'>, '_pickle': <module '_pickle' (built-in)>, 'pickle': <module 'pickle' from 'C:\\\\Users\\\\Hello\\\\AppData\\\\Local\\\\Programs\\\\Python\\\\Python310\\\\lib\\\\pickle.py'>, 'zmq.constants': <module 'zmq.constants' from 'C:\\\\Users\\\\Hello\\\\AppData\\\\Local\\\\Programs\\\\Python\\\\Python310\\\\lib\\\\site-packages\\\\zmq\\\\constants.py'>, 'zmq.backend.cython.socket': <module 'zmq.backend.cython.socket' from 'C:\\\\Users\\\\Hello\\\\AppData\\\\Local\\\\Programs\\\\Python\\\\Python310\\\\lib\\\\site-packages\\\\zmq\\\\backend\\\\cython\\\\socket.cp310-win_amd64.pyd'>, 'zmq.backend.cython._device': <module 'zmq.backend.cython._device' from 'C:\\\\Users\\\\Hello\\\\AppData\\\\Local\\\\Programs\\\\Python\\\\Python310\\\\lib\\\\site-packages\\\\zmq\\\\backend\\\\cython\\\\_device.cp310-win_amd64.pyd'>, 'zmq.backend.cython._poll': <module 'zmq.backend.cython._poll' from 'C:\\\\Users\\\\Hello\\\\AppData\\\\Local\\\\Programs\\\\Python\\\\Python310\\\\lib\\\\site-packages\\\\zmq\\\\backend\\\\cython\\\\_poll.cp310-win_amd64.pyd'>, 'zmq.backend.cython._proxy_steerable': <module 'zmq.backend.cython._proxy_steerable' from 'C:\\\\Users\\\\Hello\\\\AppData\\\\Local\\\\Programs\\\\Python\\\\Python310\\\\lib\\\\site-packages\\\\zmq\\\\backend\\\\cython\\\\_proxy_steerable.cp310-win_amd64.pyd'>, '_cython_0_29_32': <module '_cython_0_29_32'>, 'zmq.backend.cython._version': <module 'zmq.backend.cython._version' from 'C:\\\\Users\\\\Hello\\\\AppData\\\\Local\\\\Programs\\\\Python\\\\Python310\\\\lib\\\\site-packages\\\\zmq\\\\backend\\\\cython\\\\_version.cp310-win_amd64.pyd'>, 'zmq.backend.cython.error': <module 'zmq.backend.cython.error' from 'C:\\\\Users\\\\Hello\\\\AppData\\\\Local\\\\Programs\\\\Python\\\\Python310\\\\lib\\\\site-packages\\\\zmq\\\\backend\\\\cython\\\\error.cp310-win_amd64.pyd'>, 'zmq.backend.cython.utils': <module 'zmq.backend.cython.utils' from 'C:\\\\Users\\\\Hello\\\\AppData\\\\Local\\\\Programs\\\\Python\\\\Python310\\\\lib\\\\site-packages\\\\zmq\\\\backend\\\\cython\\\\utils.cp310-win_amd64.pyd'>, 'zmq.backend.cython': <module 'zmq.backend.cython' from 'C:\\\\Users\\\\Hello\\\\AppData\\\\Local\\\\Programs\\\\Python\\\\Python310\\\\lib\\\\site-packages\\\\zmq\\\\backend\\\\cython\\\\__init__.py'>, 'zmq.backend': <module 'zmq.backend' from 'C:\\\\Users\\\\Hello\\\\AppData\\\\Local\\\\Programs\\\\Python\\\\Python310\\\\lib\\\\site-packages\\\\zmq\\\\backend\\\\__init__.py'>, 'atexit': <module 'atexit' (built-in)>, 'zmq.utils': <module 'zmq.utils' from 'C:\\\\Users\\\\Hello\\\\AppData\\\\Local\\\\Programs\\\\Python\\\\Python310\\\\lib\\\\site-packages\\\\zmq\\\\utils\\\\__init__.py'>, 'zmq.utils.interop': <module 'zmq.utils.interop' from 'C:\\\\Users\\\\Hello\\\\AppData\\\\Local\\\\Programs\\\\Python\\\\Python310\\\\lib\\\\site-packages\\\\zmq\\\\utils\\\\interop.py'>, 'zmq.sugar.attrsettr': <module 'zmq.sugar.attrsettr' from 'C:\\\\Users\\\\Hello\\\\AppData\\\\Local\\\\Programs\\\\Python\\\\Python310\\\\lib\\\\site-packages\\\\zmq\\\\sugar\\\\attrsettr.py'>, 'zmq._typing': <module 'zmq._typing' from 'C:\\\\Users\\\\Hello\\\\AppData\\\\Local\\\\Programs\\\\Python\\\\Python310\\\\lib\\\\site-packages\\\\zmq\\\\_typing.py'>, 'zmq.utils.jsonapi': <module 'zmq.utils.jsonapi' from 'C:\\\\Users\\\\Hello\\\\AppData\\\\Local\\\\Programs\\\\Python\\\\Python310\\\\lib\\\\site-packages\\\\zmq\\\\utils\\\\jsonapi.py'>, 'zmq.sugar.poll': <module 'zmq.sugar.poll' from 'C:\\\\Users\\\\Hello\\\\AppData\\\\Local\\\\Programs\\\\Python\\\\Python310\\\\lib\\\\site-packages\\\\zmq\\\\sugar\\\\poll.py'>, 'zmq.sugar.socket': <module 'zmq.sugar.socket' from 'C:\\\\Users\\\\Hello\\\\AppData\\\\Local\\\\Programs\\\\Python\\\\Python310\\\\lib\\\\site-packages\\\\zmq\\\\sugar\\\\socket.py'>, 'zmq.sugar.context': <module 'zmq.sugar.context' from 'C:\\\\Users\\\\Hello\\\\AppData\\\\Local\\\\Programs\\\\Python\\\\Python310\\\\lib\\\\site-packages\\\\zmq\\\\sugar\\\\context.py'>, 'zmq.sugar.frame': <module 'zmq.sugar.frame' from 'C:\\\\Users\\\\Hello\\\\AppData\\\\Local\\\\Programs\\\\Python\\\\Python310\\\\lib\\\\site-packages\\\\zmq\\\\sugar\\\\frame.py'>, 'zmq.sugar.tracker': <module 'zmq.sugar.tracker' from 'C:\\\\Users\\\\Hello\\\\AppData\\\\Local\\\\Programs\\\\Python\\\\Python310\\\\lib\\\\site-packages\\\\zmq\\\\sugar\\\\tracker.py'>, 'zmq.sugar.version': <module 'zmq.sugar.version' from 'C:\\\\Users\\\\Hello\\\\AppData\\\\Local\\\\Programs\\\\Python\\\\Python310\\\\lib\\\\site-packages\\\\zmq\\\\sugar\\\\version.py'>, 'zmq.sugar.stopwatch': <module 'zmq.sugar.stopwatch' from 'C:\\\\Users\\\\Hello\\\\AppData\\\\Local\\\\Programs\\\\Python\\\\Python310\\\\lib\\\\site-packages\\\\zmq\\\\sugar\\\\stopwatch.py'>, 'zmq.sugar': <module 'zmq.sugar' from 'C:\\\\Users\\\\Hello\\\\AppData\\\\Local\\\\Programs\\\\Python\\\\Python310\\\\lib\\\\site-packages\\\\zmq\\\\sugar\\\\__init__.py'>, 'zmq': <module 'zmq' from 'C:\\\\Users\\\\Hello\\\\AppData\\\\Local\\\\Programs\\\\Python\\\\Python310\\\\lib\\\\site-packages\\\\zmq\\\\__init__.py'>, 'concurrent': <module 'concurrent' from 'C:\\\\Users\\\\Hello\\\\AppData\\\\Local\\\\Programs\\\\Python\\\\Python310\\\\lib\\\\concurrent\\\\__init__.py'>, 'token': <module 'token' from 'C:\\\\Users\\\\Hello\\\\AppData\\\\Local\\\\Programs\\\\Python\\\\Python310\\\\lib\\\\token.py'>, 'tokenize': <module 'tokenize' from 'C:\\\\Users\\\\Hello\\\\AppData\\\\Local\\\\Programs\\\\Python\\\\Python310\\\\lib\\\\tokenize.py'>, 'linecache': <module 'linecache' from 'C:\\\\Users\\\\Hello\\\\AppData\\\\Local\\\\Programs\\\\Python\\\\Python310\\\\lib\\\\linecache.py'>, 'traceback': <module 'traceback' from 'C:\\\\Users\\\\Hello\\\\AppData\\\\Local\\\\Programs\\\\Python\\\\Python310\\\\lib\\\\traceback.py'>, '_string': <module '_string' (built-in)>, 'string': <module 'string' from 'C:\\\\Users\\\\Hello\\\\AppData\\\\Local\\\\Programs\\\\Python\\\\Python310\\\\lib\\\\string.py'>, 'logging': <module 'logging' from 'C:\\\\Users\\\\Hello\\\\AppData\\\\Local\\\\Programs\\\\Python\\\\Python310\\\\lib\\\\logging\\\\__init__.py'>, 'concurrent.futures._base': <module 'concurrent.futures._base' from 'C:\\\\Users\\\\Hello\\\\AppData\\\\Local\\\\Programs\\\\Python\\\\Python310\\\\lib\\\\concurrent\\\\futures\\\\_base.py'>, 'concurrent.futures': <module 'concurrent.futures' from 'C:\\\\Users\\\\Hello\\\\AppData\\\\Local\\\\Programs\\\\Python\\\\Python310\\\\lib\\\\concurrent\\\\futures\\\\__init__.py'>, '_heapq': <module '_heapq' (built-in)>, 'heapq': <module 'heapq' from 'C:\\\\Users\\\\Hello\\\\AppData\\\\Local\\\\Programs\\\\Python\\\\Python310\\\\lib\\\\heapq.py'>, '_socket': <module '_socket' from 'C:\\\\Users\\\\Hello\\\\AppData\\\\Local\\\\Programs\\\\Python\\\\Python310\\\\DLLs\\\\_socket.pyd'>, 'select': <module 'select' from 'C:\\\\Users\\\\Hello\\\\AppData\\\\Local\\\\Programs\\\\Python\\\\Python310\\\\DLLs\\\\select.pyd'>, 'selectors': <module 'selectors' from 'C:\\\\Users\\\\Hello\\\\AppData\\\\Local\\\\Programs\\\\Python\\\\Python310\\\\lib\\\\selectors.py'>, 'socket': <module 'socket' from 'C:\\\\Users\\\\Hello\\\\AppData\\\\Local\\\\Programs\\\\Python\\\\Python310\\\\lib\\\\socket.py'>, '_ssl': <module '_ssl' from 'C:\\\\Users\\\\Hello\\\\AppData\\\\Local\\\\Programs\\\\Python\\\\Python310\\\\DLLs\\\\_ssl.pyd'>, 'binascii': <module 'binascii' (built-in)>, 'base64': <module 'base64' from 'C:\\\\Users\\\\Hello\\\\AppData\\\\Local\\\\Programs\\\\Python\\\\Python310\\\\lib\\\\base64.py'>, 'ssl': <module 'ssl' from 'C:\\\\Users\\\\Hello\\\\AppData\\\\Local\\\\Programs\\\\Python\\\\Python310\\\\lib\\\\ssl.py'>, 'asyncio.constants': <module 'asyncio.constants' from 'C:\\\\Users\\\\Hello\\\\AppData\\\\Local\\\\Programs\\\\Python\\\\Python310\\\\lib\\\\asyncio\\\\constants.py'>, '_ast': <module '_ast' (built-in)>, 'ast': <module 'ast' from 'C:\\\\Users\\\\Hello\\\\AppData\\\\Local\\\\Programs\\\\Python\\\\Python310\\\\lib\\\\ast.py'>, '_opcode': <module '_opcode' (built-in)>, 'opcode': <module 'opcode' from 'C:\\\\Users\\\\Hello\\\\AppData\\\\Local\\\\Programs\\\\Python\\\\Python310\\\\lib\\\\opcode.py'>, 'dis': <module 'dis' from 'C:\\\\Users\\\\Hello\\\\AppData\\\\Local\\\\Programs\\\\Python\\\\Python310\\\\lib\\\\dis.py'>, 'inspect': <module 'inspect' from 'C:\\\\Users\\\\Hello\\\\AppData\\\\Local\\\\Programs\\\\Python\\\\Python310\\\\lib\\\\inspect.py'>, 'asyncio.format_helpers': <module 'asyncio.format_helpers' from 'C:\\\\Users\\\\Hello\\\\AppData\\\\Local\\\\Programs\\\\Python\\\\Python310\\\\lib\\\\asyncio\\\\format_helpers.py'>, 'asyncio.base_futures': <module 'asyncio.base_futures' from 'C:\\\\Users\\\\Hello\\\\AppData\\\\Local\\\\Programs\\\\Python\\\\Python310\\\\lib\\\\asyncio\\\\base_futures.py'>, 'asyncio.log': <module 'asyncio.log' from 'C:\\\\Users\\\\Hello\\\\AppData\\\\Local\\\\Programs\\\\Python\\\\Python310\\\\lib\\\\asyncio\\\\log.py'>, 'asyncio.coroutines': <module 'asyncio.coroutines' from 'C:\\\\Users\\\\Hello\\\\AppData\\\\Local\\\\Programs\\\\Python\\\\Python310\\\\lib\\\\asyncio\\\\coroutines.py'>, '_contextvars': <module '_contextvars' (built-in)>, 'contextvars': <module 'contextvars' from 'C:\\\\Users\\\\Hello\\\\AppData\\\\Local\\\\Programs\\\\Python\\\\Python310\\\\lib\\\\contextvars.py'>, 'asyncio.exceptions': <module 'asyncio.exceptions' from 'C:\\\\Users\\\\Hello\\\\AppData\\\\Local\\\\Programs\\\\Python\\\\Python310\\\\lib\\\\asyncio\\\\exceptions.py'>, 'asyncio.base_tasks': <module 'asyncio.base_tasks' from 'C:\\\\Users\\\\Hello\\\\AppData\\\\Local\\\\Programs\\\\Python\\\\Python310\\\\lib\\\\asyncio\\\\base_tasks.py'>, '_asyncio': <module '_asyncio' from 'C:\\\\Users\\\\Hello\\\\AppData\\\\Local\\\\Programs\\\\Python\\\\Python310\\\\DLLs\\\\_asyncio.pyd'>, 'asyncio.events': <module 'asyncio.events' from 'C:\\\\Users\\\\Hello\\\\AppData\\\\Local\\\\Programs\\\\Python\\\\Python310\\\\lib\\\\asyncio\\\\events.py'>, 'asyncio.futures': <module 'asyncio.futures' from 'C:\\\\Users\\\\Hello\\\\AppData\\\\Local\\\\Programs\\\\Python\\\\Python310\\\\lib\\\\asyncio\\\\futures.py'>, 'asyncio.protocols': <module 'asyncio.protocols' from 'C:\\\\Users\\\\Hello\\\\AppData\\\\Local\\\\Programs\\\\Python\\\\Python310\\\\lib\\\\asyncio\\\\protocols.py'>, 'asyncio.transports': <module 'asyncio.transports' from 'C:\\\\Users\\\\Hello\\\\AppData\\\\Local\\\\Programs\\\\Python\\\\Python310\\\\lib\\\\asyncio\\\\transports.py'>, 'asyncio.sslproto': <module 'asyncio.sslproto' from 'C:\\\\Users\\\\Hello\\\\AppData\\\\Local\\\\Programs\\\\Python\\\\Python310\\\\lib\\\\asyncio\\\\sslproto.py'>, 'asyncio.mixins': <module 'asyncio.mixins' from 'C:\\\\Users\\\\Hello\\\\AppData\\\\Local\\\\Programs\\\\Python\\\\Python310\\\\lib\\\\asyncio\\\\mixins.py'>, 'asyncio.tasks': <module 'asyncio.tasks' from 'C:\\\\Users\\\\Hello\\\\AppData\\\\Local\\\\Programs\\\\Python\\\\Python310\\\\lib\\\\asyncio\\\\tasks.py'>, 'asyncio.locks': <module 'asyncio.locks' from 'C:\\\\Users\\\\Hello\\\\AppData\\\\Local\\\\Programs\\\\Python\\\\Python310\\\\lib\\\\asyncio\\\\locks.py'>, 'asyncio.staggered': <module 'asyncio.staggered' from 'C:\\\\Users\\\\Hello\\\\AppData\\\\Local\\\\Programs\\\\Python\\\\Python310\\\\lib\\\\asyncio\\\\staggered.py'>, 'asyncio.trsock': <module 'asyncio.trsock' from 'C:\\\\Users\\\\Hello\\\\AppData\\\\Local\\\\Programs\\\\Python\\\\Python310\\\\lib\\\\asyncio\\\\trsock.py'>, 'asyncio.base_events': <module 'asyncio.base_events' from 'C:\\\\Users\\\\Hello\\\\AppData\\\\Local\\\\Programs\\\\Python\\\\Python310\\\\lib\\\\asyncio\\\\base_events.py'>, 'asyncio.runners': <module 'asyncio.runners' from 'C:\\\\Users\\\\Hello\\\\AppData\\\\Local\\\\Programs\\\\Python\\\\Python310\\\\lib\\\\asyncio\\\\runners.py'>, 'asyncio.queues': <module 'asyncio.queues' from 'C:\\\\Users\\\\Hello\\\\AppData\\\\Local\\\\Programs\\\\Python\\\\Python310\\\\lib\\\\asyncio\\\\queues.py'>, 'asyncio.streams': <module 'asyncio.streams' from 'C:\\\\Users\\\\Hello\\\\AppData\\\\Local\\\\Programs\\\\Python\\\\Python310\\\\lib\\\\asyncio\\\\streams.py'>, 'asyncio.subprocess': <module 'asyncio.subprocess' from 'C:\\\\Users\\\\Hello\\\\AppData\\\\Local\\\\Programs\\\\Python\\\\Python310\\\\lib\\\\asyncio\\\\subprocess.py'>, 'asyncio.threads': <module 'asyncio.threads' from 'C:\\\\Users\\\\Hello\\\\AppData\\\\Local\\\\Programs\\\\Python\\\\Python310\\\\lib\\\\asyncio\\\\threads.py'>, '_overlapped': <module '_overlapped' from 'C:\\\\Users\\\\Hello\\\\AppData\\\\Local\\\\Programs\\\\Python\\\\Python310\\\\DLLs\\\\_overlapped.pyd'>, 'asyncio.base_subprocess': <module 'asyncio.base_subprocess' from 'C:\\\\Users\\\\Hello\\\\AppData\\\\Local\\\\Programs\\\\Python\\\\Python310\\\\lib\\\\asyncio\\\\base_subprocess.py'>, 'asyncio.proactor_events': <module 'asyncio.proactor_events' from 'C:\\\\Users\\\\Hello\\\\AppData\\\\Local\\\\Programs\\\\Python\\\\Python310\\\\lib\\\\asyncio\\\\proactor_events.py'>, 'asyncio.selector_events': <module 'asyncio.selector_events' from 'C:\\\\Users\\\\Hello\\\\AppData\\\\Local\\\\Programs\\\\Python\\\\Python310\\\\lib\\\\asyncio\\\\selector_events.py'>, 'posixpath': <module 'posixpath' from 'C:\\\\Users\\\\Hello\\\\AppData\\\\Local\\\\Programs\\\\Python\\\\Python310\\\\lib\\\\posixpath.py'>, 'fnmatch': <module 'fnmatch' from 'C:\\\\Users\\\\Hello\\\\AppData\\\\Local\\\\Programs\\\\Python\\\\Python310\\\\lib\\\\fnmatch.py'>, 'zlib': <module 'zlib' (built-in)>, '_compression': <module '_compression' from 'C:\\\\Users\\\\Hello\\\\AppData\\\\Local\\\\Programs\\\\Python\\\\Python310\\\\lib\\\\_compression.py'>, '_bz2': <module '_bz2' from 'C:\\\\Users\\\\Hello\\\\AppData\\\\Local\\\\Programs\\\\Python\\\\Python310\\\\DLLs\\\\_bz2.pyd'>, 'bz2': <module 'bz2' from 'C:\\\\Users\\\\Hello\\\\AppData\\\\Local\\\\Programs\\\\Python\\\\Python310\\\\lib\\\\bz2.py'>, '_lzma': <module '_lzma' from 'C:\\\\Users\\\\Hello\\\\AppData\\\\Local\\\\Programs\\\\Python\\\\Python310\\\\DLLs\\\\_lzma.pyd'>, 'lzma': <module 'lzma' from 'C:\\\\Users\\\\Hello\\\\AppData\\\\Local\\\\Programs\\\\Python\\\\Python310\\\\lib\\\\lzma.py'>, 'shutil': <module 'shutil' from 'C:\\\\Users\\\\Hello\\\\AppData\\\\Local\\\\Programs\\\\Python\\\\Python310\\\\lib\\\\shutil.py'>, 'tempfile': <module 'tempfile' from 'C:\\\\Users\\\\Hello\\\\AppData\\\\Local\\\\Programs\\\\Python\\\\Python310\\\\lib\\\\tempfile.py'>, 'asyncio.windows_utils': <module 'asyncio.windows_utils' from 'C:\\\\Users\\\\Hello\\\\AppData\\\\Local\\\\Programs\\\\Python\\\\Python310\\\\lib\\\\asyncio\\\\windows_utils.py'>, 'asyncio.windows_events': <module 'asyncio.windows_events' from 'C:\\\\Users\\\\Hello\\\\AppData\\\\Local\\\\Programs\\\\Python\\\\Python310\\\\lib\\\\asyncio\\\\windows_events.py'>, 'asyncio': <module 'asyncio' from 'C:\\\\Users\\\\Hello\\\\AppData\\\\Local\\\\Programs\\\\Python\\\\Python310\\\\lib\\\\asyncio\\\\__init__.py'>, 'zmq._future': <module 'zmq._future' from 'C:\\\\Users\\\\Hello\\\\AppData\\\\Local\\\\Programs\\\\Python\\\\Python310\\\\lib\\\\site-packages\\\\zmq\\\\_future.py'>, 'zmq.asyncio': <module 'zmq.asyncio' from 'C:\\\\Users\\\\Hello\\\\AppData\\\\Local\\\\Programs\\\\Python\\\\Python310\\\\lib\\\\site-packages\\\\zmq\\\\asyncio.py'>, 'urllib': <module 'urllib' from 'C:\\\\Users\\\\Hello\\\\AppData\\\\Local\\\\Programs\\\\Python\\\\Python310\\\\lib\\\\urllib\\\\__init__.py'>, 'urllib.parse': <module 'urllib.parse' from 'C:\\\\Users\\\\Hello\\\\AppData\\\\Local\\\\Programs\\\\Python\\\\Python310\\\\lib\\\\urllib\\\\parse.py'>, 'pathlib': <module 'pathlib' from 'C:\\\\Users\\\\Hello\\\\AppData\\\\Local\\\\Programs\\\\Python\\\\Python310\\\\lib\\\\pathlib.py'>, 'traitlets.utils': <module 'traitlets.utils' from 'C:\\\\Users\\\\Hello\\\\AppData\\\\Local\\\\Programs\\\\Python\\\\Python310\\\\lib\\\\site-packages\\\\traitlets\\\\utils\\\\__init__.py'>, 'traitlets.utils.bunch': <module 'traitlets.utils.bunch' from 'C:\\\\Users\\\\Hello\\\\AppData\\\\Local\\\\Programs\\\\Python\\\\Python310\\\\lib\\\\site-packages\\\\traitlets\\\\utils\\\\bunch.py'>, 'traitlets.utils.descriptions': <module 'traitlets.utils.descriptions' from 'C:\\\\Users\\\\Hello\\\\AppData\\\\Local\\\\Programs\\\\Python\\\\Python310\\\\lib\\\\site-packages\\\\traitlets\\\\utils\\\\descriptions.py'>, 'traitlets.utils.getargspec': <module 'traitlets.utils.getargspec' from 'C:\\\\Users\\\\Hello\\\\AppData\\\\Local\\\\Programs\\\\Python\\\\Python310\\\\lib\\\\site-packages\\\\traitlets\\\\utils\\\\getargspec.py'>, 'traitlets.utils.importstring': <module 'traitlets.utils.importstring' from 'C:\\\\Users\\\\Hello\\\\AppData\\\\Local\\\\Programs\\\\Python\\\\Python310\\\\lib\\\\site-packages\\\\traitlets\\\\utils\\\\importstring.py'>, 'traitlets.utils.sentinel': <module 'traitlets.utils.sentinel' from 'C:\\\\Users\\\\Hello\\\\AppData\\\\Local\\\\Programs\\\\Python\\\\Python310\\\\lib\\\\site-packages\\\\traitlets\\\\utils\\\\sentinel.py'>, 'traitlets.traitlets': <module 'traitlets.traitlets' from 'C:\\\\Users\\\\Hello\\\\AppData\\\\Local\\\\Programs\\\\Python\\\\Python310\\\\lib\\\\site-packages\\\\traitlets\\\\traitlets.py'>, 'traitlets._version': <module 'traitlets._version' from 'C:\\\\Users\\\\Hello\\\\AppData\\\\Local\\\\Programs\\\\Python\\\\Python310\\\\lib\\\\site-packages\\\\traitlets\\\\_version.py'>, 'traitlets.utils.decorators': <module 'traitlets.utils.decorators' from 'C:\\\\Users\\\\Hello\\\\AppData\\\\Local\\\\Programs\\\\Python\\\\Python310\\\\lib\\\\site-packages\\\\traitlets\\\\utils\\\\decorators.py'>, 'traitlets': <module 'traitlets' from 'C:\\\\Users\\\\Hello\\\\AppData\\\\Local\\\\Programs\\\\Python\\\\Python310\\\\lib\\\\site-packages\\\\traitlets\\\\__init__.py'>, '_queue': <module '_queue' from 'C:\\\\Users\\\\Hello\\\\AppData\\\\Local\\\\Programs\\\\Python\\\\Python310\\\\DLLs\\\\_queue.pyd'>, 'queue': <module 'queue' from 'C:\\\\Users\\\\Hello\\\\AppData\\\\Local\\\\Programs\\\\Python\\\\Python310\\\\lib\\\\queue.py'>, 'jupyter_core.version': <module 'jupyter_core.version' from 'C:\\\\Users\\\\Hello\\\\AppData\\\\Local\\\\Programs\\\\Python\\\\Python310\\\\lib\\\\site-packages\\\\jupyter_core\\\\version.py'>, 'jupyter_core': <module 'jupyter_core' from 'C:\\\\Users\\\\Hello\\\\AppData\\\\Local\\\\Programs\\\\Python\\\\Python310\\\\lib\\\\site-packages\\\\jupyter_core\\\\__init__.py'>, 'jupyter_core.utils': <module 'jupyter_core.utils' from 'C:\\\\Users\\\\Hello\\\\AppData\\\\Local\\\\Programs\\\\Python\\\\Python310\\\\lib\\\\site-packages\\\\jupyter_core\\\\utils\\\\__init__.py'>, 'jupyter_client.channelsabc': <module 'jupyter_client.channelsabc' from 'C:\\\\Users\\\\Hello\\\\AppData\\\\Local\\\\Programs\\\\Python\\\\Python310\\\\lib\\\\site-packages\\\\jupyter_client\\\\channelsabc.py'>, '_hashlib': <module '_hashlib' from 'C:\\\\Users\\\\Hello\\\\AppData\\\\Local\\\\Programs\\\\Python\\\\Python310\\\\DLLs\\\\_hashlib.pyd'>, '_blake2': <module '_blake2' (built-in)>, 'hashlib': <module 'hashlib' from 'C:\\\\Users\\\\Hello\\\\AppData\\\\Local\\\\Programs\\\\Python\\\\Python310\\\\lib\\\\hashlib.py'>, 'hmac': <module 'hmac' from 'C:\\\\Users\\\\Hello\\\\AppData\\\\Local\\\\Programs\\\\Python\\\\Python310\\\\lib\\\\hmac.py'>, 'dataclasses': <module 'dataclasses' from 'C:\\\\Users\\\\Hello\\\\AppData\\\\Local\\\\Programs\\\\Python\\\\Python310\\\\lib\\\\dataclasses.py'>, 'pprint': <module 'pprint' from 'C:\\\\Users\\\\Hello\\\\AppData\\\\Local\\\\Programs\\\\Python\\\\Python310\\\\lib\\\\pprint.py'>, '_datetime': <module '_datetime' (built-in)>, 'datetime': <module 'datetime' from 'C:\\\\Users\\\\Hello\\\\AppData\\\\Local\\\\Programs\\\\Python\\\\Python310\\\\lib\\\\datetime.py'>, 'tornado': <module 'tornado' from 'C:\\\\Users\\\\Hello\\\\AppData\\\\Local\\\\Programs\\\\Python\\\\Python310\\\\lib\\\\site-packages\\\\tornado\\\\__init__.py'>, 'numbers': <module 'numbers' from 'C:\\\\Users\\\\Hello\\\\AppData\\\\Local\\\\Programs\\\\Python\\\\Python310\\\\lib\\\\numbers.py'>, 'logging.handlers': <module 'logging.handlers' from 'C:\\\\Users\\\\Hello\\\\AppData\\\\Local\\\\Programs\\\\Python\\\\Python310\\\\lib\\\\logging\\\\handlers.py'>, 'html.entities': <module 'html.entities' from 'C:\\\\Users\\\\Hello\\\\AppData\\\\Local\\\\Programs\\\\Python\\\\Python310\\\\lib\\\\html\\\\entities.py'>, 'html': <module 'html' from 'C:\\\\Users\\\\Hello\\\\AppData\\\\Local\\\\Programs\\\\Python\\\\Python310\\\\lib\\\\html\\\\__init__.py'>, 'array': <module 'array' (built-in)>, 'tornado.speedups': <module 'tornado.speedups' from 'C:\\\\Users\\\\Hello\\\\AppData\\\\Local\\\\Programs\\\\Python\\\\Python310\\\\lib\\\\site-packages\\\\tornado\\\\speedups.pyd'>, 'tornado.util': <module 'tornado.util' from 'C:\\\\Users\\\\Hello\\\\AppData\\\\Local\\\\Programs\\\\Python\\\\Python310\\\\lib\\\\site-packages\\\\tornado\\\\util.py'>, 'tornado.escape': <module 'tornado.escape' from 'C:\\\\Users\\\\Hello\\\\AppData\\\\Local\\\\Programs\\\\Python\\\\Python310\\\\lib\\\\site-packages\\\\tornado\\\\escape.py'>, 'colorama.ansi': <module 'colorama.ansi' from 'C:\\\\Users\\\\Hello\\\\AppData\\\\Local\\\\Programs\\\\Python\\\\Python310\\\\lib\\\\site-packages\\\\colorama\\\\ansi.py'>, '_ctypes': <module '_ctypes' from 'C:\\\\Users\\\\Hello\\\\AppData\\\\Local\\\\Programs\\\\Python\\\\Python310\\\\DLLs\\\\_ctypes.pyd'>, 'ctypes._endian': <module 'ctypes._endian' from 'C:\\\\Users\\\\Hello\\\\AppData\\\\Local\\\\Programs\\\\Python\\\\Python310\\\\lib\\\\ctypes\\\\_endian.py'>, 'ctypes': <module 'ctypes' from 'C:\\\\Users\\\\Hello\\\\AppData\\\\Local\\\\Programs\\\\Python\\\\Python310\\\\lib\\\\ctypes\\\\__init__.py'>, 'ctypes.wintypes': <module 'ctypes.wintypes' from 'C:\\\\Users\\\\Hello\\\\AppData\\\\Local\\\\Programs\\\\Python\\\\Python310\\\\lib\\\\ctypes\\\\wintypes.py'>, 'colorama.win32': <module 'colorama.win32' from 'C:\\\\Users\\\\Hello\\\\AppData\\\\Local\\\\Programs\\\\Python\\\\Python310\\\\lib\\\\site-packages\\\\colorama\\\\win32.py'>, 'colorama.winterm': <module 'colorama.winterm' from 'C:\\\\Users\\\\Hello\\\\AppData\\\\Local\\\\Programs\\\\Python\\\\Python310\\\\lib\\\\site-packages\\\\colorama\\\\winterm.py'>, 'colorama.ansitowin32': <module 'colorama.ansitowin32' from 'C:\\\\Users\\\\Hello\\\\AppData\\\\Local\\\\Programs\\\\Python\\\\Python310\\\\lib\\\\site-packages\\\\colorama\\\\ansitowin32.py'>, 'colorama.initialise': <module 'colorama.initialise' from 'C:\\\\Users\\\\Hello\\\\AppData\\\\Local\\\\Programs\\\\Python\\\\Python310\\\\lib\\\\site-packages\\\\colorama\\\\initialise.py'>, 'colorama': <module 'colorama' from 'C:\\\\Users\\\\Hello\\\\AppData\\\\Local\\\\Programs\\\\Python\\\\Python310\\\\lib\\\\site-packages\\\\colorama\\\\__init__.py'>, 'tornado.log': <module 'tornado.log' from 'C:\\\\Users\\\\Hello\\\\AppData\\\\Local\\\\Programs\\\\Python\\\\Python310\\\\lib\\\\site-packages\\\\tornado\\\\log.py'>, 'tornado.concurrent': <module 'tornado.concurrent' from 'C:\\\\Users\\\\Hello\\\\AppData\\\\Local\\\\Programs\\\\Python\\\\Python310\\\\lib\\\\site-packages\\\\tornado\\\\concurrent.py'>, 'tornado.ioloop': <module 'tornado.ioloop' from 'C:\\\\Users\\\\Hello\\\\AppData\\\\Local\\\\Programs\\\\Python\\\\Python310\\\\lib\\\\site-packages\\\\tornado\\\\ioloop.py'>, 'socketserver': <module 'socketserver' from 'C:\\\\Users\\\\Hello\\\\AppData\\\\Local\\\\Programs\\\\Python\\\\Python310\\\\lib\\\\socketserver.py'>, 'logging.config': <module 'logging.config' from 'C:\\\\Users\\\\Hello\\\\AppData\\\\Local\\\\Programs\\\\Python\\\\Python310\\\\lib\\\\logging\\\\config.py'>, 'textwrap': <module 'textwrap' from 'C:\\\\Users\\\\Hello\\\\AppData\\\\Local\\\\Programs\\\\Python\\\\Python310\\\\lib\\\\textwrap.py'>, 'traitlets.utils.text': <module 'traitlets.utils.text' from 'C:\\\\Users\\\\Hello\\\\AppData\\\\Local\\\\Programs\\\\Python\\\\Python310\\\\lib\\\\site-packages\\\\traitlets\\\\utils\\\\text.py'>, 'gettext': <module 'gettext' from 'C:\\\\Users\\\\Hello\\\\AppData\\\\Local\\\\Programs\\\\Python\\\\Python310\\\\lib\\\\gettext.py'>, 'argparse': <module 'argparse' from 'C:\\\\Users\\\\Hello\\\\AppData\\\\Local\\\\Programs\\\\Python\\\\Python310\\\\lib\\\\argparse.py'>, 'traitlets.config.loader': <module 'traitlets.config.loader' from 'C:\\\\Users\\\\Hello\\\\AppData\\\\Local\\\\Programs\\\\Python\\\\Python310\\\\lib\\\\site-packages\\\\traitlets\\\\config\\\\loader.py'>, 'traitlets.config.configurable': <module 'traitlets.config.configurable' from 'C:\\\\Users\\\\Hello\\\\AppData\\\\Local\\\\Programs\\\\Python\\\\Python310\\\\lib\\\\site-packages\\\\traitlets\\\\config\\\\configurable.py'>, 'traitlets.utils.nested_update': <module 'traitlets.utils.nested_update' from 'C:\\\\Users\\\\Hello\\\\AppData\\\\Local\\\\Programs\\\\Python\\\\Python310\\\\lib\\\\site-packages\\\\traitlets\\\\utils\\\\nested_update.py'>, 'traitlets.config.application': <module 'traitlets.config.application' from 'C:\\\\Users\\\\Hello\\\\AppData\\\\Local\\\\Programs\\\\Python\\\\Python310\\\\lib\\\\site-packages\\\\traitlets\\\\config\\\\application.py'>, 'traitlets.config': <module 'traitlets.config' from 'C:\\\\Users\\\\Hello\\\\AppData\\\\Local\\\\Programs\\\\Python\\\\Python310\\\\lib\\\\site-packages\\\\traitlets\\\\config\\\\__init__.py'>, 'traitlets.log': <module 'traitlets.log' from 'C:\\\\Users\\\\Hello\\\\AppData\\\\Local\\\\Programs\\\\Python\\\\Python310\\\\lib\\\\site-packages\\\\traitlets\\\\log.py'>, 'zmq.eventloop': <module 'zmq.eventloop' from 'C:\\\\Users\\\\Hello\\\\AppData\\\\Local\\\\Programs\\\\Python\\\\Python310\\\\lib\\\\site-packages\\\\zmq\\\\eventloop\\\\__init__.py'>, 'zmq.eventloop.zmqstream': <module 'zmq.eventloop.zmqstream' from 'C:\\\\Users\\\\Hello\\\\AppData\\\\Local\\\\Programs\\\\Python\\\\Python310\\\\lib\\\\site-packages\\\\zmq\\\\eventloop\\\\zmqstream.py'>, 'jupyter_client.adapter': <module 'jupyter_client.adapter' from 'C:\\\\Users\\\\Hello\\\\AppData\\\\Local\\\\Programs\\\\Python\\\\Python310\\\\lib\\\\site-packages\\\\jupyter_client\\\\adapter.py'>, 'dateutil._version': <module 'dateutil._version' from 'C:\\\\Users\\\\Hello\\\\AppData\\\\Local\\\\Programs\\\\Python\\\\Python310\\\\lib\\\\site-packages\\\\dateutil\\\\_version.py'>, 'dateutil': <module 'dateutil' from 'C:\\\\Users\\\\Hello\\\\AppData\\\\Local\\\\Programs\\\\Python\\\\Python310\\\\lib\\\\site-packages\\\\dateutil\\\\__init__.py'>, '__future__': <module '__future__' from 'C:\\\\Users\\\\Hello\\\\AppData\\\\Local\\\\Programs\\\\Python\\\\Python310\\\\lib\\\\__future__.py'>, 'locale': <module 'locale' from 'C:\\\\Users\\\\Hello\\\\AppData\\\\Local\\\\Programs\\\\Python\\\\Python310\\\\lib\\\\locale.py'>, 'calendar': <module 'calendar' from 'C:\\\\Users\\\\Hello\\\\AppData\\\\Local\\\\Programs\\\\Python\\\\Python310\\\\lib\\\\calendar.py'>, 'six': <module 'six' from 'C:\\\\Users\\\\Hello\\\\AppData\\\\Local\\\\Programs\\\\Python\\\\Python310\\\\lib\\\\site-packages\\\\six.py'>, '_decimal': <module '_decimal' from 'C:\\\\Users\\\\Hello\\\\AppData\\\\Local\\\\Programs\\\\Python\\\\Python310\\\\DLLs\\\\_decimal.pyd'>, 'decimal': <module 'decimal' from 'C:\\\\Users\\\\Hello\\\\AppData\\\\Local\\\\Programs\\\\Python\\\\Python310\\\\lib\\\\decimal.py'>, 'dateutil._common': <module 'dateutil._common' from 'C:\\\\Users\\\\Hello\\\\AppData\\\\Local\\\\Programs\\\\Python\\\\Python310\\\\lib\\\\site-packages\\\\dateutil\\\\_common.py'>, 'dateutil.relativedelta': <module 'dateutil.relativedelta' from 'C:\\\\Users\\\\Hello\\\\AppData\\\\Local\\\\Programs\\\\Python\\\\Python310\\\\lib\\\\site-packages\\\\dateutil\\\\relativedelta.py'>, 'six.moves': <module 'six.moves' (<six._SixMetaPathImporter object at 0x000001C27D567A00>)>, 'dateutil.tz._common': <module 'dateutil.tz._common' from 'C:\\\\Users\\\\Hello\\\\AppData\\\\Local\\\\Programs\\\\Python\\\\Python310\\\\lib\\\\site-packages\\\\dateutil\\\\tz\\\\_common.py'>, 'dateutil.tz._factories': <module 'dateutil.tz._factories' from 'C:\\\\Users\\\\Hello\\\\AppData\\\\Local\\\\Programs\\\\Python\\\\Python310\\\\lib\\\\site-packages\\\\dateutil\\\\tz\\\\_factories.py'>, 'dateutil.tz.win': <module 'dateutil.tz.win' from 'C:\\\\Users\\\\Hello\\\\AppData\\\\Local\\\\Programs\\\\Python\\\\Python310\\\\lib\\\\site-packages\\\\dateutil\\\\tz\\\\win.py'>, 'dateutil.tz.tz': <module 'dateutil.tz.tz' from 'C:\\\\Users\\\\Hello\\\\AppData\\\\Local\\\\Programs\\\\Python\\\\Python310\\\\lib\\\\site-packages\\\\dateutil\\\\tz\\\\tz.py'>, 'dateutil.tz': <module 'dateutil.tz' from 'C:\\\\Users\\\\Hello\\\\AppData\\\\Local\\\\Programs\\\\Python\\\\Python310\\\\lib\\\\site-packages\\\\dateutil\\\\tz\\\\__init__.py'>, 'dateutil.parser._parser': <module 'dateutil.parser._parser' from 'C:\\\\Users\\\\Hello\\\\AppData\\\\Local\\\\Programs\\\\Python\\\\Python310\\\\lib\\\\site-packages\\\\dateutil\\\\parser\\\\_parser.py'>, 'dateutil.parser.isoparser': <module 'dateutil.parser.isoparser' from 'C:\\\\Users\\\\Hello\\\\AppData\\\\Local\\\\Programs\\\\Python\\\\Python310\\\\lib\\\\site-packages\\\\dateutil\\\\parser\\\\isoparser.py'>, 'dateutil.parser': <module 'dateutil.parser' from 'C:\\\\Users\\\\Hello\\\\AppData\\\\Local\\\\Programs\\\\Python\\\\Python310\\\\lib\\\\site-packages\\\\dateutil\\\\parser\\\\__init__.py'>, '_strptime': <module '_strptime' from 'C:\\\\Users\\\\Hello\\\\AppData\\\\Local\\\\Programs\\\\Python\\\\Python310\\\\lib\\\\_strptime.py'>, 'jupyter_client.jsonutil': <module 'jupyter_client.jsonutil' from 'C:\\\\Users\\\\Hello\\\\AppData\\\\Local\\\\Programs\\\\Python\\\\Python310\\\\lib\\\\site-packages\\\\jupyter_client\\\\jsonutil.py'>, 'jupyter_client.session': <module 'jupyter_client.session' from 'C:\\\\Users\\\\Hello\\\\AppData\\\\Local\\\\Programs\\\\Python\\\\Python310\\\\lib\\\\site-packages\\\\jupyter_client\\\\session.py'>, 'jupyter_client.channels': <module 'jupyter_client.channels' from 'C:\\\\Users\\\\Hello\\\\AppData\\\\Local\\\\Programs\\\\Python\\\\Python310\\\\lib\\\\site-packages\\\\jupyter_client\\\\channels.py'>, 'getpass': <module 'getpass' from 'C:\\\\Users\\\\Hello\\\\AppData\\\\Local\\\\Programs\\\\Python\\\\Python310\\\\lib\\\\getpass.py'>, 'jupyter_client.clientabc': <module 'jupyter_client.clientabc' from 'C:\\\\Users\\\\Hello\\\\AppData\\\\Local\\\\Programs\\\\Python\\\\Python310\\\\lib\\\\site-packages\\\\jupyter_client\\\\clientabc.py'>, 'glob': <module 'glob' from 'C:\\\\Users\\\\Hello\\\\AppData\\\\Local\\\\Programs\\\\Python\\\\Python310\\\\lib\\\\glob.py'>, 'platformdirs.api': <module 'platformdirs.api' from 'C:\\\\Users\\\\Hello\\\\AppData\\\\Local\\\\Programs\\\\Python\\\\Python310\\\\lib\\\\site-packages\\\\platformdirs\\\\api.py'>, 'platformdirs.version': <module 'platformdirs.version' from 'C:\\\\Users\\\\Hello\\\\AppData\\\\Local\\\\Programs\\\\Python\\\\Python310\\\\lib\\\\site-packages\\\\platformdirs\\\\version.py'>, 'platformdirs.windows': <module 'platformdirs.windows' from 'C:\\\\Users\\\\Hello\\\\AppData\\\\Local\\\\Programs\\\\Python\\\\Python310\\\\lib\\\\site-packages\\\\platformdirs\\\\windows.py'>, 'platformdirs': <module 'platformdirs' from 'C:\\\\Users\\\\Hello\\\\AppData\\\\Local\\\\Programs\\\\Python\\\\Python310\\\\lib\\\\site-packages\\\\platformdirs\\\\__init__.py'>, 'jupyter_core.paths': <module 'jupyter_core.paths' from 'C:\\\\Users\\\\Hello\\\\AppData\\\\Local\\\\Programs\\\\Python\\\\Python310\\\\lib\\\\site-packages\\\\jupyter_core\\\\paths.py'>, 'jupyter_client.localinterfaces': <module 'jupyter_client.localinterfaces' from 'C:\\\\Users\\\\Hello\\\\AppData\\\\Local\\\\Programs\\\\Python\\\\Python310\\\\lib\\\\site-packages\\\\jupyter_client\\\\localinterfaces.py'>, 'jupyter_client.utils': <module 'jupyter_client.utils' from 'C:\\\\Users\\\\Hello\\\\AppData\\\\Local\\\\Programs\\\\Python\\\\Python310\\\\lib\\\\site-packages\\\\jupyter_client\\\\utils.py'>, 'jupyter_client.connect': <module 'jupyter_client.connect' from 'C:\\\\Users\\\\Hello\\\\AppData\\\\Local\\\\Programs\\\\Python\\\\Python310\\\\lib\\\\site-packages\\\\jupyter_client\\\\connect.py'>, 'jupyter_client.client': <module 'jupyter_client.client' from 'C:\\\\Users\\\\Hello\\\\AppData\\\\Local\\\\Programs\\\\Python\\\\Python310\\\\lib\\\\site-packages\\\\jupyter_client\\\\client.py'>, 'jupyter_client.asynchronous.client': <module 'jupyter_client.asynchronous.client' from 'C:\\\\Users\\\\Hello\\\\AppData\\\\Local\\\\Programs\\\\Python\\\\Python310\\\\lib\\\\site-packages\\\\jupyter_client\\\\asynchronous\\\\client.py'>, 'jupyter_client.asynchronous': <module 'jupyter_client.asynchronous' from 'C:\\\\Users\\\\Hello\\\\AppData\\\\Local\\\\Programs\\\\Python\\\\Python310\\\\lib\\\\site-packages\\\\jupyter_client\\\\asynchronous\\\\__init__.py'>, 'jupyter_client.blocking.client': <module 'jupyter_client.blocking.client' from 'C:\\\\Users\\\\Hello\\\\AppData\\\\Local\\\\Programs\\\\Python\\\\Python310\\\\lib\\\\site-packages\\\\jupyter_client\\\\blocking\\\\client.py'>, 'jupyter_client.blocking': <module 'jupyter_client.blocking' from 'C:\\\\Users\\\\Hello\\\\AppData\\\\Local\\\\Programs\\\\Python\\\\Python310\\\\lib\\\\site-packages\\\\jupyter_client\\\\blocking\\\\__init__.py'>, 'jupyter_client.launcher': <module 'jupyter_client.launcher' from 'C:\\\\Users\\\\Hello\\\\AppData\\\\Local\\\\Programs\\\\Python\\\\Python310\\\\lib\\\\site-packages\\\\jupyter_client\\\\launcher.py'>, '_uuid': <module '_uuid' from 'C:\\\\Users\\\\Hello\\\\AppData\\\\Local\\\\Programs\\\\Python\\\\Python310\\\\DLLs\\\\_uuid.pyd'>, 'uuid': <module 'uuid' from 'C:\\\\Users\\\\Hello\\\\AppData\\\\Local\\\\Programs\\\\Python\\\\Python310\\\\lib\\\\uuid.py'>, '_csv': <module '_csv' (built-in)>, 'csv': <module 'csv' from 'C:\\\\Users\\\\Hello\\\\AppData\\\\Local\\\\Programs\\\\Python\\\\Python310\\\\lib\\\\csv.py'>, 'email': <module 'email' from 'C:\\\\Users\\\\Hello\\\\AppData\\\\Local\\\\Programs\\\\Python\\\\Python310\\\\lib\\\\email\\\\__init__.py'>, 'zipfile': <module 'zipfile' from 'C:\\\\Users\\\\Hello\\\\AppData\\\\Local\\\\Programs\\\\Python\\\\Python310\\\\lib\\\\zipfile.py'>, 'uu': <module 'uu' from 'C:\\\\Users\\\\Hello\\\\AppData\\\\Local\\\\Programs\\\\Python\\\\Python310\\\\lib\\\\uu.py'>, 'quopri': <module 'quopri' from 'C:\\\\Users\\\\Hello\\\\AppData\\\\Local\\\\Programs\\\\Python\\\\Python310\\\\lib\\\\quopri.py'>, 'email._parseaddr': <module 'email._parseaddr' from 'C:\\\\Users\\\\Hello\\\\AppData\\\\Local\\\\Programs\\\\Python\\\\Python310\\\\lib\\\\email\\\\_parseaddr.py'>, 'email.base64mime': <module 'email.base64mime' from 'C:\\\\Users\\\\Hello\\\\AppData\\\\Local\\\\Programs\\\\Python\\\\Python310\\\\lib\\\\email\\\\base64mime.py'>, 'email.quoprimime': <module 'email.quoprimime' from 'C:\\\\Users\\\\Hello\\\\AppData\\\\Local\\\\Programs\\\\Python\\\\Python310\\\\lib\\\\email\\\\quoprimime.py'>, 'email.errors': <module 'email.errors' from 'C:\\\\Users\\\\Hello\\\\AppData\\\\Local\\\\Programs\\\\Python\\\\Python310\\\\lib\\\\email\\\\errors.py'>, 'email.encoders': <module 'email.encoders' from 'C:\\\\Users\\\\Hello\\\\AppData\\\\Local\\\\Programs\\\\Python\\\\Python310\\\\lib\\\\email\\\\encoders.py'>, 'email.charset': <module 'email.charset' from 'C:\\\\Users\\\\Hello\\\\AppData\\\\Local\\\\Programs\\\\Python\\\\Python310\\\\lib\\\\email\\\\charset.py'>, 'email.utils': <module 'email.utils' from 'C:\\\\Users\\\\Hello\\\\AppData\\\\Local\\\\Programs\\\\Python\\\\Python310\\\\lib\\\\email\\\\utils.py'>, 'email.header': <module 'email.header' from 'C:\\\\Users\\\\Hello\\\\AppData\\\\Local\\\\Programs\\\\Python\\\\Python310\\\\lib\\\\email\\\\header.py'>, 'email._policybase': <module 'email._policybase' from 'C:\\\\Users\\\\Hello\\\\AppData\\\\Local\\\\Programs\\\\Python\\\\Python310\\\\lib\\\\email\\\\_policybase.py'>, 'email._encoded_words': <module 'email._encoded_words' from 'C:\\\\Users\\\\Hello\\\\AppData\\\\Local\\\\Programs\\\\Python\\\\Python310\\\\lib\\\\email\\\\_encoded_words.py'>, 'email.iterators': <module 'email.iterators' from 'C:\\\\Users\\\\Hello\\\\AppData\\\\Local\\\\Programs\\\\Python\\\\Python310\\\\lib\\\\email\\\\iterators.py'>, 'email.message': <module 'email.message' from 'C:\\\\Users\\\\Hello\\\\AppData\\\\Local\\\\Programs\\\\Python\\\\Python310\\\\lib\\\\email\\\\message.py'>, 'importlib.metadata._functools': <module 'importlib.metadata._functools' from 'C:\\\\Users\\\\Hello\\\\AppData\\\\Local\\\\Programs\\\\Python\\\\Python310\\\\lib\\\\importlib\\\\metadata\\\\_functools.py'>, 'importlib.metadata._text': <module 'importlib.metadata._text' from 'C:\\\\Users\\\\Hello\\\\AppData\\\\Local\\\\Programs\\\\Python\\\\Python310\\\\lib\\\\importlib\\\\metadata\\\\_text.py'>, 'importlib.metadata._adapters': <module 'importlib.metadata._adapters' from 'C:\\\\Users\\\\Hello\\\\AppData\\\\Local\\\\Programs\\\\Python\\\\Python310\\\\lib\\\\importlib\\\\metadata\\\\_adapters.py'>, 'importlib.metadata._meta': <module 'importlib.metadata._meta' from 'C:\\\\Users\\\\Hello\\\\AppData\\\\Local\\\\Programs\\\\Python\\\\Python310\\\\lib\\\\importlib\\\\metadata\\\\_meta.py'>, 'importlib.metadata._collections': <module 'importlib.metadata._collections' from 'C:\\\\Users\\\\Hello\\\\AppData\\\\Local\\\\Programs\\\\Python\\\\Python310\\\\lib\\\\importlib\\\\metadata\\\\_collections.py'>, 'importlib.metadata._itertools': <module 'importlib.metadata._itertools' from 'C:\\\\Users\\\\Hello\\\\AppData\\\\Local\\\\Programs\\\\Python\\\\Python310\\\\lib\\\\importlib\\\\metadata\\\\_itertools.py'>, 'importlib.abc': <module 'importlib.abc' from 'C:\\\\Users\\\\Hello\\\\AppData\\\\Local\\\\Programs\\\\Python\\\\Python310\\\\lib\\\\importlib\\\\abc.py'>, 'importlib.metadata': <module 'importlib.metadata' from 'C:\\\\Users\\\\Hello\\\\AppData\\\\Local\\\\Programs\\\\Python\\\\Python310\\\\lib\\\\importlib\\\\metadata\\\\__init__.py'>, 'jupyter_client.provisioning.provisioner_base': <module 'jupyter_client.provisioning.provisioner_base' from 'C:\\\\Users\\\\Hello\\\\AppData\\\\Local\\\\Programs\\\\Python\\\\Python310\\\\lib\\\\site-packages\\\\jupyter_client\\\\provisioning\\\\provisioner_base.py'>, 'jupyter_client.provisioning.factory': <module 'jupyter_client.provisioning.factory' from 'C:\\\\Users\\\\Hello\\\\AppData\\\\Local\\\\Programs\\\\Python\\\\Python310\\\\lib\\\\site-packages\\\\jupyter_client\\\\provisioning\\\\factory.py'>, 'jupyter_client.provisioning.local_provisioner': <module 'jupyter_client.provisioning.local_provisioner' from 'C:\\\\Users\\\\Hello\\\\AppData\\\\Local\\\\Programs\\\\Python\\\\Python310\\\\lib\\\\site-packages\\\\jupyter_client\\\\provisioning\\\\local_provisioner.py'>, 'jupyter_client.provisioning': <module 'jupyter_client.provisioning' from 'C:\\\\Users\\\\Hello\\\\AppData\\\\Local\\\\Programs\\\\Python\\\\Python310\\\\lib\\\\site-packages\\\\jupyter_client\\\\provisioning\\\\__init__.py'>, 'jupyter_client.kernelspec': <module 'jupyter_client.kernelspec' from 'C:\\\\Users\\\\Hello\\\\AppData\\\\Local\\\\Programs\\\\Python\\\\Python310\\\\lib\\\\site-packages\\\\jupyter_client\\\\kernelspec.py'>, 'jupyter_client.managerabc': <module 'jupyter_client.managerabc' from 'C:\\\\Users\\\\Hello\\\\AppData\\\\Local\\\\Programs\\\\Python\\\\Python310\\\\lib\\\\site-packages\\\\jupyter_client\\\\managerabc.py'>, 'jupyter_client.manager': <module 'jupyter_client.manager' from 'C:\\\\Users\\\\Hello\\\\AppData\\\\Local\\\\Programs\\\\Python\\\\Python310\\\\lib\\\\site-packages\\\\jupyter_client\\\\manager.py'>, 'jupyter_client.multikernelmanager': <module 'jupyter_client.multikernelmanager' from 'C:\\\\Users\\\\Hello\\\\AppData\\\\Local\\\\Programs\\\\Python\\\\Python310\\\\lib\\\\site-packages\\\\jupyter_client\\\\multikernelmanager.py'>, 'jupyter_client': <module 'jupyter_client' from 'C:\\\\Users\\\\Hello\\\\AppData\\\\Local\\\\Programs\\\\Python\\\\Python310\\\\lib\\\\site-packages\\\\jupyter_client\\\\__init__.py'>, 'ipykernel.connect': <module 'ipykernel.connect' from 'C:\\\\Users\\\\Hello\\\\AppData\\\\Local\\\\Programs\\\\Python\\\\Python310\\\\lib\\\\site-packages\\\\ipykernel\\\\connect.py'>, 'ipykernel': <module 'ipykernel' from 'C:\\\\Users\\\\Hello\\\\AppData\\\\Local\\\\Programs\\\\Python\\\\Python310\\\\lib\\\\site-packages\\\\ipykernel\\\\__init__.py'>, 'IPython.core': <module 'IPython.core' from 'C:\\\\Users\\\\Hello\\\\AppData\\\\Local\\\\Programs\\\\Python\\\\Python310\\\\lib\\\\site-packages\\\\IPython\\\\core\\\\__init__.py'>, 'IPython.core.getipython': <module 'IPython.core.getipython' from 'C:\\\\Users\\\\Hello\\\\AppData\\\\Local\\\\Programs\\\\Python\\\\Python310\\\\lib\\\\site-packages\\\\IPython\\\\core\\\\getipython.py'>, 'IPython.core.release': <module 'IPython.core.release' from 'C:\\\\Users\\\\Hello\\\\AppData\\\\Local\\\\Programs\\\\Python\\\\Python310\\\\lib\\\\site-packages\\\\IPython\\\\core\\\\release.py'>, 'pkgutil': <module 'pkgutil' from 'C:\\\\Users\\\\Hello\\\\AppData\\\\Local\\\\Programs\\\\Python\\\\Python310\\\\lib\\\\pkgutil.py'>, 'sysconfig': <module 'sysconfig' from 'C:\\\\Users\\\\Hello\\\\AppData\\\\Local\\\\Programs\\\\Python\\\\Python310\\\\lib\\\\sysconfig.py'>, 'pydoc': <module 'pydoc' from 'C:\\\\Users\\\\Hello\\\\AppData\\\\Local\\\\Programs\\\\Python\\\\Python310\\\\lib\\\\pydoc.py'>, 'executing.executing': <module 'executing.executing' from 'C:\\\\Users\\\\Hello\\\\AppData\\\\Local\\\\Programs\\\\Python\\\\Python310\\\\lib\\\\site-packages\\\\executing\\\\executing.py'>, 'executing.version': <module 'executing.version' from 'C:\\\\Users\\\\Hello\\\\AppData\\\\Local\\\\Programs\\\\Python\\\\Python310\\\\lib\\\\site-packages\\\\executing\\\\version.py'>, 'executing': <module 'executing' from 'C:\\\\Users\\\\Hello\\\\AppData\\\\Local\\\\Programs\\\\Python\\\\Python310\\\\lib\\\\site-packages\\\\executing\\\\__init__.py'>, 'asttokens.line_numbers': <module 'asttokens.line_numbers' from 'C:\\\\Users\\\\Hello\\\\AppData\\\\Local\\\\Programs\\\\Python\\\\Python310\\\\lib\\\\site-packages\\\\asttokens\\\\line_numbers.py'>, 'asttokens.util': <module 'asttokens.util' from 'C:\\\\Users\\\\Hello\\\\AppData\\\\Local\\\\Programs\\\\Python\\\\Python310\\\\lib\\\\site-packages\\\\asttokens\\\\util.py'>, 'asttokens.asttokens': <module 'asttokens.asttokens' from 'C:\\\\Users\\\\Hello\\\\AppData\\\\Local\\\\Programs\\\\Python\\\\Python310\\\\lib\\\\site-packages\\\\asttokens\\\\asttokens.py'>, 'asttokens': <module 'asttokens' from 'C:\\\\Users\\\\Hello\\\\AppData\\\\Local\\\\Programs\\\\Python\\\\Python310\\\\lib\\\\site-packages\\\\asttokens\\\\__init__.py'>, 'fractions': <module 'fractions' from 'C:\\\\Users\\\\Hello\\\\AppData\\\\Local\\\\Programs\\\\Python\\\\Python310\\\\lib\\\\fractions.py'>, 'pure_eval.utils': <module 'pure_eval.utils' from 'C:\\\\Users\\\\Hello\\\\AppData\\\\Local\\\\Programs\\\\Python\\\\Python310\\\\lib\\\\site-packages\\\\pure_eval\\\\utils.py'>, 'pure_eval.my_getattr_static': <module 'pure_eval.my_getattr_static' from 'C:\\\\Users\\\\Hello\\\\AppData\\\\Local\\\\Programs\\\\Python\\\\Python310\\\\lib\\\\site-packages\\\\pure_eval\\\\my_getattr_static.py'>, 'pure_eval.core': <module 'pure_eval.core' from 'C:\\\\Users\\\\Hello\\\\AppData\\\\Local\\\\Programs\\\\Python\\\\Python310\\\\lib\\\\site-packages\\\\pure_eval\\\\core.py'>, 'pure_eval.version': <module 'pure_eval.version' from 'C:\\\\Users\\\\Hello\\\\AppData\\\\Local\\\\Programs\\\\Python\\\\Python310\\\\lib\\\\site-packages\\\\pure_eval\\\\version.py'>, 'pure_eval': <module 'pure_eval' from 'C:\\\\Users\\\\Hello\\\\AppData\\\\Local\\\\Programs\\\\Python\\\\Python310\\\\lib\\\\site-packages\\\\pure_eval\\\\__init__.py'>, 'stack_data.utils': <module 'stack_data.utils' from 'C:\\\\Users\\\\Hello\\\\AppData\\\\Local\\\\Programs\\\\Python\\\\Python310\\\\lib\\\\site-packages\\\\stack_data\\\\utils.py'>, 'stack_data.core': <module 'stack_data.core' from 'C:\\\\Users\\\\Hello\\\\AppData\\\\Local\\\\Programs\\\\Python\\\\Python310\\\\lib\\\\site-packages\\\\stack_data\\\\core.py'>, 'stack_data.formatting': <module 'stack_data.formatting' from 'C:\\\\Users\\\\Hello\\\\AppData\\\\Local\\\\Programs\\\\Python\\\\Python310\\\\lib\\\\site-packages\\\\stack_data\\\\formatting.py'>, 'stack_data.serializing': <module 'stack_data.serializing' from 'C:\\\\Users\\\\Hello\\\\AppData\\\\Local\\\\Programs\\\\Python\\\\Python310\\\\lib\\\\site-packages\\\\stack_data\\\\serializing.py'>, 'stack_data.version': <module 'stack_data.version' from 'C:\\\\Users\\\\Hello\\\\AppData\\\\Local\\\\Programs\\\\Python\\\\Python310\\\\lib\\\\site-packages\\\\stack_data\\\\version.py'>, 'stack_data': <module 'stack_data' from 'C:\\\\Users\\\\Hello\\\\AppData\\\\Local\\\\Programs\\\\Python\\\\Python310\\\\lib\\\\site-packages\\\\stack_data\\\\__init__.py'>, 'pygments': <module 'pygments' from 'C:\\\\Users\\\\Hello\\\\AppData\\\\Local\\\\Programs\\\\Python\\\\Python310\\\\lib\\\\site-packages\\\\pygments\\\\__init__.py'>, 'pygments.formatters._mapping': <module 'pygments.formatters._mapping' from 'C:\\\\Users\\\\Hello\\\\AppData\\\\Local\\\\Programs\\\\Python\\\\Python310\\\\lib\\\\site-packages\\\\pygments\\\\formatters\\\\_mapping.py'>, 'pygments.plugin': <module 'pygments.plugin' from 'C:\\\\Users\\\\Hello\\\\AppData\\\\Local\\\\Programs\\\\Python\\\\Python310\\\\lib\\\\site-packages\\\\pygments\\\\plugin.py'>, 'pygments.util': <module 'pygments.util' from 'C:\\\\Users\\\\Hello\\\\AppData\\\\Local\\\\Programs\\\\Python\\\\Python310\\\\lib\\\\site-packages\\\\pygments\\\\util.py'>, 'pygments.formatters': <module 'pygments.formatters' from 'C:\\\\Users\\\\Hello\\\\AppData\\\\Local\\\\Programs\\\\Python\\\\Python310\\\\lib\\\\site-packages\\\\pygments\\\\formatters\\\\__init__.py'>, 'pygments.styles': <module 'pygments.styles' from 'C:\\\\Users\\\\Hello\\\\AppData\\\\Local\\\\Programs\\\\Python\\\\Python310\\\\lib\\\\site-packages\\\\pygments\\\\styles\\\\__init__.py'>, 'pygments.formatter': <module 'pygments.formatter' from 'C:\\\\Users\\\\Hello\\\\AppData\\\\Local\\\\Programs\\\\Python\\\\Python310\\\\lib\\\\site-packages\\\\pygments\\\\formatter.py'>, 'pygments.console': <module 'pygments.console' from 'C:\\\\Users\\\\Hello\\\\AppData\\\\Local\\\\Programs\\\\Python\\\\Python310\\\\lib\\\\site-packages\\\\pygments\\\\console.py'>, 'pygments.token': <module 'pygments.token' from 'C:\\\\Users\\\\Hello\\\\AppData\\\\Local\\\\Programs\\\\Python\\\\Python310\\\\lib\\\\site-packages\\\\pygments\\\\token.py'>, 'pygments.style': <module 'pygments.style' from 'C:\\\\Users\\\\Hello\\\\AppData\\\\Local\\\\Programs\\\\Python\\\\Python310\\\\lib\\\\site-packages\\\\pygments\\\\style.py'>, 'pygments.formatters.terminal256': <module 'pygments.formatters.terminal256' from 'C:\\\\Users\\\\Hello\\\\AppData\\\\Local\\\\Programs\\\\Python\\\\Python310\\\\lib\\\\site-packages\\\\pygments\\\\formatters\\\\terminal256.py'>, 'IPython.utils': <module 'IPython.utils' from 'C:\\\\Users\\\\Hello\\\\AppData\\\\Local\\\\Programs\\\\Python\\\\Python310\\\\lib\\\\site-packages\\\\IPython\\\\utils\\\\__init__.py'>, 'IPython.utils.colorable': <module 'IPython.utils.colorable' from 'C:\\\\Users\\\\Hello\\\\AppData\\\\Local\\\\Programs\\\\Python\\\\Python310\\\\lib\\\\site-packages\\\\IPython\\\\utils\\\\colorable.py'>, 'IPython.utils.ipstruct': <module 'IPython.utils.ipstruct' from 'C:\\\\Users\\\\Hello\\\\AppData\\\\Local\\\\Programs\\\\Python\\\\Python310\\\\lib\\\\site-packages\\\\IPython\\\\utils\\\\ipstruct.py'>, 'IPython.utils.coloransi': <module 'IPython.utils.coloransi' from 'C:\\\\Users\\\\Hello\\\\AppData\\\\Local\\\\Programs\\\\Python\\\\Python310\\\\lib\\\\site-packages\\\\IPython\\\\utils\\\\coloransi.py'>, 'IPython.utils.PyColorize': <module 'IPython.utils.PyColorize' from 'C:\\\\Users\\\\Hello\\\\AppData\\\\Local\\\\Programs\\\\Python\\\\Python310\\\\lib\\\\site-packages\\\\IPython\\\\utils\\\\PyColorize.py'>, 'IPython.utils.encoding': <module 'IPython.utils.encoding' from 'C:\\\\Users\\\\Hello\\\\AppData\\\\Local\\\\Programs\\\\Python\\\\Python310\\\\lib\\\\site-packages\\\\IPython\\\\utils\\\\encoding.py'>, 'IPython.utils.py3compat': <module 'IPython.utils.py3compat' from 'C:\\\\Users\\\\Hello\\\\AppData\\\\Local\\\\Programs\\\\Python\\\\Python310\\\\lib\\\\site-packages\\\\IPython\\\\utils\\\\py3compat.py'>, 'IPython.core.excolors': <module 'IPython.core.excolors' from 'C:\\\\Users\\\\Hello\\\\AppData\\\\Local\\\\Programs\\\\Python\\\\Python310\\\\lib\\\\site-packages\\\\IPython\\\\core\\\\excolors.py'>, 'cmd': <module 'cmd' from 'C:\\\\Users\\\\Hello\\\\AppData\\\\Local\\\\Programs\\\\Python\\\\Python310\\\\lib\\\\cmd.py'>, 'bdb': <module 'bdb' from 'C:\\\\Users\\\\Hello\\\\AppData\\\\Local\\\\Programs\\\\Python\\\\Python310\\\\lib\\\\bdb.py'>, 'codeop': <module 'codeop' from 'C:\\\\Users\\\\Hello\\\\AppData\\\\Local\\\\Programs\\\\Python\\\\Python310\\\\lib\\\\codeop.py'>, 'code': <module 'code' from 'C:\\\\Users\\\\Hello\\\\AppData\\\\Local\\\\Programs\\\\Python\\\\Python310\\\\lib\\\\code.py'>, 'pdb': <module 'pdb' from 'C:\\\\Users\\\\Hello\\\\AppData\\\\Local\\\\Programs\\\\Python\\\\Python310\\\\lib\\\\pdb.py'>, 'IPython.core.debugger': <module 'IPython.core.debugger' from 'C:\\\\Users\\\\Hello\\\\AppData\\\\Local\\\\Programs\\\\Python\\\\Python310\\\\lib\\\\site-packages\\\\IPython\\\\core\\\\debugger.py'>, 'IPython.core.display_trap': <module 'IPython.core.display_trap' from 'C:\\\\Users\\\\Hello\\\\AppData\\\\Local\\\\Programs\\\\Python\\\\Python310\\\\lib\\\\site-packages\\\\IPython\\\\core\\\\display_trap.py'>, 'shlex': <module 'shlex' from 'C:\\\\Users\\\\Hello\\\\AppData\\\\Local\\\\Programs\\\\Python\\\\Python310\\\\lib\\\\shlex.py'>, 'IPython.utils._process_common': <module 'IPython.utils._process_common' from 'C:\\\\Users\\\\Hello\\\\AppData\\\\Local\\\\Programs\\\\Python\\\\Python310\\\\lib\\\\site-packages\\\\IPython\\\\utils\\\\_process_common.py'>, 'IPython.utils._process_win32': <module 'IPython.utils._process_win32' from 'C:\\\\Users\\\\Hello\\\\AppData\\\\Local\\\\Programs\\\\Python\\\\Python310\\\\lib\\\\site-packages\\\\IPython\\\\utils\\\\_process_win32.py'>, 'IPython.utils.process': <module 'IPython.utils.process' from 'C:\\\\Users\\\\Hello\\\\AppData\\\\Local\\\\Programs\\\\Python\\\\Python310\\\\lib\\\\site-packages\\\\IPython\\\\utils\\\\process.py'>, 'IPython.utils.path': <module 'IPython.utils.path' from 'C:\\\\Users\\\\Hello\\\\AppData\\\\Local\\\\Programs\\\\Python\\\\Python310\\\\lib\\\\site-packages\\\\IPython\\\\utils\\\\path.py'>, 'IPython.utils.terminal': <module 'IPython.utils.terminal' from 'C:\\\\Users\\\\Hello\\\\AppData\\\\Local\\\\Programs\\\\Python\\\\Python310\\\\lib\\\\site-packages\\\\IPython\\\\utils\\\\terminal.py'>, 'IPython.core.ultratb': <module 'IPython.core.ultratb' from 'C:\\\\Users\\\\Hello\\\\AppData\\\\Local\\\\Programs\\\\Python\\\\Python310\\\\lib\\\\site-packages\\\\IPython\\\\core\\\\ultratb.py'>, 'IPython.utils._sysinfo': <module 'IPython.utils._sysinfo' from 'C:\\\\Users\\\\Hello\\\\AppData\\\\Local\\\\Programs\\\\Python\\\\Python310\\\\lib\\\\site-packages\\\\IPython\\\\utils\\\\_sysinfo.py'>, 'IPython.utils.sysinfo': <module 'IPython.utils.sysinfo' from 'C:\\\\Users\\\\Hello\\\\AppData\\\\Local\\\\Programs\\\\Python\\\\Python310\\\\lib\\\\site-packages\\\\IPython\\\\utils\\\\sysinfo.py'>, 'IPython.core.crashhandler': <module 'IPython.core.crashhandler' from 'C:\\\\Users\\\\Hello\\\\AppData\\\\Local\\\\Programs\\\\Python\\\\Python310\\\\lib\\\\site-packages\\\\IPython\\\\core\\\\crashhandler.py'>, 'IPython.utils.importstring': <module 'IPython.utils.importstring' from 'C:\\\\Users\\\\Hello\\\\AppData\\\\Local\\\\Programs\\\\Python\\\\Python310\\\\lib\\\\site-packages\\\\IPython\\\\utils\\\\importstring.py'>, 'IPython.paths': <module 'IPython.paths' from 'C:\\\\Users\\\\Hello\\\\AppData\\\\Local\\\\Programs\\\\Python\\\\Python310\\\\lib\\\\site-packages\\\\IPython\\\\paths.py'>, 'IPython.core.profiledir': <module 'IPython.core.profiledir' from 'C:\\\\Users\\\\Hello\\\\AppData\\\\Local\\\\Programs\\\\Python\\\\Python310\\\\lib\\\\site-packages\\\\IPython\\\\core\\\\profiledir.py'>, 'IPython.core.application': <module 'IPython.core.application' from 'C:\\\\Users\\\\Hello\\\\AppData\\\\Local\\\\Programs\\\\Python\\\\Python310\\\\lib\\\\site-packages\\\\IPython\\\\core\\\\application.py'>, 'IPython.terminal': <module 'IPython.terminal' from 'C:\\\\Users\\\\Hello\\\\AppData\\\\Local\\\\Programs\\\\Python\\\\Python310\\\\lib\\\\site-packages\\\\IPython\\\\terminal\\\\__init__.py'>, 'IPython.core.compilerop': <module 'IPython.core.compilerop' from 'C:\\\\Users\\\\Hello\\\\AppData\\\\Local\\\\Programs\\\\Python\\\\Python310\\\\lib\\\\site-packages\\\\IPython\\\\core\\\\compilerop.py'>, 'IPython.core.error': <module 'IPython.core.error' from 'C:\\\\Users\\\\Hello\\\\AppData\\\\Local\\\\Programs\\\\Python\\\\Python310\\\\lib\\\\site-packages\\\\IPython\\\\core\\\\error.py'>, 'IPython.utils.docs': <module 'IPython.utils.docs' from 'C:\\\\Users\\\\Hello\\\\AppData\\\\Local\\\\Programs\\\\Python\\\\Python310\\\\lib\\\\site-packages\\\\IPython\\\\utils\\\\docs.py'>, 'IPython.utils.decorators': <module 'IPython.utils.decorators' from 'C:\\\\Users\\\\Hello\\\\AppData\\\\Local\\\\Programs\\\\Python\\\\Python310\\\\lib\\\\site-packages\\\\IPython\\\\utils\\\\decorators.py'>, 'IPython.utils.text': <module 'IPython.utils.text' from 'C:\\\\Users\\\\Hello\\\\AppData\\\\Local\\\\Programs\\\\Python\\\\Python310\\\\lib\\\\site-packages\\\\IPython\\\\utils\\\\text.py'>, 'IPython.core.magic_arguments': <module 'IPython.core.magic_arguments' from 'C:\\\\Users\\\\Hello\\\\AppData\\\\Local\\\\Programs\\\\Python\\\\Python310\\\\lib\\\\site-packages\\\\IPython\\\\core\\\\magic_arguments.py'>, 'getopt': <module 'getopt' from 'C:\\\\Users\\\\Hello\\\\AppData\\\\Local\\\\Programs\\\\Python\\\\Python310\\\\lib\\\\getopt.py'>, 'IPython.core.display_functions': <module 'IPython.core.display_functions' from 'C:\\\\Users\\\\Hello\\\\AppData\\\\Local\\\\Programs\\\\Python\\\\Python310\\\\lib\\\\site-packages\\\\IPython\\\\core\\\\display_functions.py'>, 'mimetypes': <module 'mimetypes' from 'C:\\\\Users\\\\Hello\\\\AppData\\\\Local\\\\Programs\\\\Python\\\\Python310\\\\lib\\\\mimetypes.py'>, 'IPython.testing': <module 'IPython.testing' from 'C:\\\\Users\\\\Hello\\\\AppData\\\\Local\\\\Programs\\\\Python\\\\Python310\\\\lib\\\\site-packages\\\\IPython\\\\testing\\\\__init__.py'>, 'IPython.testing.skipdoctest': <module 'IPython.testing.skipdoctest' from 'C:\\\\Users\\\\Hello\\\\AppData\\\\Local\\\\Programs\\\\Python\\\\Python310\\\\lib\\\\site-packages\\\\IPython\\\\testing\\\\skipdoctest.py'>, 'IPython.core.display': <module 'IPython.core.display' from 'C:\\\\Users\\\\Hello\\\\AppData\\\\Local\\\\Programs\\\\Python\\\\Python310\\\\lib\\\\site-packages\\\\IPython\\\\core\\\\display.py'>, 'IPython.lib': <module 'IPython.lib' from 'C:\\\\Users\\\\Hello\\\\AppData\\\\Local\\\\Programs\\\\Python\\\\Python310\\\\lib\\\\site-packages\\\\IPython\\\\lib\\\\__init__.py'>, 'IPython.lib.display': <module 'IPython.lib.display' from 'C:\\\\Users\\\\Hello\\\\AppData\\\\Local\\\\Programs\\\\Python\\\\Python310\\\\lib\\\\site-packages\\\\IPython\\\\lib\\\\display.py'>, 'IPython.display': <module 'IPython.display' from 'C:\\\\Users\\\\Hello\\\\AppData\\\\Local\\\\Programs\\\\Python\\\\Python310\\\\lib\\\\site-packages\\\\IPython\\\\display.py'>, 'IPython.utils.data': <module 'IPython.utils.data' from 'C:\\\\Users\\\\Hello\\\\AppData\\\\Local\\\\Programs\\\\Python\\\\Python310\\\\lib\\\\site-packages\\\\IPython\\\\utils\\\\data.py'>, 'IPython.core.page': <module 'IPython.core.page' from 'C:\\\\Users\\\\Hello\\\\AppData\\\\Local\\\\Programs\\\\Python\\\\Python310\\\\lib\\\\site-packages\\\\IPython\\\\core\\\\page.py'>, 'IPython.lib.pretty': <module 'IPython.lib.pretty' from 'C:\\\\Users\\\\Hello\\\\AppData\\\\Local\\\\Programs\\\\Python\\\\Python310\\\\lib\\\\site-packages\\\\IPython\\\\lib\\\\pretty.py'>, 'IPython.utils.openpy': <module 'IPython.utils.openpy' from 'C:\\\\Users\\\\Hello\\\\AppData\\\\Local\\\\Programs\\\\Python\\\\Python310\\\\lib\\\\site-packages\\\\IPython\\\\utils\\\\openpy.py'>, 'IPython.utils.dir2': <module 'IPython.utils.dir2' from 'C:\\\\Users\\\\Hello\\\\AppData\\\\Local\\\\Programs\\\\Python\\\\Python310\\\\lib\\\\site-packages\\\\IPython\\\\utils\\\\dir2.py'>, 'IPython.utils.wildcard': <module 'IPython.utils.wildcard' from 'C:\\\\Users\\\\Hello\\\\AppData\\\\Local\\\\Programs\\\\Python\\\\Python310\\\\lib\\\\site-packages\\\\IPython\\\\utils\\\\wildcard.py'>, 'pygments.lexers._mapping': <module 'pygments.lexers._mapping' from 'C:\\\\Users\\\\Hello\\\\AppData\\\\Local\\\\Programs\\\\Python\\\\Python310\\\\lib\\\\site-packages\\\\pygments\\\\lexers\\\\_mapping.py'>, 'pygments.modeline': <module 'pygments.modeline' from 'C:\\\\Users\\\\Hello\\\\AppData\\\\Local\\\\Programs\\\\Python\\\\Python310\\\\lib\\\\site-packages\\\\pygments\\\\modeline.py'>, 'pygments.lexers': <module 'pygments.lexers' from 'C:\\\\Users\\\\Hello\\\\AppData\\\\Local\\\\Programs\\\\Python\\\\Python310\\\\lib\\\\site-packages\\\\pygments\\\\lexers\\\\__init__.py'>, 'pygments.filter': <module 'pygments.filter' from 'C:\\\\Users\\\\Hello\\\\AppData\\\\Local\\\\Programs\\\\Python\\\\Python310\\\\lib\\\\site-packages\\\\pygments\\\\filter.py'>, 'pygments.filters': <module 'pygments.filters' from 'C:\\\\Users\\\\Hello\\\\AppData\\\\Local\\\\Programs\\\\Python\\\\Python310\\\\lib\\\\site-packages\\\\pygments\\\\filters\\\\__init__.py'>, 'pygments.regexopt': <module 'pygments.regexopt' from 'C:\\\\Users\\\\Hello\\\\AppData\\\\Local\\\\Programs\\\\Python\\\\Python310\\\\lib\\\\site-packages\\\\pygments\\\\regexopt.py'>, 'pygments.lexer': <module 'pygments.lexer' from 'C:\\\\Users\\\\Hello\\\\AppData\\\\Local\\\\Programs\\\\Python\\\\Python310\\\\lib\\\\site-packages\\\\pygments\\\\lexer.py'>, 'pygments.unistring': <module 'pygments.unistring' from 'C:\\\\Users\\\\Hello\\\\AppData\\\\Local\\\\Programs\\\\Python\\\\Python310\\\\lib\\\\site-packages\\\\pygments\\\\unistring.py'>, 'pygments.lexers.python': <module 'pygments.lexers.python' from 'C:\\\\Users\\\\Hello\\\\AppData\\\\Local\\\\Programs\\\\Python\\\\Python310\\\\lib\\\\site-packages\\\\pygments\\\\lexers\\\\python.py'>, 'pygments.formatters.html': <module 'pygments.formatters.html' from 'C:\\\\Users\\\\Hello\\\\AppData\\\\Local\\\\Programs\\\\Python\\\\Python310\\\\lib\\\\site-packages\\\\pygments\\\\formatters\\\\html.py'>, 'IPython.core.oinspect': <module 'IPython.core.oinspect' from 'C:\\\\Users\\\\Hello\\\\AppData\\\\Local\\\\Programs\\\\Python\\\\Python310\\\\lib\\\\site-packages\\\\IPython\\\\core\\\\oinspect.py'>, 'IPython.core.inputtransformer2': <module 'IPython.core.inputtransformer2' from 'C:\\\\Users\\\\Hello\\\\AppData\\\\Local\\\\Programs\\\\Python\\\\Python310\\\\lib\\\\site-packages\\\\IPython\\\\core\\\\inputtransformer2.py'>, 'IPython.core.magic': <module 'IPython.core.magic' from 'C:\\\\Users\\\\Hello\\\\AppData\\\\Local\\\\Programs\\\\Python\\\\Python310\\\\lib\\\\site-packages\\\\IPython\\\\core\\\\magic.py'>, 'pickleshare': <module 'pickleshare' from 'C:\\\\Users\\\\Hello\\\\AppData\\\\Local\\\\Programs\\\\Python\\\\Python310\\\\lib\\\\site-packages\\\\pickleshare.py'>, 'IPython.core.hooks': <module 'IPython.core.hooks' from 'C:\\\\Users\\\\Hello\\\\AppData\\\\Local\\\\Programs\\\\Python\\\\Python310\\\\lib\\\\site-packages\\\\IPython\\\\core\\\\hooks.py'>, 'IPython.core.autocall': <module 'IPython.core.autocall' from 'C:\\\\Users\\\\Hello\\\\AppData\\\\Local\\\\Programs\\\\Python\\\\Python310\\\\lib\\\\site-packages\\\\IPython\\\\core\\\\autocall.py'>, 'IPython.core.macro': <module 'IPython.core.macro' from 'C:\\\\Users\\\\Hello\\\\AppData\\\\Local\\\\Programs\\\\Python\\\\Python310\\\\lib\\\\site-packages\\\\IPython\\\\core\\\\macro.py'>, 'IPython.core.splitinput': <module 'IPython.core.splitinput' from 'C:\\\\Users\\\\Hello\\\\AppData\\\\Local\\\\Programs\\\\Python\\\\Python310\\\\lib\\\\site-packages\\\\IPython\\\\core\\\\splitinput.py'>, 'IPython.core.prefilter': <module 'IPython.core.prefilter' from 'C:\\\\Users\\\\Hello\\\\AppData\\\\Local\\\\Programs\\\\Python\\\\Python310\\\\lib\\\\site-packages\\\\IPython\\\\core\\\\prefilter.py'>, 'IPython.core.alias': <module 'IPython.core.alias' from 'C:\\\\Users\\\\Hello\\\\AppData\\\\Local\\\\Programs\\\\Python\\\\Python310\\\\lib\\\\site-packages\\\\IPython\\\\core\\\\alias.py'>, 'IPython.core.builtin_trap': <module 'IPython.core.builtin_trap' from 'C:\\\\Users\\\\Hello\\\\AppData\\\\Local\\\\Programs\\\\Python\\\\Python310\\\\lib\\\\site-packages\\\\IPython\\\\core\\\\builtin_trap.py'>, 'IPython.core.displayhook': <module 'IPython.core.displayhook' from 'C:\\\\Users\\\\Hello\\\\AppData\\\\Local\\\\Programs\\\\Python\\\\Python310\\\\lib\\\\site-packages\\\\IPython\\\\core\\\\displayhook.py'>, 'IPython.core.displaypub': <module 'IPython.core.displaypub' from 'C:\\\\Users\\\\Hello\\\\AppData\\\\Local\\\\Programs\\\\Python\\\\Python310\\\\lib\\\\site-packages\\\\IPython\\\\core\\\\displaypub.py'>, 'backcall.backcall': <module 'backcall.backcall' from 'C:\\\\Users\\\\Hello\\\\AppData\\\\Local\\\\Programs\\\\Python\\\\Python310\\\\lib\\\\site-packages\\\\backcall\\\\backcall.py'>, 'backcall': <module 'backcall' from 'C:\\\\Users\\\\Hello\\\\AppData\\\\Local\\\\Programs\\\\Python\\\\Python310\\\\lib\\\\site-packages\\\\backcall\\\\__init__.py'>, 'IPython.core.events': <module 'IPython.core.events' from 'C:\\\\Users\\\\Hello\\\\AppData\\\\Local\\\\Programs\\\\Python\\\\Python310\\\\lib\\\\site-packages\\\\IPython\\\\core\\\\events.py'>, 'IPython.core.extensions': <module 'IPython.core.extensions' from 'C:\\\\Users\\\\Hello\\\\AppData\\\\Local\\\\Programs\\\\Python\\\\Python310\\\\lib\\\\site-packages\\\\IPython\\\\core\\\\extensions.py'>, 'decorator': <module 'decorator' from 'C:\\\\Users\\\\Hello\\\\AppData\\\\Local\\\\Programs\\\\Python\\\\Python310\\\\lib\\\\site-packages\\\\decorator.py'>, 'IPython.utils.sentinel': <module 'IPython.utils.sentinel' from 'C:\\\\Users\\\\Hello\\\\AppData\\\\Local\\\\Programs\\\\Python\\\\Python310\\\\lib\\\\site-packages\\\\IPython\\\\utils\\\\sentinel.py'>, 'IPython.core.formatters': <module 'IPython.core.formatters' from 'C:\\\\Users\\\\Hello\\\\AppData\\\\Local\\\\Programs\\\\Python\\\\Python310\\\\lib\\\\site-packages\\\\IPython\\\\core\\\\formatters.py'>, '_sqlite3': <module '_sqlite3' from 'C:\\\\Users\\\\Hello\\\\AppData\\\\Local\\\\Programs\\\\Python\\\\Python310\\\\DLLs\\\\_sqlite3.pyd'>, 'sqlite3.dbapi2': <module 'sqlite3.dbapi2' from 'C:\\\\Users\\\\Hello\\\\AppData\\\\Local\\\\Programs\\\\Python\\\\Python310\\\\lib\\\\sqlite3\\\\dbapi2.py'>, 'sqlite3': <module 'sqlite3' from 'C:\\\\Users\\\\Hello\\\\AppData\\\\Local\\\\Programs\\\\Python\\\\Python310\\\\lib\\\\sqlite3\\\\__init__.py'>, 'IPython.core.history': <module 'IPython.core.history' from 'C:\\\\Users\\\\Hello\\\\AppData\\\\Local\\\\Programs\\\\Python\\\\Python310\\\\lib\\\\site-packages\\\\IPython\\\\core\\\\history.py'>, 'IPython.core.logger': <module 'IPython.core.logger' from 'C:\\\\Users\\\\Hello\\\\AppData\\\\Local\\\\Programs\\\\Python\\\\Python310\\\\lib\\\\site-packages\\\\IPython\\\\core\\\\logger.py'>, 'IPython.core.payload': <module 'IPython.core.payload' from 'C:\\\\Users\\\\Hello\\\\AppData\\\\Local\\\\Programs\\\\Python\\\\Python310\\\\lib\\\\site-packages\\\\IPython\\\\core\\\\payload.py'>, 'IPython.core.usage': <module 'IPython.core.usage' from 'C:\\\\Users\\\\Hello\\\\AppData\\\\Local\\\\Programs\\\\Python\\\\Python310\\\\lib\\\\site-packages\\\\IPython\\\\core\\\\usage.py'>, 'IPython.utils.capture': <module 'IPython.utils.capture' from 'C:\\\\Users\\\\Hello\\\\AppData\\\\Local\\\\Programs\\\\Python\\\\Python310\\\\lib\\\\site-packages\\\\IPython\\\\utils\\\\capture.py'>, 'IPython.utils.io': <module 'IPython.utils.io' from 'C:\\\\Users\\\\Hello\\\\AppData\\\\Local\\\\Programs\\\\Python\\\\Python310\\\\lib\\\\site-packages\\\\IPython\\\\utils\\\\io.py'>, 'IPython.utils.strdispatch': <module 'IPython.utils.strdispatch' from 'C:\\\\Users\\\\Hello\\\\AppData\\\\Local\\\\Programs\\\\Python\\\\Python310\\\\lib\\\\site-packages\\\\IPython\\\\utils\\\\strdispatch.py'>, 'IPython.utils.syspathcontext': <module 'IPython.utils.syspathcontext' from 'C:\\\\Users\\\\Hello\\\\AppData\\\\Local\\\\Programs\\\\Python\\\\Python310\\\\lib\\\\site-packages\\\\IPython\\\\utils\\\\syspathcontext.py'>, 'IPython.core.async_helpers': <module 'IPython.core.async_helpers' from 'C:\\\\Users\\\\Hello\\\\AppData\\\\Local\\\\Programs\\\\Python\\\\Python310\\\\lib\\\\site-packages\\\\IPython\\\\core\\\\async_helpers.py'>, 'IPython.core.interactiveshell': <module 'IPython.core.interactiveshell' from 'C:\\\\Users\\\\Hello\\\\AppData\\\\Local\\\\Programs\\\\Python\\\\Python310\\\\lib\\\\site-packages\\\\IPython\\\\core\\\\interactiveshell.py'>, 'prompt_toolkit.application.current': <module 'prompt_toolkit.application.current' from 'C:\\\\Users\\\\Hello\\\\AppData\\\\Local\\\\Programs\\\\Python\\\\Python310\\\\lib\\\\site-packages\\\\prompt_toolkit\\\\application\\\\current.py'>, 'prompt_toolkit.eventloop.utils': <module 'prompt_toolkit.eventloop.utils' from 'C:\\\\Users\\\\Hello\\\\AppData\\\\Local\\\\Programs\\\\Python\\\\Python310\\\\lib\\\\site-packages\\\\prompt_toolkit\\\\eventloop\\\\utils.py'>, 'prompt_toolkit.eventloop.async_generator': <module 'prompt_toolkit.eventloop.async_generator' from 'C:\\\\Users\\\\Hello\\\\AppData\\\\Local\\\\Programs\\\\Python\\\\Python310\\\\lib\\\\site-packages\\\\prompt_toolkit\\\\eventloop\\\\async_generator.py'>, 'prompt_toolkit.eventloop.inputhook': <module 'prompt_toolkit.eventloop.inputhook' from 'C:\\\\Users\\\\Hello\\\\AppData\\\\Local\\\\Programs\\\\Python\\\\Python310\\\\lib\\\\site-packages\\\\prompt_toolkit\\\\eventloop\\\\inputhook.py'>, 'prompt_toolkit.eventloop': <module 'prompt_toolkit.eventloop' from 'C:\\\\Users\\\\Hello\\\\AppData\\\\Local\\\\Programs\\\\Python\\\\Python310\\\\lib\\\\site-packages\\\\prompt_toolkit\\\\eventloop\\\\__init__.py'>, 'prompt_toolkit.application.run_in_terminal': <module 'prompt_toolkit.application.run_in_terminal' from 'C:\\\\Users\\\\Hello\\\\AppData\\\\Local\\\\Programs\\\\Python\\\\Python310\\\\lib\\\\site-packages\\\\prompt_toolkit\\\\application\\\\run_in_terminal.py'>, 'prompt_toolkit.selection': <module 'prompt_toolkit.selection' from 'C:\\\\Users\\\\Hello\\\\AppData\\\\Local\\\\Programs\\\\Python\\\\Python310\\\\lib\\\\site-packages\\\\prompt_toolkit\\\\selection.py'>, 'prompt_toolkit.clipboard.base': <module 'prompt_toolkit.clipboard.base' from 'C:\\\\Users\\\\Hello\\\\AppData\\\\Local\\\\Programs\\\\Python\\\\Python310\\\\lib\\\\site-packages\\\\prompt_toolkit\\\\clipboard\\\\base.py'>, 'prompt_toolkit.clipboard.in_memory': <module 'prompt_toolkit.clipboard.in_memory' from 'C:\\\\Users\\\\Hello\\\\AppData\\\\Local\\\\Programs\\\\Python\\\\Python310\\\\lib\\\\site-packages\\\\prompt_toolkit\\\\clipboard\\\\in_memory.py'>, 'prompt_toolkit.clipboard': <module 'prompt_toolkit.clipboard' from 'C:\\\\Users\\\\Hello\\\\AppData\\\\Local\\\\Programs\\\\Python\\\\Python310\\\\lib\\\\site-packages\\\\prompt_toolkit\\\\clipboard\\\\__init__.py'>, 'prompt_toolkit.cache': <module 'prompt_toolkit.cache' from 'C:\\\\Users\\\\Hello\\\\AppData\\\\Local\\\\Programs\\\\Python\\\\Python310\\\\lib\\\\site-packages\\\\prompt_toolkit\\\\cache.py'>, 'prompt_toolkit.enums': <module 'prompt_toolkit.enums' from 'C:\\\\Users\\\\Hello\\\\AppData\\\\Local\\\\Programs\\\\Python\\\\Python310\\\\lib\\\\site-packages\\\\prompt_toolkit\\\\enums.py'>, 'prompt_toolkit.filters.base': <module 'prompt_toolkit.filters.base' from 'C:\\\\Users\\\\Hello\\\\AppData\\\\Local\\\\Programs\\\\Python\\\\Python310\\\\lib\\\\site-packages\\\\prompt_toolkit\\\\filters\\\\base.py'>, 'prompt_toolkit.filters.app': <module 'prompt_toolkit.filters.app' from 'C:\\\\Users\\\\Hello\\\\AppData\\\\Local\\\\Programs\\\\Python\\\\Python310\\\\lib\\\\site-packages\\\\prompt_toolkit\\\\filters\\\\app.py'>, 'prompt_toolkit.filters.cli': <module 'prompt_toolkit.filters.cli' from 'C:\\\\Users\\\\Hello\\\\AppData\\\\Local\\\\Programs\\\\Python\\\\Python310\\\\lib\\\\site-packages\\\\prompt_toolkit\\\\filters\\\\cli.py'>, 'prompt_toolkit.filters.utils': <module 'prompt_toolkit.filters.utils' from 'C:\\\\Users\\\\Hello\\\\AppData\\\\Local\\\\Programs\\\\Python\\\\Python310\\\\lib\\\\site-packages\\\\prompt_toolkit\\\\filters\\\\utils.py'>, 'prompt_toolkit.filters': <module 'prompt_toolkit.filters' from 'C:\\\\Users\\\\Hello\\\\AppData\\\\Local\\\\Programs\\\\Python\\\\Python310\\\\lib\\\\site-packages\\\\prompt_toolkit\\\\filters\\\\__init__.py'>, 'prompt_toolkit.document': <module 'prompt_toolkit.document' from 'C:\\\\Users\\\\Hello\\\\AppData\\\\Local\\\\Programs\\\\Python\\\\Python310\\\\lib\\\\site-packages\\\\prompt_toolkit\\\\document.py'>, 'prompt_toolkit.auto_suggest': <module 'prompt_toolkit.auto_suggest' from 'C:\\\\Users\\\\Hello\\\\AppData\\\\Local\\\\Programs\\\\Python\\\\Python310\\\\lib\\\\site-packages\\\\prompt_toolkit\\\\auto_suggest.py'>, 'prompt_toolkit.keys': <module 'prompt_toolkit.keys' from 'C:\\\\Users\\\\Hello\\\\AppData\\\\Local\\\\Programs\\\\Python\\\\Python310\\\\lib\\\\site-packages\\\\prompt_toolkit\\\\keys.py'>, 'prompt_toolkit.key_binding.key_bindings': <module 'prompt_toolkit.key_binding.key_bindings' from 'C:\\\\Users\\\\Hello\\\\AppData\\\\Local\\\\Programs\\\\Python\\\\Python310\\\\lib\\\\site-packages\\\\prompt_toolkit\\\\key_binding\\\\key_bindings.py'>, 'wcwidth.table_wide': <module 'wcwidth.table_wide' from 'C:\\\\Users\\\\Hello\\\\AppData\\\\Local\\\\Programs\\\\Python\\\\Python310\\\\lib\\\\site-packages\\\\wcwidth\\\\table_wide.py'>, 'wcwidth.table_zero': <module 'wcwidth.table_zero' from 'C:\\\\Users\\\\Hello\\\\AppData\\\\Local\\\\Programs\\\\Python\\\\Python310\\\\lib\\\\site-packages\\\\wcwidth\\\\table_zero.py'>, 'wcwidth.unicode_versions': <module 'wcwidth.unicode_versions' from 'C:\\\\Users\\\\Hello\\\\AppData\\\\Local\\\\Programs\\\\Python\\\\Python310\\\\lib\\\\site-packages\\\\wcwidth\\\\unicode_versions.py'>, 'wcwidth.wcwidth': <module 'wcwidth.wcwidth' from 'C:\\\\Users\\\\Hello\\\\AppData\\\\Local\\\\Programs\\\\Python\\\\Python310\\\\lib\\\\site-packages\\\\wcwidth\\\\wcwidth.py'>, 'wcwidth': <module 'wcwidth' from 'C:\\\\Users\\\\Hello\\\\AppData\\\\Local\\\\Programs\\\\Python\\\\Python310\\\\lib\\\\site-packages\\\\wcwidth\\\\__init__.py'>, 'prompt_toolkit.utils': <module 'prompt_toolkit.utils' from 'C:\\\\Users\\\\Hello\\\\AppData\\\\Local\\\\Programs\\\\Python\\\\Python310\\\\lib\\\\site-packages\\\\prompt_toolkit\\\\utils.py'>, 'prompt_toolkit.key_binding.key_processor': <module 'prompt_toolkit.key_binding.key_processor' from 'C:\\\\Users\\\\Hello\\\\AppData\\\\Local\\\\Programs\\\\Python\\\\Python310\\\\lib\\\\site-packages\\\\prompt_toolkit\\\\key_binding\\\\key_processor.py'>, 'prompt_toolkit.key_binding': <module 'prompt_toolkit.key_binding' from 'C:\\\\Users\\\\Hello\\\\AppData\\\\Local\\\\Programs\\\\Python\\\\Python310\\\\lib\\\\site-packages\\\\prompt_toolkit\\\\key_binding\\\\__init__.py'>, 'prompt_toolkit.key_binding.vi_state': <module 'prompt_toolkit.key_binding.vi_state' from 'C:\\\\Users\\\\Hello\\\\AppData\\\\Local\\\\Programs\\\\Python\\\\Python310\\\\lib\\\\site-packages\\\\prompt_toolkit\\\\key_binding\\\\vi_state.py'>, 'prompt_toolkit.cursor_shapes': <module 'prompt_toolkit.cursor_shapes' from 'C:\\\\Users\\\\Hello\\\\AppData\\\\Local\\\\Programs\\\\Python\\\\Python310\\\\lib\\\\site-packages\\\\prompt_toolkit\\\\cursor_shapes.py'>, 'prompt_toolkit.data_structures': <module 'prompt_toolkit.data_structures' from 'C:\\\\Users\\\\Hello\\\\AppData\\\\Local\\\\Programs\\\\Python\\\\Python310\\\\lib\\\\site-packages\\\\prompt_toolkit\\\\data_structures.py'>, 'prompt_toolkit.styles.base': <module 'prompt_toolkit.styles.base' from 'C:\\\\Users\\\\Hello\\\\AppData\\\\Local\\\\Programs\\\\Python\\\\Python310\\\\lib\\\\site-packages\\\\prompt_toolkit\\\\styles\\\\base.py'>, 'prompt_toolkit.styles.named_colors': <module 'prompt_toolkit.styles.named_colors' from 'C:\\\\Users\\\\Hello\\\\AppData\\\\Local\\\\Programs\\\\Python\\\\Python310\\\\lib\\\\site-packages\\\\prompt_toolkit\\\\styles\\\\named_colors.py'>, 'prompt_toolkit.styles.style': <module 'prompt_toolkit.styles.style' from 'C:\\\\Users\\\\Hello\\\\AppData\\\\Local\\\\Programs\\\\Python\\\\Python310\\\\lib\\\\site-packages\\\\prompt_toolkit\\\\styles\\\\style.py'>, 'prompt_toolkit.styles.defaults': <module 'prompt_toolkit.styles.defaults' from 'C:\\\\Users\\\\Hello\\\\AppData\\\\Local\\\\Programs\\\\Python\\\\Python310\\\\lib\\\\site-packages\\\\prompt_toolkit\\\\styles\\\\defaults.py'>, 'prompt_toolkit.styles.pygments': <module 'prompt_toolkit.styles.pygments' from 'C:\\\\Users\\\\Hello\\\\AppData\\\\Local\\\\Programs\\\\Python\\\\Python310\\\\lib\\\\site-packages\\\\prompt_toolkit\\\\styles\\\\pygments.py'>, 'colorsys': <module 'colorsys' from 'C:\\\\Users\\\\Hello\\\\AppData\\\\Local\\\\Programs\\\\Python\\\\Python310\\\\lib\\\\colorsys.py'>, 'prompt_toolkit.styles.style_transformation': <module 'prompt_toolkit.styles.style_transformation' from 'C:\\\\Users\\\\Hello\\\\AppData\\\\Local\\\\Programs\\\\Python\\\\Python310\\\\lib\\\\site-packages\\\\prompt_toolkit\\\\styles\\\\style_transformation.py'>, 'prompt_toolkit.styles': <module 'prompt_toolkit.styles' from 'C:\\\\Users\\\\Hello\\\\AppData\\\\Local\\\\Programs\\\\Python\\\\Python310\\\\lib\\\\site-packages\\\\prompt_toolkit\\\\styles\\\\__init__.py'>, 'prompt_toolkit.output.color_depth': <module 'prompt_toolkit.output.color_depth' from 'C:\\\\Users\\\\Hello\\\\AppData\\\\Local\\\\Programs\\\\Python\\\\Python310\\\\lib\\\\site-packages\\\\prompt_toolkit\\\\output\\\\color_depth.py'>, 'prompt_toolkit.output.base': <module 'prompt_toolkit.output.base' from 'C:\\\\Users\\\\Hello\\\\AppData\\\\Local\\\\Programs\\\\Python\\\\Python310\\\\lib\\\\site-packages\\\\prompt_toolkit\\\\output\\\\base.py'>, 'prompt_toolkit.output.flush_stdout': <module 'prompt_toolkit.output.flush_stdout' from 'C:\\\\Users\\\\Hello\\\\AppData\\\\Local\\\\Programs\\\\Python\\\\Python310\\\\lib\\\\site-packages\\\\prompt_toolkit\\\\output\\\\flush_stdout.py'>, 'prompt_toolkit.output.plain_text': <module 'prompt_toolkit.output.plain_text' from 'C:\\\\Users\\\\Hello\\\\AppData\\\\Local\\\\Programs\\\\Python\\\\Python310\\\\lib\\\\site-packages\\\\prompt_toolkit\\\\output\\\\plain_text.py'>, 'prompt_toolkit.output.defaults': <module 'prompt_toolkit.output.defaults' from 'C:\\\\Users\\\\Hello\\\\AppData\\\\Local\\\\Programs\\\\Python\\\\Python310\\\\lib\\\\site-packages\\\\prompt_toolkit\\\\output\\\\defaults.py'>, 'prompt_toolkit.output': <module 'prompt_toolkit.output' from 'C:\\\\Users\\\\Hello\\\\AppData\\\\Local\\\\Programs\\\\Python\\\\Python310\\\\lib\\\\site-packages\\\\prompt_toolkit\\\\output\\\\__init__.py'>, 'prompt_toolkit.output.vt100': <module 'prompt_toolkit.output.vt100' from 'C:\\\\Users\\\\Hello\\\\AppData\\\\Local\\\\Programs\\\\Python\\\\Python310\\\\lib\\\\site-packages\\\\prompt_toolkit\\\\output\\\\vt100.py'>, 'prompt_toolkit.mouse_events': <module 'prompt_toolkit.mouse_events' from 'C:\\\\Users\\\\Hello\\\\AppData\\\\Local\\\\Programs\\\\Python\\\\Python310\\\\lib\\\\site-packages\\\\prompt_toolkit\\\\mouse_events.py'>, 'prompt_toolkit.formatted_text.base': <module 'prompt_toolkit.formatted_text.base' from 'C:\\\\Users\\\\Hello\\\\AppData\\\\Local\\\\Programs\\\\Python\\\\Python310\\\\lib\\\\site-packages\\\\prompt_toolkit\\\\formatted_text\\\\base.py'>, 'prompt_toolkit.formatted_text.ansi': <module 'prompt_toolkit.formatted_text.ansi' from 'C:\\\\Users\\\\Hello\\\\AppData\\\\Local\\\\Programs\\\\Python\\\\Python310\\\\lib\\\\site-packages\\\\prompt_toolkit\\\\formatted_text\\\\ansi.py'>, 'xml': <module 'xml' from 'C:\\\\Users\\\\Hello\\\\AppData\\\\Local\\\\Programs\\\\Python\\\\Python310\\\\lib\\\\xml\\\\__init__.py'>, 'xml.dom.domreg': <module 'xml.dom.domreg' from 'C:\\\\Users\\\\Hello\\\\AppData\\\\Local\\\\Programs\\\\Python\\\\Python310\\\\lib\\\\xml\\\\dom\\\\domreg.py'>, 'xml.dom': <module 'xml.dom' from 'C:\\\\Users\\\\Hello\\\\AppData\\\\Local\\\\Programs\\\\Python\\\\Python310\\\\lib\\\\xml\\\\dom\\\\__init__.py'>, 'xml.dom.minicompat': <module 'xml.dom.minicompat' from 'C:\\\\Users\\\\Hello\\\\AppData\\\\Local\\\\Programs\\\\Python\\\\Python310\\\\lib\\\\xml\\\\dom\\\\minicompat.py'>, 'xml.dom.NodeFilter': <module 'xml.dom.NodeFilter' from 'C:\\\\Users\\\\Hello\\\\AppData\\\\Local\\\\Programs\\\\Python\\\\Python310\\\\lib\\\\xml\\\\dom\\\\NodeFilter.py'>, 'xml.dom.xmlbuilder': <module 'xml.dom.xmlbuilder' from 'C:\\\\Users\\\\Hello\\\\AppData\\\\Local\\\\Programs\\\\Python\\\\Python310\\\\lib\\\\xml\\\\dom\\\\xmlbuilder.py'>, 'xml.dom.minidom': <module 'xml.dom.minidom' from 'C:\\\\Users\\\\Hello\\\\AppData\\\\Local\\\\Programs\\\\Python\\\\Python310\\\\lib\\\\xml\\\\dom\\\\minidom.py'>, 'prompt_toolkit.formatted_text.html': <module 'prompt_toolkit.formatted_text.html' from 'C:\\\\Users\\\\Hello\\\\AppData\\\\Local\\\\Programs\\\\Python\\\\Python310\\\\lib\\\\site-packages\\\\prompt_toolkit\\\\formatted_text\\\\html.py'>, 'prompt_toolkit.formatted_text.pygments': <module 'prompt_toolkit.formatted_text.pygments' from 'C:\\\\Users\\\\Hello\\\\AppData\\\\Local\\\\Programs\\\\Python\\\\Python310\\\\lib\\\\site-packages\\\\prompt_toolkit\\\\formatted_text\\\\pygments.py'>, 'prompt_toolkit.formatted_text.utils': <module 'prompt_toolkit.formatted_text.utils' from 'C:\\\\Users\\\\Hello\\\\AppData\\\\Local\\\\Programs\\\\Python\\\\Python310\\\\lib\\\\site-packages\\\\prompt_toolkit\\\\formatted_text\\\\utils.py'>, 'prompt_toolkit.formatted_text': <module 'prompt_toolkit.formatted_text' from 'C:\\\\Users\\\\Hello\\\\AppData\\\\Local\\\\Programs\\\\Python\\\\Python310\\\\lib\\\\site-packages\\\\prompt_toolkit\\\\formatted_text\\\\__init__.py'>, 'prompt_toolkit.completion.base': <module 'prompt_toolkit.completion.base' from 'C:\\\\Users\\\\Hello\\\\AppData\\\\Local\\\\Programs\\\\Python\\\\Python310\\\\lib\\\\site-packages\\\\prompt_toolkit\\\\completion\\\\base.py'>, 'prompt_toolkit.completion.deduplicate': <module 'prompt_toolkit.completion.deduplicate' from 'C:\\\\Users\\\\Hello\\\\AppData\\\\Local\\\\Programs\\\\Python\\\\Python310\\\\lib\\\\site-packages\\\\prompt_toolkit\\\\completion\\\\deduplicate.py'>, 'prompt_toolkit.completion.filesystem': <module 'prompt_toolkit.completion.filesystem' from 'C:\\\\Users\\\\Hello\\\\AppData\\\\Local\\\\Programs\\\\Python\\\\Python310\\\\lib\\\\site-packages\\\\prompt_toolkit\\\\completion\\\\filesystem.py'>, 'prompt_toolkit.completion.word_completer': <module 'prompt_toolkit.completion.word_completer' from 'C:\\\\Users\\\\Hello\\\\AppData\\\\Local\\\\Programs\\\\Python\\\\Python310\\\\lib\\\\site-packages\\\\prompt_toolkit\\\\completion\\\\word_completer.py'>, 'prompt_toolkit.completion.fuzzy_completer': <module 'prompt_toolkit.completion.fuzzy_completer' from 'C:\\\\Users\\\\Hello\\\\AppData\\\\Local\\\\Programs\\\\Python\\\\Python310\\\\lib\\\\site-packages\\\\prompt_toolkit\\\\completion\\\\fuzzy_completer.py'>, 'prompt_toolkit.completion.nested': <module 'prompt_toolkit.completion.nested' from 'C:\\\\Users\\\\Hello\\\\AppData\\\\Local\\\\Programs\\\\Python\\\\Python310\\\\lib\\\\site-packages\\\\prompt_toolkit\\\\completion\\\\nested.py'>, 'prompt_toolkit.completion': <module 'prompt_toolkit.completion' from 'C:\\\\Users\\\\Hello\\\\AppData\\\\Local\\\\Programs\\\\Python\\\\Python310\\\\lib\\\\site-packages\\\\prompt_toolkit\\\\completion\\\\__init__.py'>, 'prompt_toolkit.history': <module 'prompt_toolkit.history' from 'C:\\\\Users\\\\Hello\\\\AppData\\\\Local\\\\Programs\\\\Python\\\\Python310\\\\lib\\\\site-packages\\\\prompt_toolkit\\\\history.py'>, 'prompt_toolkit.search': <module 'prompt_toolkit.search' from 'C:\\\\Users\\\\Hello\\\\AppData\\\\Local\\\\Programs\\\\Python\\\\Python310\\\\lib\\\\site-packages\\\\prompt_toolkit\\\\search.py'>, 'prompt_toolkit.validation': <module 'prompt_toolkit.validation' from 'C:\\\\Users\\\\Hello\\\\AppData\\\\Local\\\\Programs\\\\Python\\\\Python310\\\\lib\\\\site-packages\\\\prompt_toolkit\\\\validation.py'>, 'prompt_toolkit.buffer': <module 'prompt_toolkit.buffer' from 'C:\\\\Users\\\\Hello\\\\AppData\\\\Local\\\\Programs\\\\Python\\\\Python310\\\\lib\\\\site-packages\\\\prompt_toolkit\\\\buffer.py'>, 'prompt_toolkit.input.base': <module 'prompt_toolkit.input.base' from 'C:\\\\Users\\\\Hello\\\\AppData\\\\Local\\\\Programs\\\\Python\\\\Python310\\\\lib\\\\site-packages\\\\prompt_toolkit\\\\input\\\\base.py'>, 'prompt_toolkit.input.defaults': <module 'prompt_toolkit.input.defaults' from 'C:\\\\Users\\\\Hello\\\\AppData\\\\Local\\\\Programs\\\\Python\\\\Python310\\\\lib\\\\site-packages\\\\prompt_toolkit\\\\input\\\\defaults.py'>, 'prompt_toolkit.input': <module 'prompt_toolkit.input' from 'C:\\\\Users\\\\Hello\\\\AppData\\\\Local\\\\Programs\\\\Python\\\\Python310\\\\lib\\\\site-packages\\\\prompt_toolkit\\\\input\\\\__init__.py'>, 'prompt_toolkit.input.typeahead': <module 'prompt_toolkit.input.typeahead' from 'C:\\\\Users\\\\Hello\\\\AppData\\\\Local\\\\Programs\\\\Python\\\\Python310\\\\lib\\\\site-packages\\\\prompt_toolkit\\\\input\\\\typeahead.py'>, 'prompt_toolkit.key_binding.bindings': <module 'prompt_toolkit.key_binding.bindings' from 'C:\\\\Users\\\\Hello\\\\AppData\\\\Local\\\\Programs\\\\Python\\\\Python310\\\\lib\\\\site-packages\\\\prompt_toolkit\\\\key_binding\\\\bindings\\\\__init__.py'>, 'prompt_toolkit.key_binding.bindings.scroll': <module 'prompt_toolkit.key_binding.bindings.scroll' from 'C:\\\\Users\\\\Hello\\\\AppData\\\\Local\\\\Programs\\\\Python\\\\Python310\\\\lib\\\\site-packages\\\\prompt_toolkit\\\\key_binding\\\\bindings\\\\scroll.py'>, 'prompt_toolkit.key_binding.bindings.page_navigation': <module 'prompt_toolkit.key_binding.bindings.page_navigation' from 'C:\\\\Users\\\\Hello\\\\AppData\\\\Local\\\\Programs\\\\Python\\\\Python310\\\\lib\\\\site-packages\\\\prompt_toolkit\\\\key_binding\\\\bindings\\\\page_navigation.py'>, 'prompt_toolkit.lexers.base': <module 'prompt_toolkit.lexers.base' from 'C:\\\\Users\\\\Hello\\\\AppData\\\\Local\\\\Programs\\\\Python\\\\Python310\\\\lib\\\\site-packages\\\\prompt_toolkit\\\\lexers\\\\base.py'>, 'prompt_toolkit.lexers.pygments': <module 'prompt_toolkit.lexers.pygments' from 'C:\\\\Users\\\\Hello\\\\AppData\\\\Local\\\\Programs\\\\Python\\\\Python310\\\\lib\\\\site-packages\\\\prompt_toolkit\\\\lexers\\\\pygments.py'>, 'prompt_toolkit.lexers': <module 'prompt_toolkit.lexers' from 'C:\\\\Users\\\\Hello\\\\AppData\\\\Local\\\\Programs\\\\Python\\\\Python310\\\\lib\\\\site-packages\\\\prompt_toolkit\\\\lexers\\\\__init__.py'>, 'prompt_toolkit.layout.utils': <module 'prompt_toolkit.layout.utils' from 'C:\\\\Users\\\\Hello\\\\AppData\\\\Local\\\\Programs\\\\Python\\\\Python310\\\\lib\\\\site-packages\\\\prompt_toolkit\\\\layout\\\\utils.py'>, 'prompt_toolkit.layout.processors': <module 'prompt_toolkit.layout.processors' from 'C:\\\\Users\\\\Hello\\\\AppData\\\\Local\\\\Programs\\\\Python\\\\Python310\\\\lib\\\\site-packages\\\\prompt_toolkit\\\\layout\\\\processors.py'>, 'prompt_toolkit.layout.controls': <module 'prompt_toolkit.layout.controls' from 'C:\\\\Users\\\\Hello\\\\AppData\\\\Local\\\\Programs\\\\Python\\\\Python310\\\\lib\\\\site-packages\\\\prompt_toolkit\\\\layout\\\\controls.py'>, 'prompt_toolkit.layout.dimension': <module 'prompt_toolkit.layout.dimension' from 'C:\\\\Users\\\\Hello\\\\AppData\\\\Local\\\\Programs\\\\Python\\\\Python310\\\\lib\\\\site-packages\\\\prompt_toolkit\\\\layout\\\\dimension.py'>, 'prompt_toolkit.layout.margins': <module 'prompt_toolkit.layout.margins' from 'C:\\\\Users\\\\Hello\\\\AppData\\\\Local\\\\Programs\\\\Python\\\\Python310\\\\lib\\\\site-packages\\\\prompt_toolkit\\\\layout\\\\margins.py'>, 'prompt_toolkit.layout.mouse_handlers': <module 'prompt_toolkit.layout.mouse_handlers' from 'C:\\\\Users\\\\Hello\\\\AppData\\\\Local\\\\Programs\\\\Python\\\\Python310\\\\lib\\\\site-packages\\\\prompt_toolkit\\\\layout\\\\mouse_handlers.py'>, 'prompt_toolkit.layout.screen': <module 'prompt_toolkit.layout.screen' from 'C:\\\\Users\\\\Hello\\\\AppData\\\\Local\\\\Programs\\\\Python\\\\Python310\\\\lib\\\\site-packages\\\\prompt_toolkit\\\\layout\\\\screen.py'>, 'prompt_toolkit.layout.containers': <module 'prompt_toolkit.layout.containers' from 'C:\\\\Users\\\\Hello\\\\AppData\\\\Local\\\\Programs\\\\Python\\\\Python310\\\\lib\\\\site-packages\\\\prompt_toolkit\\\\layout\\\\containers.py'>, 'prompt_toolkit.layout.layout': <module 'prompt_toolkit.layout.layout' from 'C:\\\\Users\\\\Hello\\\\AppData\\\\Local\\\\Programs\\\\Python\\\\Python310\\\\lib\\\\site-packages\\\\prompt_toolkit\\\\layout\\\\layout.py'>, 'prompt_toolkit.layout.menus': <module 'prompt_toolkit.layout.menus' from 'C:\\\\Users\\\\Hello\\\\AppData\\\\Local\\\\Programs\\\\Python\\\\Python310\\\\lib\\\\site-packages\\\\prompt_toolkit\\\\layout\\\\menus.py'>, 'prompt_toolkit.layout.scrollable_pane': <module 'prompt_toolkit.layout.scrollable_pane' from 'C:\\\\Users\\\\Hello\\\\AppData\\\\Local\\\\Programs\\\\Python\\\\Python310\\\\lib\\\\site-packages\\\\prompt_toolkit\\\\layout\\\\scrollable_pane.py'>, 'prompt_toolkit.layout': <module 'prompt_toolkit.layout' from 'C:\\\\Users\\\\Hello\\\\AppData\\\\Local\\\\Programs\\\\Python\\\\Python310\\\\lib\\\\site-packages\\\\prompt_toolkit\\\\layout\\\\__init__.py'>, 'prompt_toolkit.key_binding.bindings.completion': <module 'prompt_toolkit.key_binding.bindings.completion' from 'C:\\\\Users\\\\Hello\\\\AppData\\\\Local\\\\Programs\\\\Python\\\\Python310\\\\lib\\\\site-packages\\\\prompt_toolkit\\\\key_binding\\\\bindings\\\\completion.py'>, 'prompt_toolkit.key_binding.bindings.named_commands': <module 'prompt_toolkit.key_binding.bindings.named_commands' from 'C:\\\\Users\\\\Hello\\\\AppData\\\\Local\\\\Programs\\\\Python\\\\Python310\\\\lib\\\\site-packages\\\\prompt_toolkit\\\\key_binding\\\\bindings\\\\named_commands.py'>, 'prompt_toolkit.key_binding.bindings.basic': <module 'prompt_toolkit.key_binding.bindings.basic' from 'C:\\\\Users\\\\Hello\\\\AppData\\\\Local\\\\Programs\\\\Python\\\\Python310\\\\lib\\\\site-packages\\\\prompt_toolkit\\\\key_binding\\\\bindings\\\\basic.py'>, 'prompt_toolkit.key_binding.bindings.cpr': <module 'prompt_toolkit.key_binding.bindings.cpr' from 'C:\\\\Users\\\\Hello\\\\AppData\\\\Local\\\\Programs\\\\Python\\\\Python310\\\\lib\\\\site-packages\\\\prompt_toolkit\\\\key_binding\\\\bindings\\\\cpr.py'>, 'prompt_toolkit.key_binding.bindings.emacs': <module 'prompt_toolkit.key_binding.bindings.emacs' from 'C:\\\\Users\\\\Hello\\\\AppData\\\\Local\\\\Programs\\\\Python\\\\Python310\\\\lib\\\\site-packages\\\\prompt_toolkit\\\\key_binding\\\\bindings\\\\emacs.py'>, 'prompt_toolkit.key_binding.bindings.mouse': <module 'prompt_toolkit.key_binding.bindings.mouse' from 'C:\\\\Users\\\\Hello\\\\AppData\\\\Local\\\\Programs\\\\Python\\\\Python310\\\\lib\\\\site-packages\\\\prompt_toolkit\\\\key_binding\\\\bindings\\\\mouse.py'>, 'prompt_toolkit.input.ansi_escape_sequences': <module 'prompt_toolkit.input.ansi_escape_sequences' from 'C:\\\\Users\\\\Hello\\\\AppData\\\\Local\\\\Programs\\\\Python\\\\Python310\\\\lib\\\\site-packages\\\\prompt_toolkit\\\\input\\\\ansi_escape_sequences.py'>, 'prompt_toolkit.input.vt100_parser': <module 'prompt_toolkit.input.vt100_parser' from 'C:\\\\Users\\\\Hello\\\\AppData\\\\Local\\\\Programs\\\\Python\\\\Python310\\\\lib\\\\site-packages\\\\prompt_toolkit\\\\input\\\\vt100_parser.py'>, 'prompt_toolkit.key_binding.digraphs': <module 'prompt_toolkit.key_binding.digraphs' from 'C:\\\\Users\\\\Hello\\\\AppData\\\\Local\\\\Programs\\\\Python\\\\Python310\\\\lib\\\\site-packages\\\\prompt_toolkit\\\\key_binding\\\\digraphs.py'>, 'prompt_toolkit.key_binding.bindings.vi': <module 'prompt_toolkit.key_binding.bindings.vi' from 'C:\\\\Users\\\\Hello\\\\AppData\\\\Local\\\\Programs\\\\Python\\\\Python310\\\\lib\\\\site-packages\\\\prompt_toolkit\\\\key_binding\\\\bindings\\\\vi.py'>, 'prompt_toolkit.key_binding.defaults': <module 'prompt_toolkit.key_binding.defaults' from 'C:\\\\Users\\\\Hello\\\\AppData\\\\Local\\\\Programs\\\\Python\\\\Python310\\\\lib\\\\site-packages\\\\prompt_toolkit\\\\key_binding\\\\defaults.py'>, 'prompt_toolkit.key_binding.emacs_state': <module 'prompt_toolkit.key_binding.emacs_state' from 'C:\\\\Users\\\\Hello\\\\AppData\\\\Local\\\\Programs\\\\Python\\\\Python310\\\\lib\\\\site-packages\\\\prompt_toolkit\\\\key_binding\\\\emacs_state.py'>, 'prompt_toolkit.layout.dummy': <module 'prompt_toolkit.layout.dummy' from 'C:\\\\Users\\\\Hello\\\\AppData\\\\Local\\\\Programs\\\\Python\\\\Python310\\\\lib\\\\site-packages\\\\prompt_toolkit\\\\layout\\\\dummy.py'>, 'prompt_toolkit.renderer': <module 'prompt_toolkit.renderer' from 'C:\\\\Users\\\\Hello\\\\AppData\\\\Local\\\\Programs\\\\Python\\\\Python310\\\\lib\\\\site-packages\\\\prompt_toolkit\\\\renderer.py'>, 'prompt_toolkit.application.application': <module 'prompt_toolkit.application.application' from 'C:\\\\Users\\\\Hello\\\\AppData\\\\Local\\\\Programs\\\\Python\\\\Python310\\\\lib\\\\site-packages\\\\prompt_toolkit\\\\application\\\\application.py'>, 'prompt_toolkit.application.dummy': <module 'prompt_toolkit.application.dummy' from 'C:\\\\Users\\\\Hello\\\\AppData\\\\Local\\\\Programs\\\\Python\\\\Python310\\\\lib\\\\site-packages\\\\prompt_toolkit\\\\application\\\\dummy.py'>, 'prompt_toolkit.application': <module 'prompt_toolkit.application' from 'C:\\\\Users\\\\Hello\\\\AppData\\\\Local\\\\Programs\\\\Python\\\\Python310\\\\lib\\\\site-packages\\\\prompt_toolkit\\\\application\\\\__init__.py'>, 'prompt_toolkit.key_binding.bindings.focus': <module 'prompt_toolkit.key_binding.bindings.focus' from 'C:\\\\Users\\\\Hello\\\\AppData\\\\Local\\\\Programs\\\\Python\\\\Python310\\\\lib\\\\site-packages\\\\prompt_toolkit\\\\key_binding\\\\bindings\\\\focus.py'>, 'prompt_toolkit.widgets.toolbars': <module 'prompt_toolkit.widgets.toolbars' from 'C:\\\\Users\\\\Hello\\\\AppData\\\\Local\\\\Programs\\\\Python\\\\Python310\\\\lib\\\\site-packages\\\\prompt_toolkit\\\\widgets\\\\toolbars.py'>, 'prompt_toolkit.widgets.base': <module 'prompt_toolkit.widgets.base' from 'C:\\\\Users\\\\Hello\\\\AppData\\\\Local\\\\Programs\\\\Python\\\\Python310\\\\lib\\\\site-packages\\\\prompt_toolkit\\\\widgets\\\\base.py'>, 'prompt_toolkit.widgets.dialogs': <module 'prompt_toolkit.widgets.dialogs' from 'C:\\\\Users\\\\Hello\\\\AppData\\\\Local\\\\Programs\\\\Python\\\\Python310\\\\lib\\\\site-packages\\\\prompt_toolkit\\\\widgets\\\\dialogs.py'>, 'prompt_toolkit.widgets.menus': <module 'prompt_toolkit.widgets.menus' from 'C:\\\\Users\\\\Hello\\\\AppData\\\\Local\\\\Programs\\\\Python\\\\Python310\\\\lib\\\\site-packages\\\\prompt_toolkit\\\\widgets\\\\menus.py'>, 'prompt_toolkit.widgets': <module 'prompt_toolkit.widgets' from 'C:\\\\Users\\\\Hello\\\\AppData\\\\Local\\\\Programs\\\\Python\\\\Python310\\\\lib\\\\site-packages\\\\prompt_toolkit\\\\widgets\\\\__init__.py'>, 'prompt_toolkit.shortcuts.dialogs': <module 'prompt_toolkit.shortcuts.dialogs' from 'C:\\\\Users\\\\Hello\\\\AppData\\\\Local\\\\Programs\\\\Python\\\\Python310\\\\lib\\\\site-packages\\\\prompt_toolkit\\\\shortcuts\\\\dialogs.py'>, 'prompt_toolkit.shortcuts.progress_bar.formatters': <module 'prompt_toolkit.shortcuts.progress_bar.formatters' from 'C:\\\\Users\\\\Hello\\\\AppData\\\\Local\\\\Programs\\\\Python\\\\Python310\\\\lib\\\\site-packages\\\\prompt_toolkit\\\\shortcuts\\\\progress_bar\\\\formatters.py'>, 'prompt_toolkit.shortcuts.progress_bar.base': <module 'prompt_toolkit.shortcuts.progress_bar.base' from 'C:\\\\Users\\\\Hello\\\\AppData\\\\Local\\\\Programs\\\\Python\\\\Python310\\\\lib\\\\site-packages\\\\prompt_toolkit\\\\shortcuts\\\\progress_bar\\\\base.py'>, 'prompt_toolkit.shortcuts.progress_bar': <module 'prompt_toolkit.shortcuts.progress_bar' from 'C:\\\\Users\\\\Hello\\\\AppData\\\\Local\\\\Programs\\\\Python\\\\Python310\\\\lib\\\\site-packages\\\\prompt_toolkit\\\\shortcuts\\\\progress_bar\\\\__init__.py'>, 'prompt_toolkit.key_binding.bindings.auto_suggest': <module 'prompt_toolkit.key_binding.bindings.auto_suggest' from 'C:\\\\Users\\\\Hello\\\\AppData\\\\Local\\\\Programs\\\\Python\\\\Python310\\\\lib\\\\site-packages\\\\prompt_toolkit\\\\key_binding\\\\bindings\\\\auto_suggest.py'>, 'prompt_toolkit.key_binding.bindings.open_in_editor': <module 'prompt_toolkit.key_binding.bindings.open_in_editor' from 'C:\\\\Users\\\\Hello\\\\AppData\\\\Local\\\\Programs\\\\Python\\\\Python310\\\\lib\\\\site-packages\\\\prompt_toolkit\\\\key_binding\\\\bindings\\\\open_in_editor.py'>, 'prompt_toolkit.shortcuts.prompt': <module 'prompt_toolkit.shortcuts.prompt' from 'C:\\\\Users\\\\Hello\\\\AppData\\\\Local\\\\Programs\\\\Python\\\\Python310\\\\lib\\\\site-packages\\\\prompt_toolkit\\\\shortcuts\\\\prompt.py'>, 'prompt_toolkit.shortcuts.utils': <module 'prompt_toolkit.shortcuts.utils' from 'C:\\\\Users\\\\Hello\\\\AppData\\\\Local\\\\Programs\\\\Python\\\\Python310\\\\lib\\\\site-packages\\\\prompt_toolkit\\\\shortcuts\\\\utils.py'>, 'prompt_toolkit.shortcuts': <module 'prompt_toolkit.shortcuts' from 'C:\\\\Users\\\\Hello\\\\AppData\\\\Local\\\\Programs\\\\Python\\\\Python310\\\\lib\\\\site-packages\\\\prompt_toolkit\\\\shortcuts\\\\__init__.py'>, 'prompt_toolkit': <module 'prompt_toolkit' from 'C:\\\\Users\\\\Hello\\\\AppData\\\\Local\\\\Programs\\\\Python\\\\Python310\\\\lib\\\\site-packages\\\\prompt_toolkit\\\\__init__.py'>, 'prompt_toolkit.patch_stdout': <module 'prompt_toolkit.patch_stdout' from 'C:\\\\Users\\\\Hello\\\\AppData\\\\Local\\\\Programs\\\\Python\\\\Python310\\\\lib\\\\site-packages\\\\prompt_toolkit\\\\patch_stdout.py'>, 'unicodedata': <module 'unicodedata' from 'C:\\\\Users\\\\Hello\\\\AppData\\\\Local\\\\Programs\\\\Python\\\\Python310\\\\DLLs\\\\unicodedata.pyd'>, 'IPython.core.guarded_eval': <module 'IPython.core.guarded_eval' from 'C:\\\\Users\\\\Hello\\\\AppData\\\\Local\\\\Programs\\\\Python\\\\Python310\\\\lib\\\\site-packages\\\\IPython\\\\core\\\\guarded_eval.py'>, 'IPython.core.latex_symbols': <module 'IPython.core.latex_symbols' from 'C:\\\\Users\\\\Hello\\\\AppData\\\\Local\\\\Programs\\\\Python\\\\Python310\\\\lib\\\\site-packages\\\\IPython\\\\core\\\\latex_symbols.py'>, 'IPython.utils.generics': <module 'IPython.utils.generics' from 'C:\\\\Users\\\\Hello\\\\AppData\\\\Local\\\\Programs\\\\Python\\\\Python310\\\\lib\\\\site-packages\\\\IPython\\\\utils\\\\generics.py'>, 'parso.utils': <module 'parso.utils' from 'C:\\\\Users\\\\Hello\\\\AppData\\\\Local\\\\Programs\\\\Python\\\\Python310\\\\lib\\\\site-packages\\\\parso\\\\utils.py'>, 'parso.tree': <module 'parso.tree' from 'C:\\\\Users\\\\Hello\\\\AppData\\\\Local\\\\Programs\\\\Python\\\\Python310\\\\lib\\\\site-packages\\\\parso\\\\tree.py'>, 'parso.python': <module 'parso.python' from 'C:\\\\Users\\\\Hello\\\\AppData\\\\Local\\\\Programs\\\\Python\\\\Python310\\\\lib\\\\site-packages\\\\parso\\\\python\\\\__init__.py'>, 'parso.python.token': <module 'parso.python.token' from 'C:\\\\Users\\\\Hello\\\\AppData\\\\Local\\\\Programs\\\\Python\\\\Python310\\\\lib\\\\site-packages\\\\parso\\\\python\\\\token.py'>, 'parso.python.tokenize': <module 'parso.python.tokenize' from 'C:\\\\Users\\\\Hello\\\\AppData\\\\Local\\\\Programs\\\\Python\\\\Python310\\\\lib\\\\site-packages\\\\parso\\\\python\\\\tokenize.py'>, 'parso.pgen2.grammar_parser': <module 'parso.pgen2.grammar_parser' from 'C:\\\\Users\\\\Hello\\\\AppData\\\\Local\\\\Programs\\\\Python\\\\Python310\\\\lib\\\\site-packages\\\\parso\\\\pgen2\\\\grammar_parser.py'>, 'parso.pgen2.generator': <module 'parso.pgen2.generator' from 'C:\\\\Users\\\\Hello\\\\AppData\\\\Local\\\\Programs\\\\Python\\\\Python310\\\\lib\\\\site-packages\\\\parso\\\\pgen2\\\\generator.py'>, 'parso.pgen2': <module 'parso.pgen2' from 'C:\\\\Users\\\\Hello\\\\AppData\\\\Local\\\\Programs\\\\Python\\\\Python310\\\\lib\\\\site-packages\\\\parso\\\\pgen2\\\\__init__.py'>, 'parso.parser': <module 'parso.parser' from 'C:\\\\Users\\\\Hello\\\\AppData\\\\Local\\\\Programs\\\\Python\\\\Python310\\\\lib\\\\site-packages\\\\parso\\\\parser.py'>, 'parso._compatibility': <module 'parso._compatibility' from 'C:\\\\Users\\\\Hello\\\\AppData\\\\Local\\\\Programs\\\\Python\\\\Python310\\\\lib\\\\site-packages\\\\parso\\\\_compatibility.py'>, 'difflib': <module 'difflib' from 'C:\\\\Users\\\\Hello\\\\AppData\\\\Local\\\\Programs\\\\Python\\\\Python310\\\\lib\\\\difflib.py'>, 'parso.python.prefix': <module 'parso.python.prefix' from 'C:\\\\Users\\\\Hello\\\\AppData\\\\Local\\\\Programs\\\\Python\\\\Python310\\\\lib\\\\site-packages\\\\parso\\\\python\\\\prefix.py'>, 'parso.python.tree': <module 'parso.python.tree' from 'C:\\\\Users\\\\Hello\\\\AppData\\\\Local\\\\Programs\\\\Python\\\\Python310\\\\lib\\\\site-packages\\\\parso\\\\python\\\\tree.py'>, 'parso.python.parser': <module 'parso.python.parser' from 'C:\\\\Users\\\\Hello\\\\AppData\\\\Local\\\\Programs\\\\Python\\\\Python310\\\\lib\\\\site-packages\\\\parso\\\\python\\\\parser.py'>, 'parso.python.diff': <module 'parso.python.diff' from 'C:\\\\Users\\\\Hello\\\\AppData\\\\Local\\\\Programs\\\\Python\\\\Python310\\\\lib\\\\site-packages\\\\parso\\\\python\\\\diff.py'>, 'gc': <module 'gc' (built-in)>, 'parso.cache': <module 'parso.cache' from 'C:\\\\Users\\\\Hello\\\\AppData\\\\Local\\\\Programs\\\\Python\\\\Python310\\\\lib\\\\site-packages\\\\parso\\\\cache.py'>, 'parso.normalizer': <module 'parso.normalizer' from 'C:\\\\Users\\\\Hello\\\\AppData\\\\Local\\\\Programs\\\\Python\\\\Python310\\\\lib\\\\site-packages\\\\parso\\\\normalizer.py'>, 'parso.python.errors': <module 'parso.python.errors' from 'C:\\\\Users\\\\Hello\\\\AppData\\\\Local\\\\Programs\\\\Python\\\\Python310\\\\lib\\\\site-packages\\\\parso\\\\python\\\\errors.py'>, 'parso.python.pep8': <module 'parso.python.pep8' from 'C:\\\\Users\\\\Hello\\\\AppData\\\\Local\\\\Programs\\\\Python\\\\Python310\\\\lib\\\\site-packages\\\\parso\\\\python\\\\pep8.py'>, 'parso.file_io': <module 'parso.file_io' from 'C:\\\\Users\\\\Hello\\\\AppData\\\\Local\\\\Programs\\\\Python\\\\Python310\\\\lib\\\\site-packages\\\\parso\\\\file_io.py'>, 'parso.grammar': <module 'parso.grammar' from 'C:\\\\Users\\\\Hello\\\\AppData\\\\Local\\\\Programs\\\\Python\\\\Python310\\\\lib\\\\site-packages\\\\parso\\\\grammar.py'>, 'parso': <module 'parso' from 'C:\\\\Users\\\\Hello\\\\AppData\\\\Local\\\\Programs\\\\Python\\\\Python310\\\\lib\\\\site-packages\\\\parso\\\\__init__.py'>, 'jedi.parser_utils': <module 'jedi.parser_utils' from 'C:\\\\Users\\\\Hello\\\\AppData\\\\Local\\\\Programs\\\\Python\\\\Python310\\\\lib\\\\site-packages\\\\jedi\\\\parser_utils.py'>, 'jedi.debug': <module 'jedi.debug' from 'C:\\\\Users\\\\Hello\\\\AppData\\\\Local\\\\Programs\\\\Python\\\\Python310\\\\lib\\\\site-packages\\\\jedi\\\\debug.py'>, 'jedi.settings': <module 'jedi.settings' from 'C:\\\\Users\\\\Hello\\\\AppData\\\\Local\\\\Programs\\\\Python\\\\Python310\\\\lib\\\\site-packages\\\\jedi\\\\settings.py'>, 'jedi.cache': <module 'jedi.cache' from 'C:\\\\Users\\\\Hello\\\\AppData\\\\Local\\\\Programs\\\\Python\\\\Python310\\\\lib\\\\site-packages\\\\jedi\\\\cache.py'>, 'jedi.file_io': <module 'jedi.file_io' from 'C:\\\\Users\\\\Hello\\\\AppData\\\\Local\\\\Programs\\\\Python\\\\Python310\\\\lib\\\\site-packages\\\\jedi\\\\file_io.py'>, 'jedi.inference.cache': <module 'jedi.inference.cache' from 'C:\\\\Users\\\\Hello\\\\AppData\\\\Local\\\\Programs\\\\Python\\\\Python310\\\\lib\\\\site-packages\\\\jedi\\\\inference\\\\cache.py'>, 'jedi.inference.helpers': <module 'jedi.inference.helpers' from 'C:\\\\Users\\\\Hello\\\\AppData\\\\Local\\\\Programs\\\\Python\\\\Python310\\\\lib\\\\site-packages\\\\jedi\\\\inference\\\\helpers.py'>, 'jedi.inference.utils': <module 'jedi.inference.utils' from 'C:\\\\Users\\\\Hello\\\\AppData\\\\Local\\\\Programs\\\\Python\\\\Python310\\\\lib\\\\site-packages\\\\jedi\\\\inference\\\\utils.py'>, 'jedi.inference.base_value': <module 'jedi.inference.base_value' from 'C:\\\\Users\\\\Hello\\\\AppData\\\\Local\\\\Programs\\\\Python\\\\Python310\\\\lib\\\\site-packages\\\\jedi\\\\inference\\\\base_value.py'>, 'jedi.inference.sys_path': <module 'jedi.inference.sys_path' from 'C:\\\\Users\\\\Hello\\\\AppData\\\\Local\\\\Programs\\\\Python\\\\Python310\\\\lib\\\\site-packages\\\\jedi\\\\inference\\\\sys_path.py'>, 'jedi.inference.recursion': <module 'jedi.inference.recursion' from 'C:\\\\Users\\\\Hello\\\\AppData\\\\Local\\\\Programs\\\\Python\\\\Python310\\\\lib\\\\site-packages\\\\jedi\\\\inference\\\\recursion.py'>, 'jedi.inference.flow_analysis': <module 'jedi.inference.flow_analysis' from 'C:\\\\Users\\\\Hello\\\\AppData\\\\Local\\\\Programs\\\\Python\\\\Python310\\\\lib\\\\site-packages\\\\jedi\\\\inference\\\\flow_analysis.py'>, 'jedi.common': <module 'jedi.common' from 'C:\\\\Users\\\\Hello\\\\AppData\\\\Local\\\\Programs\\\\Python\\\\Python310\\\\lib\\\\site-packages\\\\jedi\\\\common.py'>, 'jedi.inference.lazy_value': <module 'jedi.inference.lazy_value' from 'C:\\\\Users\\\\Hello\\\\AppData\\\\Local\\\\Programs\\\\Python\\\\Python310\\\\lib\\\\site-packages\\\\jedi\\\\inference\\\\lazy_value.py'>, 'jedi.inference.docstrings': <module 'jedi.inference.docstrings' from 'C:\\\\Users\\\\Hello\\\\AppData\\\\Local\\\\Programs\\\\Python\\\\Python310\\\\lib\\\\site-packages\\\\jedi\\\\inference\\\\docstrings.py'>, 'jedi.plugins': <module 'jedi.plugins' from 'C:\\\\Users\\\\Hello\\\\AppData\\\\Local\\\\Programs\\\\Python\\\\Python310\\\\lib\\\\site-packages\\\\jedi\\\\plugins\\\\__init__.py'>, 'jedi.inference.names': <module 'jedi.inference.names' from 'C:\\\\Users\\\\Hello\\\\AppData\\\\Local\\\\Programs\\\\Python\\\\Python310\\\\lib\\\\site-packages\\\\jedi\\\\inference\\\\names.py'>, 'jedi.inference.filters': <module 'jedi.inference.filters' from 'C:\\\\Users\\\\Hello\\\\AppData\\\\Local\\\\Programs\\\\Python\\\\Python310\\\\lib\\\\site-packages\\\\jedi\\\\inference\\\\filters.py'>, 'jedi.inference.compiled.getattr_static': <module 'jedi.inference.compiled.getattr_static' from 'C:\\\\Users\\\\Hello\\\\AppData\\\\Local\\\\Programs\\\\Python\\\\Python310\\\\lib\\\\site-packages\\\\jedi\\\\inference\\\\compiled\\\\getattr_static.py'>, 'jedi.inference.compiled.access': <module 'jedi.inference.compiled.access' from 'C:\\\\Users\\\\Hello\\\\AppData\\\\Local\\\\Programs\\\\Python\\\\Python310\\\\lib\\\\site-packages\\\\jedi\\\\inference\\\\compiled\\\\access.py'>, 'jedi.inference.signature': <module 'jedi.inference.signature' from 'C:\\\\Users\\\\Hello\\\\AppData\\\\Local\\\\Programs\\\\Python\\\\Python310\\\\lib\\\\site-packages\\\\jedi\\\\inference\\\\signature.py'>, 'jedi.inference.context': <module 'jedi.inference.context' from 'C:\\\\Users\\\\Hello\\\\AppData\\\\Local\\\\Programs\\\\Python\\\\Python310\\\\lib\\\\site-packages\\\\jedi\\\\inference\\\\context.py'>, 'jedi.inference.compiled.value': <module 'jedi.inference.compiled.value' from 'C:\\\\Users\\\\Hello\\\\AppData\\\\Local\\\\Programs\\\\Python\\\\Python310\\\\lib\\\\site-packages\\\\jedi\\\\inference\\\\compiled\\\\value.py'>, 'jedi.inference.compiled': <module 'jedi.inference.compiled' from 'C:\\\\Users\\\\Hello\\\\AppData\\\\Local\\\\Programs\\\\Python\\\\Python310\\\\lib\\\\site-packages\\\\jedi\\\\inference\\\\compiled\\\\__init__.py'>, 'jedi.inference.analysis': <module 'jedi.inference.analysis' from 'C:\\\\Users\\\\Hello\\\\AppData\\\\Local\\\\Programs\\\\Python\\\\Python310\\\\lib\\\\site-packages\\\\jedi\\\\inference\\\\analysis.py'>, 'jedi.inference.gradual': <module 'jedi.inference.gradual' from 'C:\\\\Users\\\\Hello\\\\AppData\\\\Local\\\\Programs\\\\Python\\\\Python310\\\\lib\\\\site-packages\\\\jedi\\\\inference\\\\gradual\\\\__init__.py'>, 'jedi.inference.value.module': <module 'jedi.inference.value.module' from 'C:\\\\Users\\\\Hello\\\\AppData\\\\Local\\\\Programs\\\\Python\\\\Python310\\\\lib\\\\site-packages\\\\jedi\\\\inference\\\\value\\\\module.py'>, 'jedi.inference.value.dynamic_arrays': <module 'jedi.inference.value.dynamic_arrays' from 'C:\\\\Users\\\\Hello\\\\AppData\\\\Local\\\\Programs\\\\Python\\\\Python310\\\\lib\\\\site-packages\\\\jedi\\\\inference\\\\value\\\\dynamic_arrays.py'>, 'jedi.inference.value.iterable': <module 'jedi.inference.value.iterable' from 'C:\\\\Users\\\\Hello\\\\AppData\\\\Local\\\\Programs\\\\Python\\\\Python310\\\\lib\\\\site-packages\\\\jedi\\\\inference\\\\value\\\\iterable.py'>, 'jedi.inference.arguments': <module 'jedi.inference.arguments' from 'C:\\\\Users\\\\Hello\\\\AppData\\\\Local\\\\Programs\\\\Python\\\\Python310\\\\lib\\\\site-packages\\\\jedi\\\\inference\\\\arguments.py'>, 'jedi.inference.parser_cache': <module 'jedi.inference.parser_cache' from 'C:\\\\Users\\\\Hello\\\\AppData\\\\Local\\\\Programs\\\\Python\\\\Python310\\\\lib\\\\site-packages\\\\jedi\\\\inference\\\\parser_cache.py'>, 'jedi.inference.gradual.generics': <module 'jedi.inference.gradual.generics' from 'C:\\\\Users\\\\Hello\\\\AppData\\\\Local\\\\Programs\\\\Python\\\\Python310\\\\lib\\\\site-packages\\\\jedi\\\\inference\\\\gradual\\\\generics.py'>, 'jedi.inference.value.function': <module 'jedi.inference.value.function' from 'C:\\\\Users\\\\Hello\\\\AppData\\\\Local\\\\Programs\\\\Python\\\\Python310\\\\lib\\\\site-packages\\\\jedi\\\\inference\\\\value\\\\function.py'>, 'jedi.inference.value.klass': <module 'jedi.inference.value.klass' from 'C:\\\\Users\\\\Hello\\\\AppData\\\\Local\\\\Programs\\\\Python\\\\Python310\\\\lib\\\\site-packages\\\\jedi\\\\inference\\\\value\\\\klass.py'>, 'jedi.inference.value.instance': <module 'jedi.inference.value.instance' from 'C:\\\\Users\\\\Hello\\\\AppData\\\\Local\\\\Programs\\\\Python\\\\Python310\\\\lib\\\\site-packages\\\\jedi\\\\inference\\\\value\\\\instance.py'>, 'jedi.inference.value': <module 'jedi.inference.value' from 'C:\\\\Users\\\\Hello\\\\AppData\\\\Local\\\\Programs\\\\Python\\\\Python310\\\\lib\\\\site-packages\\\\jedi\\\\inference\\\\value\\\\__init__.py'>, 'jedi.inference.gradual.base': <module 'jedi.inference.gradual.base' from 'C:\\\\Users\\\\Hello\\\\AppData\\\\Local\\\\Programs\\\\Python\\\\Python310\\\\lib\\\\site-packages\\\\jedi\\\\inference\\\\gradual\\\\base.py'>, 'jedi.inference.gradual.type_var': <module 'jedi.inference.gradual.type_var' from 'C:\\\\Users\\\\Hello\\\\AppData\\\\Local\\\\Programs\\\\Python\\\\Python310\\\\lib\\\\site-packages\\\\jedi\\\\inference\\\\gradual\\\\type_var.py'>, 'jedi.inference.gradual.typing': <module 'jedi.inference.gradual.typing' from 'C:\\\\Users\\\\Hello\\\\AppData\\\\Local\\\\Programs\\\\Python\\\\Python310\\\\lib\\\\site-packages\\\\jedi\\\\inference\\\\gradual\\\\typing.py'>, 'jedi.inference.gradual.stub_value': <module 'jedi.inference.gradual.stub_value' from 'C:\\\\Users\\\\Hello\\\\AppData\\\\Local\\\\Programs\\\\Python\\\\Python310\\\\lib\\\\site-packages\\\\jedi\\\\inference\\\\gradual\\\\stub_value.py'>, 'jedi.inference.gradual.typeshed': <module 'jedi.inference.gradual.typeshed' from 'C:\\\\Users\\\\Hello\\\\AppData\\\\Local\\\\Programs\\\\Python\\\\Python310\\\\lib\\\\site-packages\\\\jedi\\\\inference\\\\gradual\\\\typeshed.py'>, 'jedi._compatibility': <module 'jedi._compatibility' from 'C:\\\\Users\\\\Hello\\\\AppData\\\\Local\\\\Programs\\\\Python\\\\Python310\\\\lib\\\\site-packages\\\\jedi\\\\_compatibility.py'>, 'jedi.inference.compiled.subprocess.functions': <module 'jedi.inference.compiled.subprocess.functions' from 'C:\\\\Users\\\\Hello\\\\AppData\\\\Local\\\\Programs\\\\Python\\\\Python310\\\\lib\\\\site-packages\\\\jedi\\\\inference\\\\compiled\\\\subprocess\\\\functions.py'>, 'jedi.api.exceptions': <module 'jedi.api.exceptions' from 'C:\\\\Users\\\\Hello\\\\AppData\\\\Local\\\\Programs\\\\Python\\\\Python310\\\\lib\\\\site-packages\\\\jedi\\\\api\\\\exceptions.py'>, 'jedi.inference.compiled.subprocess': <module 'jedi.inference.compiled.subprocess' from 'C:\\\\Users\\\\Hello\\\\AppData\\\\Local\\\\Programs\\\\Python\\\\Python310\\\\lib\\\\site-packages\\\\jedi\\\\inference\\\\compiled\\\\subprocess\\\\__init__.py'>, 'jedi.inference.imports': <module 'jedi.inference.imports' from 'C:\\\\Users\\\\Hello\\\\AppData\\\\Local\\\\Programs\\\\Python\\\\Python310\\\\lib\\\\site-packages\\\\jedi\\\\inference\\\\imports.py'>, 'jedi.inference.param': <module 'jedi.inference.param' from 'C:\\\\Users\\\\Hello\\\\AppData\\\\Local\\\\Programs\\\\Python\\\\Python310\\\\lib\\\\site-packages\\\\jedi\\\\inference\\\\param.py'>, 'jedi.inference.gradual.annotation': <module 'jedi.inference.gradual.annotation' from 'C:\\\\Users\\\\Hello\\\\AppData\\\\Local\\\\Programs\\\\Python\\\\Python310\\\\lib\\\\site-packages\\\\jedi\\\\inference\\\\gradual\\\\annotation.py'>, 'jedi.inference.value.decorator': <module 'jedi.inference.value.decorator' from 'C:\\\\Users\\\\Hello\\\\AppData\\\\Local\\\\Programs\\\\Python\\\\Python310\\\\lib\\\\site-packages\\\\jedi\\\\inference\\\\value\\\\decorator.py'>, 'jedi.inference.syntax_tree': <module 'jedi.inference.syntax_tree' from 'C:\\\\Users\\\\Hello\\\\AppData\\\\Local\\\\Programs\\\\Python\\\\Python310\\\\lib\\\\site-packages\\\\jedi\\\\inference\\\\syntax_tree.py'>, 'jedi.inference': <module 'jedi.inference' from 'C:\\\\Users\\\\Hello\\\\AppData\\\\Local\\\\Programs\\\\Python\\\\Python310\\\\lib\\\\site-packages\\\\jedi\\\\inference\\\\__init__.py'>, 'jedi.inference.gradual.conversion': <module 'jedi.inference.gradual.conversion' from 'C:\\\\Users\\\\Hello\\\\AppData\\\\Local\\\\Programs\\\\Python\\\\Python310\\\\lib\\\\site-packages\\\\jedi\\\\inference\\\\gradual\\\\conversion.py'>, 'jedi.inference.compiled.mixed': <module 'jedi.inference.compiled.mixed' from 'C:\\\\Users\\\\Hello\\\\AppData\\\\Local\\\\Programs\\\\Python\\\\Python310\\\\lib\\\\site-packages\\\\jedi\\\\inference\\\\compiled\\\\mixed.py'>, 'pydoc_data': <module 'pydoc_data' from 'C:\\\\Users\\\\Hello\\\\AppData\\\\Local\\\\Programs\\\\Python\\\\Python310\\\\lib\\\\pydoc_data\\\\__init__.py'>, 'pydoc_data.topics': <module 'pydoc_data.topics' from 'C:\\\\Users\\\\Hello\\\\AppData\\\\Local\\\\Programs\\\\Python\\\\Python310\\\\lib\\\\pydoc_data\\\\topics.py'>, 'jedi.api.keywords': <module 'jedi.api.keywords' from 'C:\\\\Users\\\\Hello\\\\AppData\\\\Local\\\\Programs\\\\Python\\\\Python310\\\\lib\\\\site-packages\\\\jedi\\\\api\\\\keywords.py'>, 'jedi.api.completion_cache': <module 'jedi.api.completion_cache' from 'C:\\\\Users\\\\Hello\\\\AppData\\\\Local\\\\Programs\\\\Python\\\\Python310\\\\lib\\\\site-packages\\\\jedi\\\\api\\\\completion_cache.py'>, 'jedi.api.helpers': <module 'jedi.api.helpers' from 'C:\\\\Users\\\\Hello\\\\AppData\\\\Local\\\\Programs\\\\Python\\\\Python310\\\\lib\\\\site-packages\\\\jedi\\\\api\\\\helpers.py'>, 'jedi.api.classes': <module 'jedi.api.classes' from 'C:\\\\Users\\\\Hello\\\\AppData\\\\Local\\\\Programs\\\\Python\\\\Python310\\\\lib\\\\site-packages\\\\jedi\\\\api\\\\classes.py'>, 'jedi.api.interpreter': <module 'jedi.api.interpreter' from 'C:\\\\Users\\\\Hello\\\\AppData\\\\Local\\\\Programs\\\\Python\\\\Python310\\\\lib\\\\site-packages\\\\jedi\\\\api\\\\interpreter.py'>, 'jedi.api.strings': <module 'jedi.api.strings' from 'C:\\\\Users\\\\Hello\\\\AppData\\\\Local\\\\Programs\\\\Python\\\\Python310\\\\lib\\\\site-packages\\\\jedi\\\\api\\\\strings.py'>, 'jedi.api.file_name': <module 'jedi.api.file_name' from 'C:\\\\Users\\\\Hello\\\\AppData\\\\Local\\\\Programs\\\\Python\\\\Python310\\\\lib\\\\site-packages\\\\jedi\\\\api\\\\file_name.py'>, 'jedi.inference.docstring_utils': <module 'jedi.inference.docstring_utils' from 'C:\\\\Users\\\\Hello\\\\AppData\\\\Local\\\\Programs\\\\Python\\\\Python310\\\\lib\\\\site-packages\\\\jedi\\\\inference\\\\docstring_utils.py'>, 'jedi.api.completion': <module 'jedi.api.completion' from 'C:\\\\Users\\\\Hello\\\\AppData\\\\Local\\\\Programs\\\\Python\\\\Python310\\\\lib\\\\site-packages\\\\jedi\\\\api\\\\completion.py'>, 'filecmp': <module 'filecmp' from 'C:\\\\Users\\\\Hello\\\\AppData\\\\Local\\\\Programs\\\\Python\\\\Python310\\\\lib\\\\filecmp.py'>, 'jedi.api.environment': <module 'jedi.api.environment' from 'C:\\\\Users\\\\Hello\\\\AppData\\\\Local\\\\Programs\\\\Python\\\\Python310\\\\lib\\\\site-packages\\\\jedi\\\\api\\\\environment.py'>, 'jedi.inference.references': <module 'jedi.inference.references' from 'C:\\\\Users\\\\Hello\\\\AppData\\\\Local\\\\Programs\\\\Python\\\\Python310\\\\lib\\\\site-packages\\\\jedi\\\\inference\\\\references.py'>, 'jedi.api.project': <module 'jedi.api.project' from 'C:\\\\Users\\\\Hello\\\\AppData\\\\Local\\\\Programs\\\\Python\\\\Python310\\\\lib\\\\site-packages\\\\jedi\\\\api\\\\project.py'>, 'jedi.api.errors': <module 'jedi.api.errors' from 'C:\\\\Users\\\\Hello\\\\AppData\\\\Local\\\\Programs\\\\Python\\\\Python310\\\\lib\\\\site-packages\\\\jedi\\\\api\\\\errors.py'>, 'jedi.api.refactoring': <module 'jedi.api.refactoring' from 'C:\\\\Users\\\\Hello\\\\AppData\\\\Local\\\\Programs\\\\Python\\\\Python310\\\\lib\\\\site-packages\\\\jedi\\\\api\\\\refactoring\\\\__init__.py'>, 'jedi.api.refactoring.extract': <module 'jedi.api.refactoring.extract' from 'C:\\\\Users\\\\Hello\\\\AppData\\\\Local\\\\Programs\\\\Python\\\\Python310\\\\lib\\\\site-packages\\\\jedi\\\\api\\\\refactoring\\\\extract.py'>, 'jedi.inference.gradual.utils': <module 'jedi.inference.gradual.utils' from 'C:\\\\Users\\\\Hello\\\\AppData\\\\Local\\\\Programs\\\\Python\\\\Python310\\\\lib\\\\site-packages\\\\jedi\\\\inference\\\\gradual\\\\utils.py'>, 'jedi.api': <module 'jedi.api' from 'C:\\\\Users\\\\Hello\\\\AppData\\\\Local\\\\Programs\\\\Python\\\\Python310\\\\lib\\\\site-packages\\\\jedi\\\\api\\\\__init__.py'>, 'jedi.plugins.stdlib': <module 'jedi.plugins.stdlib' from 'C:\\\\Users\\\\Hello\\\\AppData\\\\Local\\\\Programs\\\\Python\\\\Python310\\\\lib\\\\site-packages\\\\jedi\\\\plugins\\\\stdlib.py'>, 'jedi.plugins.flask': <module 'jedi.plugins.flask' from 'C:\\\\Users\\\\Hello\\\\AppData\\\\Local\\\\Programs\\\\Python\\\\Python310\\\\lib\\\\site-packages\\\\jedi\\\\plugins\\\\flask.py'>, 'jedi.plugins.pytest': <module 'jedi.plugins.pytest' from 'C:\\\\Users\\\\Hello\\\\AppData\\\\Local\\\\Programs\\\\Python\\\\Python310\\\\lib\\\\site-packages\\\\jedi\\\\plugins\\\\pytest.py'>, 'jedi.plugins.django': <module 'jedi.plugins.django' from 'C:\\\\Users\\\\Hello\\\\AppData\\\\Local\\\\Programs\\\\Python\\\\Python310\\\\lib\\\\site-packages\\\\jedi\\\\plugins\\\\django.py'>, 'jedi.plugins.registry': <module 'jedi.plugins.registry' from 'C:\\\\Users\\\\Hello\\\\AppData\\\\Local\\\\Programs\\\\Python\\\\Python310\\\\lib\\\\site-packages\\\\jedi\\\\plugins\\\\registry.py'>, 'jedi': <module 'jedi' from 'C:\\\\Users\\\\Hello\\\\AppData\\\\Local\\\\Programs\\\\Python\\\\Python310\\\\lib\\\\site-packages\\\\jedi\\\\__init__.py'>, 'IPython.core.completer': <module 'IPython.core.completer' from 'C:\\\\Users\\\\Hello\\\\AppData\\\\Local\\\\Programs\\\\Python\\\\Python310\\\\lib\\\\site-packages\\\\IPython\\\\core\\\\completer.py'>, 'IPython.terminal.ptutils': <module 'IPython.terminal.ptutils' from 'C:\\\\Users\\\\Hello\\\\AppData\\\\Local\\\\Programs\\\\Python\\\\Python310\\\\lib\\\\site-packages\\\\IPython\\\\terminal\\\\ptutils.py'>, 'IPython.terminal.shortcuts.auto_match': <module 'IPython.terminal.shortcuts.auto_match' from 'C:\\\\Users\\\\Hello\\\\AppData\\\\Local\\\\Programs\\\\Python\\\\Python310\\\\lib\\\\site-packages\\\\IPython\\\\terminal\\\\shortcuts\\\\auto_match.py'>, 'IPython.utils.tokenutil': <module 'IPython.utils.tokenutil' from 'C:\\\\Users\\\\Hello\\\\AppData\\\\Local\\\\Programs\\\\Python\\\\Python310\\\\lib\\\\site-packages\\\\IPython\\\\utils\\\\tokenutil.py'>, 'IPython.terminal.shortcuts.filters': <module 'IPython.terminal.shortcuts.filters' from 'C:\\\\Users\\\\Hello\\\\AppData\\\\Local\\\\Programs\\\\Python\\\\Python310\\\\lib\\\\site-packages\\\\IPython\\\\terminal\\\\shortcuts\\\\filters.py'>, 'IPython.terminal.shortcuts.auto_suggest': <module 'IPython.terminal.shortcuts.auto_suggest' from 'C:\\\\Users\\\\Hello\\\\AppData\\\\Local\\\\Programs\\\\Python\\\\Python310\\\\lib\\\\site-packages\\\\IPython\\\\terminal\\\\shortcuts\\\\auto_suggest.py'>, 'IPython.lib.clipboard': <module 'IPython.lib.clipboard' from 'C:\\\\Users\\\\Hello\\\\AppData\\\\Local\\\\Programs\\\\Python\\\\Python310\\\\lib\\\\site-packages\\\\IPython\\\\lib\\\\clipboard.py'>, 'IPython.terminal.shortcuts': <module 'IPython.terminal.shortcuts' from 'C:\\\\Users\\\\Hello\\\\AppData\\\\Local\\\\Programs\\\\Python\\\\Python310\\\\lib\\\\site-packages\\\\IPython\\\\terminal\\\\shortcuts\\\\__init__.py'>, 'concurrent.futures.thread': <module 'concurrent.futures.thread' from 'C:\\\\Users\\\\Hello\\\\AppData\\\\Local\\\\Programs\\\\Python\\\\Python310\\\\lib\\\\concurrent\\\\futures\\\\thread.py'>, 'IPython.terminal.debugger': <module 'IPython.terminal.debugger' from 'C:\\\\Users\\\\Hello\\\\AppData\\\\Local\\\\Programs\\\\Python\\\\Python310\\\\lib\\\\site-packages\\\\IPython\\\\terminal\\\\debugger.py'>, 'IPython.terminal.magics': <module 'IPython.terminal.magics' from 'C:\\\\Users\\\\Hello\\\\AppData\\\\Local\\\\Programs\\\\Python\\\\Python310\\\\lib\\\\site-packages\\\\IPython\\\\terminal\\\\magics.py'>, 'IPython.terminal.pt_inputhooks': <module 'IPython.terminal.pt_inputhooks' from 'C:\\\\Users\\\\Hello\\\\AppData\\\\Local\\\\Programs\\\\Python\\\\Python310\\\\lib\\\\site-packages\\\\IPython\\\\terminal\\\\pt_inputhooks\\\\__init__.py'>, 'IPython.terminal.prompts': <module 'IPython.terminal.prompts' from 'C:\\\\Users\\\\Hello\\\\AppData\\\\Local\\\\Programs\\\\Python\\\\Python310\\\\lib\\\\site-packages\\\\IPython\\\\terminal\\\\prompts.py'>, 'IPython.terminal.interactiveshell': <module 'IPython.terminal.interactiveshell' from 'C:\\\\Users\\\\Hello\\\\AppData\\\\Local\\\\Programs\\\\Python\\\\Python310\\\\lib\\\\site-packages\\\\IPython\\\\terminal\\\\interactiveshell.py'>, 'IPython.core.magics.auto': <module 'IPython.core.magics.auto' from 'C:\\\\Users\\\\Hello\\\\AppData\\\\Local\\\\Programs\\\\Python\\\\Python310\\\\lib\\\\site-packages\\\\IPython\\\\core\\\\magics\\\\auto.py'>, 'IPython.core.magics.basic': <module 'IPython.core.magics.basic' from 'C:\\\\Users\\\\Hello\\\\AppData\\\\Local\\\\Programs\\\\Python\\\\Python310\\\\lib\\\\site-packages\\\\IPython\\\\core\\\\magics\\\\basic.py'>, 'http': <module 'http' from 'C:\\\\Users\\\\Hello\\\\AppData\\\\Local\\\\Programs\\\\Python\\\\Python310\\\\lib\\\\http\\\\__init__.py'>, 'email.feedparser': <module 'email.feedparser' from 'C:\\\\Users\\\\Hello\\\\AppData\\\\Local\\\\Programs\\\\Python\\\\Python310\\\\lib\\\\email\\\\feedparser.py'>, 'email.parser': <module 'email.parser' from 'C:\\\\Users\\\\Hello\\\\AppData\\\\Local\\\\Programs\\\\Python\\\\Python310\\\\lib\\\\email\\\\parser.py'>, 'http.client': <module 'http.client' from 'C:\\\\Users\\\\Hello\\\\AppData\\\\Local\\\\Programs\\\\Python\\\\Python310\\\\lib\\\\http\\\\client.py'>, 'urllib.response': <module 'urllib.response' from 'C:\\\\Users\\\\Hello\\\\AppData\\\\Local\\\\Programs\\\\Python\\\\Python310\\\\lib\\\\urllib\\\\response.py'>, 'urllib.error': <module 'urllib.error' from 'C:\\\\Users\\\\Hello\\\\AppData\\\\Local\\\\Programs\\\\Python\\\\Python310\\\\lib\\\\urllib\\\\error.py'>, 'nturl2path': <module 'nturl2path' from 'C:\\\\Users\\\\Hello\\\\AppData\\\\Local\\\\Programs\\\\Python\\\\Python310\\\\lib\\\\nturl2path.py'>, 'urllib.request': <module 'urllib.request' from 'C:\\\\Users\\\\Hello\\\\AppData\\\\Local\\\\Programs\\\\Python\\\\Python310\\\\lib\\\\urllib\\\\request.py'>, 'IPython.utils.contexts': <module 'IPython.utils.contexts' from 'C:\\\\Users\\\\Hello\\\\AppData\\\\Local\\\\Programs\\\\Python\\\\Python310\\\\lib\\\\site-packages\\\\IPython\\\\utils\\\\contexts.py'>, 'IPython.core.magics.code': <module 'IPython.core.magics.code' from 'C:\\\\Users\\\\Hello\\\\AppData\\\\Local\\\\Programs\\\\Python\\\\Python310\\\\lib\\\\site-packages\\\\IPython\\\\core\\\\magics\\\\code.py'>, 'IPython.core.magics.config': <module 'IPython.core.magics.config' from 'C:\\\\Users\\\\Hello\\\\AppData\\\\Local\\\\Programs\\\\Python\\\\Python310\\\\lib\\\\site-packages\\\\IPython\\\\core\\\\magics\\\\config.py'>, 'IPython.core.magics.display': <module 'IPython.core.magics.display' from 'C:\\\\Users\\\\Hello\\\\AppData\\\\Local\\\\Programs\\\\Python\\\\Python310\\\\lib\\\\site-packages\\\\IPython\\\\core\\\\magics\\\\display.py'>, '_lsprof': <module '_lsprof' (built-in)>, 'profile': <module 'profile' from 'C:\\\\Users\\\\Hello\\\\AppData\\\\Local\\\\Programs\\\\Python\\\\Python310\\\\lib\\\\profile.py'>, 'cProfile': <module 'cProfile' from 'C:\\\\Users\\\\Hello\\\\AppData\\\\Local\\\\Programs\\\\Python\\\\Python310\\\\lib\\\\cProfile.py'>, 'pstats': <module 'pstats' from 'C:\\\\Users\\\\Hello\\\\AppData\\\\Local\\\\Programs\\\\Python\\\\Python310\\\\lib\\\\pstats.py'>, 'timeit': <module 'timeit' from 'C:\\\\Users\\\\Hello\\\\AppData\\\\Local\\\\Programs\\\\Python\\\\Python310\\\\lib\\\\timeit.py'>, 'IPython.utils.module_paths': <module 'IPython.utils.module_paths' from 'C:\\\\Users\\\\Hello\\\\AppData\\\\Local\\\\Programs\\\\Python\\\\Python310\\\\lib\\\\site-packages\\\\IPython\\\\utils\\\\module_paths.py'>, 'IPython.utils.timing': <module 'IPython.utils.timing' from 'C:\\\\Users\\\\Hello\\\\AppData\\\\Local\\\\Programs\\\\Python\\\\Python310\\\\lib\\\\site-packages\\\\IPython\\\\utils\\\\timing.py'>, 'IPython.core.magics.execution': <module 'IPython.core.magics.execution' from 'C:\\\\Users\\\\Hello\\\\AppData\\\\Local\\\\Programs\\\\Python\\\\Python310\\\\lib\\\\site-packages\\\\IPython\\\\core\\\\magics\\\\execution.py'>, 'IPython.core.magics.extension': <module 'IPython.core.magics.extension' from 'C:\\\\Users\\\\Hello\\\\AppData\\\\Local\\\\Programs\\\\Python\\\\Python310\\\\lib\\\\site-packages\\\\IPython\\\\core\\\\magics\\\\extension.py'>, 'IPython.core.magics.history': <module 'IPython.core.magics.history' from 'C:\\\\Users\\\\Hello\\\\AppData\\\\Local\\\\Programs\\\\Python\\\\Python310\\\\lib\\\\site-packages\\\\IPython\\\\core\\\\magics\\\\history.py'>, 'IPython.core.magics.logging': <module 'IPython.core.magics.logging' from 'C:\\\\Users\\\\Hello\\\\AppData\\\\Local\\\\Programs\\\\Python\\\\Python310\\\\lib\\\\site-packages\\\\IPython\\\\core\\\\magics\\\\logging.py'>, 'IPython.core.magics.namespace': <module 'IPython.core.magics.namespace' from 'C:\\\\Users\\\\Hello\\\\AppData\\\\Local\\\\Programs\\\\Python\\\\Python310\\\\lib\\\\site-packages\\\\IPython\\\\core\\\\magics\\\\namespace.py'>, 'IPython.core.magics.osm': <module 'IPython.core.magics.osm' from 'C:\\\\Users\\\\Hello\\\\AppData\\\\Local\\\\Programs\\\\Python\\\\Python310\\\\lib\\\\site-packages\\\\IPython\\\\core\\\\magics\\\\osm.py'>, 'IPython.core.magics.packaging': <module 'IPython.core.magics.packaging' from 'C:\\\\Users\\\\Hello\\\\AppData\\\\Local\\\\Programs\\\\Python\\\\Python310\\\\lib\\\\site-packages\\\\IPython\\\\core\\\\magics\\\\packaging.py'>, 'IPython.core.pylabtools': <module 'IPython.core.pylabtools' from 'C:\\\\Users\\\\Hello\\\\AppData\\\\Local\\\\Programs\\\\Python\\\\Python310\\\\lib\\\\site-packages\\\\IPython\\\\core\\\\pylabtools.py'>, 'IPython.core.magics.pylab': <module 'IPython.core.magics.pylab' from 'C:\\\\Users\\\\Hello\\\\AppData\\\\Local\\\\Programs\\\\Python\\\\Python310\\\\lib\\\\site-packages\\\\IPython\\\\core\\\\magics\\\\pylab.py'>, 'IPython.core.magics.script': <module 'IPython.core.magics.script' from 'C:\\\\Users\\\\Hello\\\\AppData\\\\Local\\\\Programs\\\\Python\\\\Python310\\\\lib\\\\site-packages\\\\IPython\\\\core\\\\magics\\\\script.py'>, 'IPython.core.magics': <module 'IPython.core.magics' from 'C:\\\\Users\\\\Hello\\\\AppData\\\\Local\\\\Programs\\\\Python\\\\Python310\\\\lib\\\\site-packages\\\\IPython\\\\core\\\\magics\\\\__init__.py'>, 'IPython.core.shellapp': <module 'IPython.core.shellapp' from 'C:\\\\Users\\\\Hello\\\\AppData\\\\Local\\\\Programs\\\\Python\\\\Python310\\\\lib\\\\site-packages\\\\IPython\\\\core\\\\shellapp.py'>, 'IPython.extensions': <module 'IPython.extensions' from 'C:\\\\Users\\\\Hello\\\\AppData\\\\Local\\\\Programs\\\\Python\\\\Python310\\\\lib\\\\site-packages\\\\IPython\\\\extensions\\\\__init__.py'>, 'IPython.extensions.storemagic': <module 'IPython.extensions.storemagic' from 'C:\\\\Users\\\\Hello\\\\AppData\\\\Local\\\\Programs\\\\Python\\\\Python310\\\\lib\\\\site-packages\\\\IPython\\\\extensions\\\\storemagic.py'>, 'IPython.terminal.ipapp': <module 'IPython.terminal.ipapp' from 'C:\\\\Users\\\\Hello\\\\AppData\\\\Local\\\\Programs\\\\Python\\\\Python310\\\\lib\\\\site-packages\\\\IPython\\\\terminal\\\\ipapp.py'>, 'IPython.terminal.embed': <module 'IPython.terminal.embed' from 'C:\\\\Users\\\\Hello\\\\AppData\\\\Local\\\\Programs\\\\Python\\\\Python310\\\\lib\\\\site-packages\\\\IPython\\\\terminal\\\\embed.py'>, 'IPython.utils.frame': <module 'IPython.utils.frame' from 'C:\\\\Users\\\\Hello\\\\AppData\\\\Local\\\\Programs\\\\Python\\\\Python310\\\\lib\\\\site-packages\\\\IPython\\\\utils\\\\frame.py'>, 'IPython': <module 'IPython' from 'C:\\\\Users\\\\Hello\\\\AppData\\\\Local\\\\Programs\\\\Python\\\\Python310\\\\lib\\\\site-packages\\\\IPython\\\\__init__.py'>, 'ipykernel.control': <module 'ipykernel.control' from 'C:\\\\Users\\\\Hello\\\\AppData\\\\Local\\\\Programs\\\\Python\\\\Python310\\\\lib\\\\site-packages\\\\ipykernel\\\\control.py'>, 'ipykernel.heartbeat': <module 'ipykernel.heartbeat' from 'C:\\\\Users\\\\Hello\\\\AppData\\\\Local\\\\Programs\\\\Python\\\\Python310\\\\lib\\\\site-packages\\\\ipykernel\\\\heartbeat.py'>, 'ipykernel.iostream': <module 'ipykernel.iostream' from 'C:\\\\Users\\\\Hello\\\\AppData\\\\Local\\\\Programs\\\\Python\\\\Python310\\\\lib\\\\site-packages\\\\ipykernel\\\\iostream.py'>, 'comm.base_comm': <module 'comm.base_comm' from 'C:\\\\Users\\\\Hello\\\\AppData\\\\Local\\\\Programs\\\\Python\\\\Python310\\\\lib\\\\site-packages\\\\comm\\\\base_comm.py'>, 'comm': <module 'comm' from 'C:\\\\Users\\\\Hello\\\\AppData\\\\Local\\\\Programs\\\\Python\\\\Python310\\\\lib\\\\site-packages\\\\comm\\\\__init__.py'>, 'ipykernel.jsonutil': <module 'ipykernel.jsonutil' from 'C:\\\\Users\\\\Hello\\\\AppData\\\\Local\\\\Programs\\\\Python\\\\Python310\\\\lib\\\\site-packages\\\\ipykernel\\\\jsonutil.py'>, 'psutil._common': <module 'psutil._common' from 'C:\\\\Users\\\\Hello\\\\AppData\\\\Local\\\\Programs\\\\Python\\\\Python310\\\\lib\\\\site-packages\\\\psutil\\\\_common.py'>, 'psutil._compat': <module 'psutil._compat' from 'C:\\\\Users\\\\Hello\\\\AppData\\\\Local\\\\Programs\\\\Python\\\\Python310\\\\lib\\\\site-packages\\\\psutil\\\\_compat.py'>, 'psutil._psutil_windows': <module 'psutil._psutil_windows' from 'C:\\\\Users\\\\Hello\\\\AppData\\\\Local\\\\Programs\\\\Python\\\\Python310\\\\lib\\\\site-packages\\\\psutil\\\\_psutil_windows.pyd'>, 'psutil._pswindows': <module 'psutil._pswindows' from 'C:\\\\Users\\\\Hello\\\\AppData\\\\Local\\\\Programs\\\\Python\\\\Python310\\\\lib\\\\site-packages\\\\psutil\\\\_pswindows.py'>, 'psutil': <module 'psutil' from 'C:\\\\Users\\\\Hello\\\\AppData\\\\Local\\\\Programs\\\\Python\\\\Python310\\\\lib\\\\site-packages\\\\psutil\\\\__init__.py'>, 'tornado.gen': <module 'tornado.gen' from 'C:\\\\Users\\\\Hello\\\\AppData\\\\Local\\\\Programs\\\\Python\\\\Python310\\\\lib\\\\site-packages\\\\tornado\\\\gen.py'>, 'tornado.locks': <module 'tornado.locks' from 'C:\\\\Users\\\\Hello\\\\AppData\\\\Local\\\\Programs\\\\Python\\\\Python310\\\\lib\\\\site-packages\\\\tornado\\\\locks.py'>, 'tornado.queues': <module 'tornado.queues' from 'C:\\\\Users\\\\Hello\\\\AppData\\\\Local\\\\Programs\\\\Python\\\\Python310\\\\lib\\\\site-packages\\\\tornado\\\\queues.py'>, 'ipykernel.kernelbase': <module 'ipykernel.kernelbase' from 'C:\\\\Users\\\\Hello\\\\AppData\\\\Local\\\\Programs\\\\Python\\\\Python310\\\\lib\\\\site-packages\\\\ipykernel\\\\kernelbase.py'>, 'ipykernel.comm.comm': <module 'ipykernel.comm.comm' from 'C:\\\\Users\\\\Hello\\\\AppData\\\\Local\\\\Programs\\\\Python\\\\Python310\\\\lib\\\\site-packages\\\\ipykernel\\\\comm\\\\comm.py'>, 'ipykernel.comm.manager': <module 'ipykernel.comm.manager' from 'C:\\\\Users\\\\Hello\\\\AppData\\\\Local\\\\Programs\\\\Python\\\\Python310\\\\lib\\\\site-packages\\\\ipykernel\\\\comm\\\\manager.py'>, 'ipykernel.comm': <module 'ipykernel.comm' from 'C:\\\\Users\\\\Hello\\\\AppData\\\\Local\\\\Programs\\\\Python\\\\Python310\\\\lib\\\\site-packages\\\\ipykernel\\\\comm\\\\__init__.py'>, 'ipykernel.compiler': <module 'ipykernel.compiler' from 'C:\\\\Users\\\\Hello\\\\AppData\\\\Local\\\\Programs\\\\Python\\\\Python310\\\\lib\\\\site-packages\\\\ipykernel\\\\compiler.py'>, 'debugpy._version': <module 'debugpy._version' from 'C:\\\\Users\\\\Hello\\\\AppData\\\\Local\\\\Programs\\\\Python\\\\Python310\\\\lib\\\\site-packages\\\\debugpy\\\\_version.py'>, 'debugpy.public_api': <module 'debugpy.public_api' from 'C:\\\\Users\\\\Hello\\\\AppData\\\\Local\\\\Programs\\\\Python\\\\Python310\\\\lib\\\\site-packages\\\\debugpy\\\\public_api.py'>, 'debugpy': <module 'debugpy' from 'C:\\\\Users\\\\Hello\\\\AppData\\\\Local\\\\Programs\\\\Python\\\\Python310\\\\lib\\\\site-packages\\\\debugpy\\\\__init__.py'>, 'debugpy._vendored._util': <module 'debugpy._vendored._util' from 'C:\\\\Users\\\\Hello\\\\AppData\\\\Local\\\\Programs\\\\Python\\\\Python310\\\\lib\\\\site-packages\\\\debugpy\\\\_vendored\\\\_util.py'>, 'debugpy._vendored': <module 'debugpy._vendored' from 'C:\\\\Users\\\\Hello\\\\AppData\\\\Local\\\\Programs\\\\Python\\\\Python310\\\\lib\\\\site-packages\\\\debugpy\\\\_vendored\\\\__init__.py'>, '_pydevd_bundle': <module '_pydevd_bundle' from 'C:\\\\Users\\\\Hello\\\\AppData\\\\Local\\\\Programs\\\\Python\\\\Python310\\\\lib\\\\site-packages\\\\debugpy\\\\_vendored\\\\pydevd\\\\_pydevd_bundle\\\\__init__.py'>, 'encodings.ascii': <module 'encodings.ascii' from 'C:\\\\Users\\\\Hello\\\\AppData\\\\Local\\\\Programs\\\\Python\\\\Python310\\\\lib\\\\encodings\\\\ascii.py'>, 'encodings.latin_1': <module 'encodings.latin_1' from 'C:\\\\Users\\\\Hello\\\\AppData\\\\Local\\\\Programs\\\\Python\\\\Python310\\\\lib\\\\encodings\\\\latin_1.py'>, 'stringprep': <module 'stringprep' from 'C:\\\\Users\\\\Hello\\\\AppData\\\\Local\\\\Programs\\\\Python\\\\Python310\\\\lib\\\\stringprep.py'>, 'encodings.idna': <module 'encodings.idna' from 'C:\\\\Users\\\\Hello\\\\AppData\\\\Local\\\\Programs\\\\Python\\\\Python310\\\\lib\\\\encodings\\\\idna.py'>, '_pydevd_bundle.pydevd_vm_type': <module '_pydevd_bundle.pydevd_vm_type' from 'C:\\\\Users\\\\Hello\\\\AppData\\\\Local\\\\Programs\\\\Python\\\\Python310\\\\lib\\\\site-packages\\\\debugpy\\\\_vendored\\\\pydevd\\\\_pydevd_bundle\\\\pydevd_vm_type.py'>, '_pydev_bundle': <module '_pydev_bundle' from 'C:\\\\Users\\\\Hello\\\\AppData\\\\Local\\\\Programs\\\\Python\\\\Python310\\\\lib\\\\site-packages\\\\debugpy\\\\_vendored\\\\pydevd\\\\_pydev_bundle\\\\__init__.py'>, 'xmlrpc': <module 'xmlrpc' from 'C:\\\\Users\\\\Hello\\\\AppData\\\\Local\\\\Programs\\\\Python\\\\Python310\\\\lib\\\\xmlrpc\\\\__init__.py'>, 'xml.parsers': <module 'xml.parsers' from 'C:\\\\Users\\\\Hello\\\\AppData\\\\Local\\\\Programs\\\\Python\\\\Python310\\\\lib\\\\xml\\\\parsers\\\\__init__.py'>, 'pyexpat.errors': <module 'pyexpat.errors'>, 'pyexpat.model': <module 'pyexpat.model'>, 'pyexpat': <module 'pyexpat' from 'C:\\\\Users\\\\Hello\\\\AppData\\\\Local\\\\Programs\\\\Python\\\\Python310\\\\DLLs\\\\pyexpat.pyd'>, 'xml.parsers.expat.model': <module 'pyexpat.model'>, 'xml.parsers.expat.errors': <module 'pyexpat.errors'>, 'xml.parsers.expat': <module 'xml.parsers.expat' from 'C:\\\\Users\\\\Hello\\\\AppData\\\\Local\\\\Programs\\\\Python\\\\Python310\\\\lib\\\\xml\\\\parsers\\\\expat.py'>, 'gzip': <module 'gzip' from 'C:\\\\Users\\\\Hello\\\\AppData\\\\Local\\\\Programs\\\\Python\\\\Python310\\\\lib\\\\gzip.py'>, 'xmlrpc.client': <module 'xmlrpc.client' from 'C:\\\\Users\\\\Hello\\\\AppData\\\\Local\\\\Programs\\\\Python\\\\Python310\\\\lib\\\\xmlrpc\\\\client.py'>, 'http.server': <module 'http.server' from 'C:\\\\Users\\\\Hello\\\\AppData\\\\Local\\\\Programs\\\\Python\\\\Python310\\\\lib\\\\http\\\\server.py'>, 'xmlrpc.server': <module 'xmlrpc.server' from 'C:\\\\Users\\\\Hello\\\\AppData\\\\Local\\\\Programs\\\\Python\\\\Python310\\\\lib\\\\xmlrpc\\\\server.py'>, '_pydev_bundle._pydev_saved_modules': <module '_pydev_bundle._pydev_saved_modules' from 'C:\\\\Users\\\\Hello\\\\AppData\\\\Local\\\\Programs\\\\Python\\\\Python310\\\\lib\\\\site-packages\\\\debugpy\\\\_vendored\\\\pydevd\\\\_pydev_bundle\\\\_pydev_saved_modules.py'>, '_pydevd_bundle.pydevd_constants': <module '_pydevd_bundle.pydevd_constants' from 'C:\\\\Users\\\\Hello\\\\AppData\\\\Local\\\\Programs\\\\Python\\\\Python310\\\\lib\\\\site-packages\\\\debugpy\\\\_vendored\\\\pydevd\\\\_pydevd_bundle\\\\pydevd_constants.py'>, '_pydev_runfiles': <module '_pydev_runfiles' from 'C:\\\\Users\\\\Hello\\\\AppData\\\\Local\\\\Programs\\\\Python\\\\Python310\\\\lib\\\\site-packages\\\\debugpy\\\\_vendored\\\\pydevd\\\\_pydev_runfiles\\\\__init__.py'>, '_pydevd_frame_eval': <module '_pydevd_frame_eval' from 'C:\\\\Users\\\\Hello\\\\AppData\\\\Local\\\\Programs\\\\Python\\\\Python310\\\\lib\\\\site-packages\\\\debugpy\\\\_vendored\\\\pydevd\\\\_pydevd_frame_eval\\\\__init__.py'>, 'pydev_ipython': <module 'pydev_ipython' from 'C:\\\\Users\\\\Hello\\\\AppData\\\\Local\\\\Programs\\\\Python\\\\Python310\\\\lib\\\\site-packages\\\\debugpy\\\\_vendored\\\\pydevd\\\\pydev_ipython\\\\__init__.py'>, 'plistlib': <module 'plistlib' from 'C:\\\\Users\\\\Hello\\\\AppData\\\\Local\\\\Programs\\\\Python\\\\Python310\\\\lib\\\\plistlib.py'>, 'pkg_resources.extern': <module 'pkg_resources.extern' from 'C:\\\\Users\\\\Hello\\\\AppData\\\\Local\\\\Programs\\\\Python\\\\Python310\\\\lib\\\\site-packages\\\\pkg_resources\\\\extern\\\\__init__.py'>, 'pkg_resources._vendor': <module 'pkg_resources._vendor' from 'C:\\\\Users\\\\Hello\\\\AppData\\\\Local\\\\Programs\\\\Python\\\\Python310\\\\lib\\\\site-packages\\\\pkg_resources\\\\_vendor\\\\__init__.py'>, 'pkg_resources._vendor.jaraco': <module 'pkg_resources.extern.jaraco' (<pkg_resources.extern.VendorImporter object at 0x000001C27EEBD7E0>)>, 'pkg_resources.extern.jaraco': <module 'pkg_resources.extern.jaraco' (<pkg_resources.extern.VendorImporter object at 0x000001C27EEBD7E0>)>, 'importlib._adapters': <module 'importlib._adapters' from 'C:\\\\Users\\\\Hello\\\\AppData\\\\Local\\\\Programs\\\\Python\\\\Python310\\\\lib\\\\importlib\\\\_adapters.py'>, 'importlib._common': <module 'importlib._common' from 'C:\\\\Users\\\\Hello\\\\AppData\\\\Local\\\\Programs\\\\Python\\\\Python310\\\\lib\\\\importlib\\\\_common.py'>, 'importlib.resources': <module 'importlib.resources' from 'C:\\\\Users\\\\Hello\\\\AppData\\\\Local\\\\Programs\\\\Python\\\\Python310\\\\lib\\\\importlib\\\\resources.py'>, 'pkg_resources._vendor.more_itertools.recipes': <module 'pkg_resources._vendor.more_itertools.recipes' from 'C:\\\\Users\\\\Hello\\\\AppData\\\\Local\\\\Programs\\\\Python\\\\Python310\\\\lib\\\\site-packages\\\\pkg_resources\\\\_vendor\\\\more_itertools\\\\recipes.py'>, 'pkg_resources._vendor.more_itertools.more': <module 'pkg_resources._vendor.more_itertools.more' from 'C:\\\\Users\\\\Hello\\\\AppData\\\\Local\\\\Programs\\\\Python\\\\Python310\\\\lib\\\\site-packages\\\\pkg_resources\\\\_vendor\\\\more_itertools\\\\more.py'>, 'pkg_resources._vendor.more_itertools': <module 'pkg_resources.extern.more_itertools' (<pkg_resources.extern.VendorImporter object at 0x000001C27EEBD7E0>)>, 'pkg_resources.extern.more_itertools': <module 'pkg_resources.extern.more_itertools' (<pkg_resources.extern.VendorImporter object at 0x000001C27EEBD7E0>)>, 'pkg_resources.extern.jaraco.functools': <module 'pkg_resources.extern.jaraco.functools' from 'C:\\\\Users\\\\Hello\\\\AppData\\\\Local\\\\Programs\\\\Python\\\\Python310\\\\lib\\\\site-packages\\\\pkg_resources\\\\_vendor\\\\jaraco\\\\functools.py'>, 'pkg_resources.extern.jaraco.context': <module 'pkg_resources.extern.jaraco.context' from 'C:\\\\Users\\\\Hello\\\\AppData\\\\Local\\\\Programs\\\\Python\\\\Python310\\\\lib\\\\site-packages\\\\pkg_resources\\\\_vendor\\\\jaraco\\\\context.py'>, 'pkg_resources.extern.jaraco.text': <module 'pkg_resources.extern.jaraco.text' from 'C:\\\\Users\\\\Hello\\\\AppData\\\\Local\\\\Programs\\\\Python\\\\Python310\\\\lib\\\\site-packages\\\\pkg_resources\\\\_vendor\\\\jaraco\\\\text\\\\__init__.py'>, '_win32sysloader': <module '_win32sysloader' from 'C:\\\\Users\\\\Hello\\\\AppData\\\\Local\\\\Programs\\\\Python\\\\Python310\\\\lib\\\\site-packages\\\\win32\\\\_win32sysloader.pyd'>, 'pywintypes': <module 'pywintypes' (C:\\Users\\Hello\\AppData\\Local\\Programs\\Python\\Python310\\lib\\site-packages\\pywin32_system32\\pywintypes310.dll)>, 'pythoncom': <module 'pythoncom' (C:\\Users\\Hello\\AppData\\Local\\Programs\\Python\\Python310\\lib\\site-packages\\pywin32_system32\\pythoncom310.dll)>, 'win32api': <module 'win32api' from 'C:\\\\Users\\\\Hello\\\\AppData\\\\Local\\\\Programs\\\\Python\\\\Python310\\\\lib\\\\site-packages\\\\win32\\\\win32api.pyd'>, 'win32com.gen_py': <module 'win32com.gen_py'>, 'win32com': <module 'win32com' from 'C:\\\\Users\\\\Hello\\\\AppData\\\\Local\\\\Programs\\\\Python\\\\Python310\\\\lib\\\\site-packages\\\\win32com\\\\__init__.py'>, 'win32com.shell': <module 'win32com.shell' from 'C:\\\\Users\\\\Hello\\\\AppData\\\\Local\\\\Programs\\\\Python\\\\Python310\\\\lib\\\\site-packages\\\\win32comext\\\\shell\\\\__init__.py'>, 'pkg_resources._vendor.appdirs': <module 'pkg_resources.extern.appdirs' (<pkg_resources.extern.VendorImporter object at 0x000001C27EEBD7E0>)>, 'pkg_resources.extern.appdirs': <module 'pkg_resources.extern.appdirs' (<pkg_resources.extern.VendorImporter object at 0x000001C27EEBD7E0>)>, 'pkg_resources._vendor.packaging.__about__': <module 'pkg_resources._vendor.packaging.__about__' from 'C:\\\\Users\\\\Hello\\\\AppData\\\\Local\\\\Programs\\\\Python\\\\Python310\\\\lib\\\\site-packages\\\\pkg_resources\\\\_vendor\\\\packaging\\\\__about__.py'>, 'pkg_resources._vendor.packaging': <module 'pkg_resources.extern.packaging' (<pkg_resources.extern.VendorImporter object at 0x000001C27EEBD7E0>)>, 'pkg_resources.extern.packaging': <module 'pkg_resources.extern.packaging' (<pkg_resources.extern.VendorImporter object at 0x000001C27EEBD7E0>)>, 'pkg_resources.extern.packaging._structures': <module 'pkg_resources.extern.packaging._structures' from 'C:\\\\Users\\\\Hello\\\\AppData\\\\Local\\\\Programs\\\\Python\\\\Python310\\\\lib\\\\site-packages\\\\pkg_resources\\\\_vendor\\\\packaging\\\\_structures.py'>, 'pkg_resources.extern.packaging.version': <module 'pkg_resources.extern.packaging.version' from 'C:\\\\Users\\\\Hello\\\\AppData\\\\Local\\\\Programs\\\\Python\\\\Python310\\\\lib\\\\site-packages\\\\pkg_resources\\\\_vendor\\\\packaging\\\\version.py'>, 'pkg_resources._vendor.packaging._manylinux': <module 'pkg_resources._vendor.packaging._manylinux' from 'C:\\\\Users\\\\Hello\\\\AppData\\\\Local\\\\Programs\\\\Python\\\\Python310\\\\lib\\\\site-packages\\\\pkg_resources\\\\_vendor\\\\packaging\\\\_manylinux.py'>, 'pkg_resources._vendor.packaging._musllinux': <module 'pkg_resources._vendor.packaging._musllinux' from 'C:\\\\Users\\\\Hello\\\\AppData\\\\Local\\\\Programs\\\\Python\\\\Python310\\\\lib\\\\site-packages\\\\pkg_resources\\\\_vendor\\\\packaging\\\\_musllinux.py'>, 'pkg_resources.extern.packaging.tags': <module 'pkg_resources.extern.packaging.tags' from 'C:\\\\Users\\\\Hello\\\\AppData\\\\Local\\\\Programs\\\\Python\\\\Python310\\\\lib\\\\site-packages\\\\pkg_resources\\\\_vendor\\\\packaging\\\\tags.py'>, 'pkg_resources.extern.packaging.utils': <module 'pkg_resources.extern.packaging.utils' from 'C:\\\\Users\\\\Hello\\\\AppData\\\\Local\\\\Programs\\\\Python\\\\Python310\\\\lib\\\\site-packages\\\\pkg_resources\\\\_vendor\\\\packaging\\\\utils.py'>, 'pkg_resources.extern.packaging.specifiers': <module 'pkg_resources.extern.packaging.specifiers' from 'C:\\\\Users\\\\Hello\\\\AppData\\\\Local\\\\Programs\\\\Python\\\\Python310\\\\lib\\\\site-packages\\\\pkg_resources\\\\_vendor\\\\packaging\\\\specifiers.py'>, 'pkg_resources._vendor.pyparsing.util': <module 'pkg_resources._vendor.pyparsing.util' from 'C:\\\\Users\\\\Hello\\\\AppData\\\\Local\\\\Programs\\\\Python\\\\Python310\\\\lib\\\\site-packages\\\\pkg_resources\\\\_vendor\\\\pyparsing\\\\util.py'>, 'pkg_resources._vendor.pyparsing.unicode': <module 'pkg_resources._vendor.pyparsing.unicode' from 'C:\\\\Users\\\\Hello\\\\AppData\\\\Local\\\\Programs\\\\Python\\\\Python310\\\\lib\\\\site-packages\\\\pkg_resources\\\\_vendor\\\\pyparsing\\\\unicode.py'>, 'pkg_resources._vendor.pyparsing.exceptions': <module 'pkg_resources._vendor.pyparsing.exceptions' from 'C:\\\\Users\\\\Hello\\\\AppData\\\\Local\\\\Programs\\\\Python\\\\Python310\\\\lib\\\\site-packages\\\\pkg_resources\\\\_vendor\\\\pyparsing\\\\exceptions.py'>, 'pkg_resources._vendor.pyparsing.actions': <module 'pkg_resources._vendor.pyparsing.actions' from 'C:\\\\Users\\\\Hello\\\\AppData\\\\Local\\\\Programs\\\\Python\\\\Python310\\\\lib\\\\site-packages\\\\pkg_resources\\\\_vendor\\\\pyparsing\\\\actions.py'>, 'pkg_resources._vendor.pyparsing.results': <module 'pkg_resources._vendor.pyparsing.results' from 'C:\\\\Users\\\\Hello\\\\AppData\\\\Local\\\\Programs\\\\Python\\\\Python310\\\\lib\\\\site-packages\\\\pkg_resources\\\\_vendor\\\\pyparsing\\\\results.py'>, 'pkg_resources._vendor.pyparsing.core': <module 'pkg_resources._vendor.pyparsing.core' from 'C:\\\\Users\\\\Hello\\\\AppData\\\\Local\\\\Programs\\\\Python\\\\Python310\\\\lib\\\\site-packages\\\\pkg_resources\\\\_vendor\\\\pyparsing\\\\core.py'>, 'pkg_resources._vendor.pyparsing.helpers': <module 'pkg_resources._vendor.pyparsing.helpers' from 'C:\\\\Users\\\\Hello\\\\AppData\\\\Local\\\\Programs\\\\Python\\\\Python310\\\\lib\\\\site-packages\\\\pkg_resources\\\\_vendor\\\\pyparsing\\\\helpers.py'>, 'pkg_resources._vendor.pyparsing.testing': <module 'pkg_resources._vendor.pyparsing.testing' from 'C:\\\\Users\\\\Hello\\\\AppData\\\\Local\\\\Programs\\\\Python\\\\Python310\\\\lib\\\\site-packages\\\\pkg_resources\\\\_vendor\\\\pyparsing\\\\testing.py'>, 'pkg_resources._vendor.pyparsing.common': <module 'pkg_resources._vendor.pyparsing.common' from 'C:\\\\Users\\\\Hello\\\\AppData\\\\Local\\\\Programs\\\\Python\\\\Python310\\\\lib\\\\site-packages\\\\pkg_resources\\\\_vendor\\\\pyparsing\\\\common.py'>, 'pkg_resources._vendor.pyparsing': <module 'pkg_resources.extern.pyparsing' (<pkg_resources.extern.VendorImporter object at 0x000001C27EEBD7E0>)>, 'pkg_resources.extern.pyparsing': <module 'pkg_resources.extern.pyparsing' (<pkg_resources.extern.VendorImporter object at 0x000001C27EEBD7E0>)>, 'pkg_resources.extern.packaging.markers': <module 'pkg_resources.extern.packaging.markers' from 'C:\\\\Users\\\\Hello\\\\AppData\\\\Local\\\\Programs\\\\Python\\\\Python310\\\\lib\\\\site-packages\\\\pkg_resources\\\\_vendor\\\\packaging\\\\markers.py'>, 'pkg_resources.extern.packaging.requirements': <module 'pkg_resources.extern.packaging.requirements' from 'C:\\\\Users\\\\Hello\\\\AppData\\\\Local\\\\Programs\\\\Python\\\\Python310\\\\lib\\\\site-packages\\\\pkg_resources\\\\_vendor\\\\packaging\\\\requirements.py'>, 'pkg_resources': <module 'pkg_resources' from 'C:\\\\Users\\\\Hello\\\\AppData\\\\Local\\\\Programs\\\\Python\\\\Python310\\\\lib\\\\site-packages\\\\pkg_resources\\\\__init__.py'>, 'pydevd_plugins': <module 'pydevd_plugins' from 'C:\\\\Users\\\\Hello\\\\AppData\\\\Local\\\\Programs\\\\Python\\\\Python310\\\\lib\\\\site-packages\\\\debugpy\\\\_vendored\\\\pydevd\\\\pydevd_plugins\\\\__init__.py'>, '_pydev_bundle.pydev_log': <module '_pydev_bundle.pydev_log' from 'C:\\\\Users\\\\Hello\\\\AppData\\\\Local\\\\Programs\\\\Python\\\\Python310\\\\lib\\\\site-packages\\\\debugpy\\\\_vendored\\\\pydevd\\\\_pydev_bundle\\\\pydev_log.py'>, '_pydev_bundle._pydev_filesystem_encoding': <module '_pydev_bundle._pydev_filesystem_encoding' from 'C:\\\\Users\\\\Hello\\\\AppData\\\\Local\\\\Programs\\\\Python\\\\Python310\\\\lib\\\\site-packages\\\\debugpy\\\\_vendored\\\\pydevd\\\\_pydev_bundle\\\\_pydev_filesystem_encoding.py'>, '_pydevd_bundle.pydevd_comm_constants': <module '_pydevd_bundle.pydevd_comm_constants' from 'C:\\\\Users\\\\Hello\\\\AppData\\\\Local\\\\Programs\\\\Python\\\\Python310\\\\lib\\\\site-packages\\\\debugpy\\\\_vendored\\\\pydevd\\\\_pydevd_bundle\\\\pydevd_comm_constants.py'>, 'pydevd_file_utils': <module 'pydevd_file_utils' from 'C:\\\\Users\\\\Hello\\\\AppData\\\\Local\\\\Programs\\\\Python\\\\Python310\\\\lib\\\\site-packages\\\\debugpy\\\\_vendored\\\\pydevd\\\\pydevd_file_utils.py'>, '_pydev_bundle._pydev_execfile': <module '_pydev_bundle._pydev_execfile' from 'C:\\\\Users\\\\Hello\\\\AppData\\\\Local\\\\Programs\\\\Python\\\\Python310\\\\lib\\\\site-packages\\\\debugpy\\\\_vendored\\\\pydevd\\\\_pydev_bundle\\\\_pydev_execfile.py'>, '_pydevd_bundle.pydevd_exec2': <module '_pydevd_bundle.pydevd_exec2' from 'C:\\\\Users\\\\Hello\\\\AppData\\\\Local\\\\Programs\\\\Python\\\\Python310\\\\lib\\\\site-packages\\\\debugpy\\\\_vendored\\\\pydevd\\\\_pydevd_bundle\\\\pydevd_exec2.py'>, '_pydev_bundle.pydev_imports': <module '_pydev_bundle.pydev_imports' from 'C:\\\\Users\\\\Hello\\\\AppData\\\\Local\\\\Programs\\\\Python\\\\Python310\\\\lib\\\\site-packages\\\\debugpy\\\\_vendored\\\\pydevd\\\\_pydev_bundle\\\\pydev_imports.py'>, '_pydev_bundle.pydev_is_thread_alive': <module '_pydev_bundle.pydev_is_thread_alive' from 'C:\\\\Users\\\\Hello\\\\AppData\\\\Local\\\\Programs\\\\Python\\\\Python310\\\\lib\\\\site-packages\\\\debugpy\\\\_vendored\\\\pydevd\\\\_pydev_bundle\\\\pydev_is_thread_alive.py'>, '_pydev_bundle.pydev_override': <module '_pydev_bundle.pydev_override' from 'C:\\\\Users\\\\Hello\\\\AppData\\\\Local\\\\Programs\\\\Python\\\\Python310\\\\lib\\\\site-packages\\\\debugpy\\\\_vendored\\\\pydevd\\\\_pydev_bundle\\\\pydev_override.py'>, 'pydevd_plugins.extensions': <module 'pydevd_plugins.extensions' from 'C:\\\\Users\\\\Hello\\\\AppData\\\\Local\\\\Programs\\\\Python\\\\Python310\\\\lib\\\\site-packages\\\\debugpy\\\\_vendored\\\\pydevd\\\\pydevd_plugins\\\\extensions\\\\__init__.py'>, '_pydevd_bundle.pydevd_extension_utils': <module '_pydevd_bundle.pydevd_extension_utils' from 'C:\\\\Users\\\\Hello\\\\AppData\\\\Local\\\\Programs\\\\Python\\\\Python310\\\\lib\\\\site-packages\\\\debugpy\\\\_vendored\\\\pydevd\\\\_pydevd_bundle\\\\pydevd_extension_utils.py'>, '_pydevd_bundle.pydevd_frame_utils': <module '_pydevd_bundle.pydevd_frame_utils' from 'C:\\\\Users\\\\Hello\\\\AppData\\\\Local\\\\Programs\\\\Python\\\\Python310\\\\lib\\\\site-packages\\\\debugpy\\\\_vendored\\\\pydevd\\\\_pydevd_bundle\\\\pydevd_frame_utils.py'>, '_pydevd_bundle.pydevd_filtering': <module '_pydevd_bundle.pydevd_filtering' from 'C:\\\\Users\\\\Hello\\\\AppData\\\\Local\\\\Programs\\\\Python\\\\Python310\\\\lib\\\\site-packages\\\\debugpy\\\\_vendored\\\\pydevd\\\\_pydevd_bundle\\\\pydevd_filtering.py'>, '_pydevd_bundle.pydevd_io': <module '_pydevd_bundle.pydevd_io' from 'C:\\\\Users\\\\Hello\\\\AppData\\\\Local\\\\Programs\\\\Python\\\\Python310\\\\lib\\\\site-packages\\\\debugpy\\\\_vendored\\\\pydevd\\\\_pydevd_bundle\\\\pydevd_io.py'>, '_pydevd_bundle.pydevd_defaults': <module '_pydevd_bundle.pydevd_defaults' from 'C:\\\\Users\\\\Hello\\\\AppData\\\\Local\\\\Programs\\\\Python\\\\Python310\\\\lib\\\\site-packages\\\\debugpy\\\\_vendored\\\\pydevd\\\\_pydevd_bundle\\\\pydevd_defaults.py'>, '_pydevd_bundle.pydevd_utils': <module '_pydevd_bundle.pydevd_utils' from 'C:\\\\Users\\\\Hello\\\\AppData\\\\Local\\\\Programs\\\\Python\\\\Python310\\\\lib\\\\site-packages\\\\debugpy\\\\_vendored\\\\pydevd\\\\_pydevd_bundle\\\\pydevd_utils.py'>, '_pydevd_bundle.pydevd_runpy': <module '_pydevd_bundle.pydevd_runpy' from 'C:\\\\Users\\\\Hello\\\\AppData\\\\Local\\\\Programs\\\\Python\\\\Python310\\\\lib\\\\site-packages\\\\debugpy\\\\_vendored\\\\pydevd\\\\_pydevd_bundle\\\\pydevd_runpy.py'>, '_pydev_bundle._pydev_tipper_common': <module '_pydev_bundle._pydev_tipper_common' from 'C:\\\\Users\\\\Hello\\\\AppData\\\\Local\\\\Programs\\\\Python\\\\Python310\\\\lib\\\\site-packages\\\\debugpy\\\\_vendored\\\\pydevd\\\\_pydev_bundle\\\\_pydev_tipper_common.py'>, '_pydev_bundle._pydev_imports_tipper': <module '_pydev_bundle._pydev_imports_tipper' from 'C:\\\\Users\\\\Hello\\\\AppData\\\\Local\\\\Programs\\\\Python\\\\Python310\\\\lib\\\\site-packages\\\\debugpy\\\\_vendored\\\\pydevd\\\\_pydev_bundle\\\\_pydev_imports_tipper.py'>, '_pydev_bundle._pydev_calltip_util': <module '_pydev_bundle._pydev_calltip_util' from 'C:\\\\Users\\\\Hello\\\\AppData\\\\Local\\\\Programs\\\\Python\\\\Python310\\\\lib\\\\site-packages\\\\debugpy\\\\_vendored\\\\pydevd\\\\_pydev_bundle\\\\_pydev_calltip_util.py'>, '_pydevd_bundle.pydevd_safe_repr': <module '_pydevd_bundle.pydevd_safe_repr' from 'C:\\\\Users\\\\Hello\\\\AppData\\\\Local\\\\Programs\\\\Python\\\\Python310\\\\lib\\\\site-packages\\\\debugpy\\\\_vendored\\\\pydevd\\\\_pydevd_bundle\\\\pydevd_safe_repr.py'>, '_pydevd_bundle.pydevd_resolver': <module '_pydevd_bundle.pydevd_resolver' from 'C:\\\\Users\\\\Hello\\\\AppData\\\\Local\\\\Programs\\\\Python\\\\Python310\\\\lib\\\\site-packages\\\\debugpy\\\\_vendored\\\\pydevd\\\\_pydevd_bundle\\\\pydevd_resolver.py'>, '_pydevd_bundle.pydevd_extension_api': <module '_pydevd_bundle.pydevd_extension_api' from 'C:\\\\Users\\\\Hello\\\\AppData\\\\Local\\\\Programs\\\\Python\\\\Python310\\\\lib\\\\site-packages\\\\debugpy\\\\_vendored\\\\pydevd\\\\_pydevd_bundle\\\\pydevd_extension_api.py'>, '_pydevd_bundle.pydevd_xml': <module '_pydevd_bundle.pydevd_xml' from 'C:\\\\Users\\\\Hello\\\\AppData\\\\Local\\\\Programs\\\\Python\\\\Python310\\\\lib\\\\site-packages\\\\debugpy\\\\_vendored\\\\pydevd\\\\_pydevd_bundle\\\\pydevd_xml.py'>, '_pydevd_bundle.pydevd_dont_trace': <module '_pydevd_bundle.pydevd_dont_trace' from 'C:\\\\Users\\\\Hello\\\\AppData\\\\Local\\\\Programs\\\\Python\\\\Python310\\\\lib\\\\site-packages\\\\debugpy\\\\_vendored\\\\pydevd\\\\_pydevd_bundle\\\\pydevd_dont_trace.py'>, '_pydevd_frame_eval.vendored': <module '_pydevd_frame_eval.vendored' from 'C:\\\\Users\\\\Hello\\\\AppData\\\\Local\\\\Programs\\\\Python\\\\Python310\\\\lib\\\\site-packages\\\\debugpy\\\\_vendored\\\\pydevd\\\\_pydevd_frame_eval\\\\vendored\\\\__init__.py'>, '_pydevd_frame_eval.vendored.bytecode.flags': <module '_pydevd_frame_eval.vendored.bytecode.flags' from 'C:\\\\Users\\\\Hello\\\\AppData\\\\Local\\\\Programs\\\\Python\\\\Python310\\\\lib\\\\site-packages\\\\debugpy\\\\_vendored\\\\pydevd\\\\_pydevd_frame_eval\\\\vendored\\\\bytecode\\\\flags.py'>, '_pydevd_frame_eval.vendored.bytecode.instr': <module '_pydevd_frame_eval.vendored.bytecode.instr' from 'C:\\\\Users\\\\Hello\\\\AppData\\\\Local\\\\Programs\\\\Python\\\\Python310\\\\lib\\\\site-packages\\\\debugpy\\\\_vendored\\\\pydevd\\\\_pydevd_frame_eval\\\\vendored\\\\bytecode\\\\instr.py'>, '_pydevd_frame_eval.vendored.bytecode.bytecode': <module '_pydevd_frame_eval.vendored.bytecode.bytecode' from 'C:\\\\Users\\\\Hello\\\\AppData\\\\Local\\\\Programs\\\\Python\\\\Python310\\\\lib\\\\site-packages\\\\debugpy\\\\_vendored\\\\pydevd\\\\_pydevd_frame_eval\\\\vendored\\\\bytecode\\\\bytecode.py'>, '_pydevd_frame_eval.vendored.bytecode.concrete': <module '_pydevd_frame_eval.vendored.bytecode.concrete' from 'C:\\\\Users\\\\Hello\\\\AppData\\\\Local\\\\Programs\\\\Python\\\\Python310\\\\lib\\\\site-packages\\\\debugpy\\\\_vendored\\\\pydevd\\\\_pydevd_frame_eval\\\\vendored\\\\bytecode\\\\concrete.py'>, '_pydevd_frame_eval.vendored.bytecode.cfg': <module '_pydevd_frame_eval.vendored.bytecode.cfg' from 'C:\\\\Users\\\\Hello\\\\AppData\\\\Local\\\\Programs\\\\Python\\\\Python310\\\\lib\\\\site-packages\\\\debugpy\\\\_vendored\\\\pydevd\\\\_pydevd_frame_eval\\\\vendored\\\\bytecode\\\\cfg.py'>, '_pydevd_frame_eval.vendored.bytecode': <module '_pydevd_frame_eval.vendored.bytecode' from 'C:\\\\Users\\\\Hello\\\\AppData\\\\Local\\\\Programs\\\\Python\\\\Python310\\\\lib\\\\site-packages\\\\debugpy\\\\_vendored\\\\pydevd\\\\_pydevd_frame_eval\\\\vendored\\\\bytecode\\\\__init__.py'>, '_pydevd_bundle.pydevd_bytecode_utils': <module '_pydevd_bundle.pydevd_bytecode_utils' from 'C:\\\\Users\\\\Hello\\\\AppData\\\\Local\\\\Programs\\\\Python\\\\Python310\\\\lib\\\\site-packages\\\\debugpy\\\\_vendored\\\\pydevd\\\\_pydevd_bundle\\\\pydevd_bytecode_utils.py'>, '_pydevd_bundle.pydevd_cython': <module '_pydevd_bundle.pydevd_cython' from 'C:\\\\Users\\\\Hello\\\\AppData\\\\Local\\\\Programs\\\\Python\\\\Python310\\\\lib\\\\site-packages\\\\debugpy\\\\_vendored\\\\pydevd\\\\_pydevd_bundle\\\\pydevd_cython.cp310-win_amd64.pyd'>, '_pydevd_bundle.pydevd_cython_wrapper': <module '_pydevd_bundle.pydevd_cython_wrapper' from 'C:\\\\Users\\\\Hello\\\\AppData\\\\Local\\\\Programs\\\\Python\\\\Python310\\\\lib\\\\site-packages\\\\debugpy\\\\_vendored\\\\pydevd\\\\_pydevd_bundle\\\\pydevd_cython_wrapper.py'>, '_pydevd_bundle.pydevd_additional_thread_info': <module '_pydevd_bundle.pydevd_additional_thread_info' from 'C:\\\\Users\\\\Hello\\\\AppData\\\\Local\\\\Programs\\\\Python\\\\Python310\\\\lib\\\\site-packages\\\\debugpy\\\\_vendored\\\\pydevd\\\\_pydevd_bundle\\\\pydevd_additional_thread_info.py'>, '_pydevd_bundle.pydevd_thread_lifecycle': <module '_pydevd_bundle.pydevd_thread_lifecycle' from 'C:\\\\Users\\\\Hello\\\\AppData\\\\Local\\\\Programs\\\\Python\\\\Python310\\\\lib\\\\site-packages\\\\debugpy\\\\_vendored\\\\pydevd\\\\_pydevd_bundle\\\\pydevd_thread_lifecycle.py'>, '_pydevd_bundle.pydevd_save_locals': <module '_pydevd_bundle.pydevd_save_locals' from 'C:\\\\Users\\\\Hello\\\\AppData\\\\Local\\\\Programs\\\\Python\\\\Python310\\\\lib\\\\site-packages\\\\debugpy\\\\_vendored\\\\pydevd\\\\_pydevd_bundle\\\\pydevd_save_locals.py'>, '_pydev_bundle.pydev_monkey': <module '_pydev_bundle.pydev_monkey' from 'C:\\\\Users\\\\Hello\\\\AppData\\\\Local\\\\Programs\\\\Python\\\\Python310\\\\lib\\\\site-packages\\\\debugpy\\\\_vendored\\\\pydevd\\\\_pydev_bundle\\\\pydev_monkey.py'>, 'pydevd_tracing': <module 'pydevd_tracing' from 'C:\\\\Users\\\\Hello\\\\AppData\\\\Local\\\\Programs\\\\Python\\\\Python310\\\\lib\\\\site-packages\\\\debugpy\\\\_vendored\\\\pydevd\\\\pydevd_tracing.py'>, '_pydevd_bundle.pydevd_collect_bytecode_info': <module '_pydevd_bundle.pydevd_collect_bytecode_info' from 'C:\\\\Users\\\\Hello\\\\AppData\\\\Local\\\\Programs\\\\Python\\\\Python310\\\\lib\\\\site-packages\\\\debugpy\\\\_vendored\\\\pydevd\\\\_pydevd_bundle\\\\pydevd_collect_bytecode_info.py'>, '_pydevd_bundle.pydevd_daemon_thread': <module '_pydevd_bundle.pydevd_daemon_thread' from 'C:\\\\Users\\\\Hello\\\\AppData\\\\Local\\\\Programs\\\\Python\\\\Python310\\\\lib\\\\site-packages\\\\debugpy\\\\_vendored\\\\pydevd\\\\_pydevd_bundle\\\\pydevd_daemon_thread.py'>, '_pydevd_bundle.pydevd_timeout': <module '_pydevd_bundle.pydevd_timeout' from 'C:\\\\Users\\\\Hello\\\\AppData\\\\Local\\\\Programs\\\\Python\\\\Python310\\\\lib\\\\site-packages\\\\debugpy\\\\_vendored\\\\pydevd\\\\_pydevd_bundle\\\\pydevd_timeout.py'>, '_pydevd_bundle.pydevd_vars': <module '_pydevd_bundle.pydevd_vars' from 'C:\\\\Users\\\\Hello\\\\AppData\\\\Local\\\\Programs\\\\Python\\\\Python310\\\\lib\\\\site-packages\\\\debugpy\\\\_vendored\\\\pydevd\\\\_pydevd_bundle\\\\pydevd_vars.py'>, '_pydev_bundle.pydev_console_utils': <module '_pydev_bundle.pydev_console_utils' from 'C:\\\\Users\\\\Hello\\\\AppData\\\\Local\\\\Programs\\\\Python\\\\Python310\\\\lib\\\\site-packages\\\\debugpy\\\\_vendored\\\\pydevd\\\\_pydev_bundle\\\\pydev_console_utils.py'>, '_pydevd_bundle.pydevd_import_class': <module '_pydevd_bundle.pydevd_import_class' from 'C:\\\\Users\\\\Hello\\\\AppData\\\\Local\\\\Programs\\\\Python\\\\Python310\\\\lib\\\\site-packages\\\\debugpy\\\\_vendored\\\\pydevd\\\\_pydevd_bundle\\\\pydevd_import_class.py'>, '_pydevd_bundle.pydevd_breakpoints': <module '_pydevd_bundle.pydevd_breakpoints' from 'C:\\\\Users\\\\Hello\\\\AppData\\\\Local\\\\Programs\\\\Python\\\\Python310\\\\lib\\\\site-packages\\\\debugpy\\\\_vendored\\\\pydevd\\\\_pydevd_bundle\\\\pydevd_breakpoints.py'>, '_pydevd_bundle.pydevd_custom_frames': <module '_pydevd_bundle.pydevd_custom_frames' from 'C:\\\\Users\\\\Hello\\\\AppData\\\\Local\\\\Programs\\\\Python\\\\Python310\\\\lib\\\\site-packages\\\\debugpy\\\\_vendored\\\\pydevd\\\\_pydevd_bundle\\\\pydevd_custom_frames.py'>, '_pydevd_bundle.pydevd_dont_trace_files': <module '_pydevd_bundle.pydevd_dont_trace_files' from 'C:\\\\Users\\\\Hello\\\\AppData\\\\Local\\\\Programs\\\\Python\\\\Python310\\\\lib\\\\site-packages\\\\debugpy\\\\_vendored\\\\pydevd\\\\_pydevd_bundle\\\\pydevd_dont_trace_files.py'>, '_pydevd_bundle.pydevd_net_command': <module '_pydevd_bundle.pydevd_net_command' from 'C:\\\\Users\\\\Hello\\\\AppData\\\\Local\\\\Programs\\\\Python\\\\Python310\\\\lib\\\\site-packages\\\\debugpy\\\\_vendored\\\\pydevd\\\\_pydevd_bundle\\\\pydevd_net_command.py'>, '_pydevd_bundle.pydevconsole_code': <module '_pydevd_bundle.pydevconsole_code' from 'C:\\\\Users\\\\Hello\\\\AppData\\\\Local\\\\Programs\\\\Python\\\\Python310\\\\lib\\\\site-packages\\\\debugpy\\\\_vendored\\\\pydevd\\\\_pydevd_bundle\\\\pydevconsole_code.py'>, '_pydev_bundle.pydev_umd': <module '_pydev_bundle.pydev_umd' from 'C:\\\\Users\\\\Hello\\\\AppData\\\\Local\\\\Programs\\\\Python\\\\Python310\\\\lib\\\\site-packages\\\\debugpy\\\\_vendored\\\\pydevd\\\\_pydev_bundle\\\\pydev_umd.py'>, 'pydevconsole': <module 'pydevconsole' from 'C:\\\\Users\\\\Hello\\\\AppData\\\\Local\\\\Programs\\\\Python\\\\Python310\\\\lib\\\\site-packages\\\\debugpy\\\\_vendored\\\\pydevd\\\\pydevconsole.py'>, '_pydev_bundle._pydev_completer': <module '_pydev_bundle._pydev_completer' from 'C:\\\\Users\\\\Hello\\\\AppData\\\\Local\\\\Programs\\\\Python\\\\Python310\\\\lib\\\\site-packages\\\\debugpy\\\\_vendored\\\\pydevd\\\\_pydev_bundle\\\\_pydev_completer.py'>, '_pydevd_bundle.pydevd_net_command_factory_xml': <module '_pydevd_bundle.pydevd_net_command_factory_xml' from 'C:\\\\Users\\\\Hello\\\\AppData\\\\Local\\\\Programs\\\\Python\\\\Python310\\\\lib\\\\site-packages\\\\debugpy\\\\_vendored\\\\pydevd\\\\_pydevd_bundle\\\\pydevd_net_command_factory_xml.py'>, '_pydevd_bundle.pydevd_frame': <module '_pydevd_bundle.pydevd_frame' from 'C:\\\\Users\\\\Hello\\\\AppData\\\\Local\\\\Programs\\\\Python\\\\Python310\\\\lib\\\\site-packages\\\\debugpy\\\\_vendored\\\\pydevd\\\\_pydevd_bundle\\\\pydevd_frame.py'>, '_pydevd_bundle.pydevd_additional_thread_info_regular': <module '_pydevd_bundle.pydevd_additional_thread_info_regular' from 'C:\\\\Users\\\\Hello\\\\AppData\\\\Local\\\\Programs\\\\Python\\\\Python310\\\\lib\\\\site-packages\\\\debugpy\\\\_vendored\\\\pydevd\\\\_pydevd_bundle\\\\pydevd_additional_thread_info_regular.py'>, '_pydevd_bundle.pydevd_trace_dispatch': <module '_pydevd_bundle.pydevd_trace_dispatch' from 'C:\\\\Users\\\\Hello\\\\AppData\\\\Local\\\\Programs\\\\Python\\\\Python310\\\\lib\\\\site-packages\\\\debugpy\\\\_vendored\\\\pydevd\\\\_pydevd_bundle\\\\pydevd_trace_dispatch.py'>, '_pydevd_frame_eval.pydevd_frame_eval_main': <module '_pydevd_frame_eval.pydevd_frame_eval_main' from 'C:\\\\Users\\\\Hello\\\\AppData\\\\Local\\\\Programs\\\\Python\\\\Python310\\\\lib\\\\site-packages\\\\debugpy\\\\_vendored\\\\pydevd\\\\_pydevd_frame_eval\\\\pydevd_frame_eval_main.py'>, '_pydevd_bundle.pydevd_source_mapping': <module '_pydevd_bundle.pydevd_source_mapping' from 'C:\\\\Users\\\\Hello\\\\AppData\\\\Local\\\\Programs\\\\Python\\\\Python310\\\\lib\\\\site-packages\\\\debugpy\\\\_vendored\\\\pydevd\\\\_pydevd_bundle\\\\pydevd_source_mapping.py'>, '_pydevd_bundle.pydevd_concurrency_analyser': <module '_pydevd_bundle.pydevd_concurrency_analyser' from 'C:\\\\Users\\\\Hello\\\\AppData\\\\Local\\\\Programs\\\\Python\\\\Python310\\\\lib\\\\site-packages\\\\debugpy\\\\_vendored\\\\pydevd\\\\_pydevd_bundle\\\\pydevd_concurrency_analyser\\\\__init__.py'>, '_pydevd_bundle.pydevd_concurrency_analyser.pydevd_thread_wrappers': <module '_pydevd_bundle.pydevd_concurrency_analyser.pydevd_thread_wrappers' from 'C:\\\\Users\\\\Hello\\\\AppData\\\\Local\\\\Programs\\\\Python\\\\Python310\\\\lib\\\\site-packages\\\\debugpy\\\\_vendored\\\\pydevd\\\\_pydevd_bundle\\\\pydevd_concurrency_analyser\\\\pydevd_thread_wrappers.py'>, '_pydevd_bundle.pydevd_concurrency_analyser.pydevd_concurrency_logger': <module '_pydevd_bundle.pydevd_concurrency_analyser.pydevd_concurrency_logger' from 'C:\\\\Users\\\\Hello\\\\AppData\\\\Local\\\\Programs\\\\Python\\\\Python310\\\\lib\\\\site-packages\\\\debugpy\\\\_vendored\\\\pydevd\\\\_pydevd_bundle\\\\pydevd_concurrency_analyser\\\\pydevd_concurrency_logger.py'>, '_pydevd_bundle._debug_adapter': <module '_pydevd_bundle._debug_adapter' from 'C:\\\\Users\\\\Hello\\\\AppData\\\\Local\\\\Programs\\\\Python\\\\Python310\\\\lib\\\\site-packages\\\\debugpy\\\\_vendored\\\\pydevd\\\\_pydevd_bundle\\\\_debug_adapter\\\\__init__.py'>, '_pydevd_bundle._debug_adapter.pydevd_schema_log': <module '_pydevd_bundle._debug_adapter.pydevd_schema_log' from 'C:\\\\Users\\\\Hello\\\\AppData\\\\Local\\\\Programs\\\\Python\\\\Python310\\\\lib\\\\site-packages\\\\debugpy\\\\_vendored\\\\pydevd\\\\_pydevd_bundle\\\\_debug_adapter\\\\pydevd_schema_log.py'>, '_pydevd_bundle._debug_adapter.pydevd_base_schema': <module '_pydevd_bundle._debug_adapter.pydevd_base_schema' from 'C:\\\\Users\\\\Hello\\\\AppData\\\\Local\\\\Programs\\\\Python\\\\Python310\\\\lib\\\\site-packages\\\\debugpy\\\\_vendored\\\\pydevd\\\\_pydevd_bundle\\\\_debug_adapter\\\\pydevd_base_schema.py'>, '_pydevd_bundle._debug_adapter.pydevd_schema': <module '_pydevd_bundle._debug_adapter.pydevd_schema' from 'C:\\\\Users\\\\Hello\\\\AppData\\\\Local\\\\Programs\\\\Python\\\\Python310\\\\lib\\\\site-packages\\\\debugpy\\\\_vendored\\\\pydevd\\\\_pydevd_bundle\\\\_debug_adapter\\\\pydevd_schema.py'>, '_pydevd_bundle.pydevd_reload': <module '_pydevd_bundle.pydevd_reload' from 'C:\\\\Users\\\\Hello\\\\AppData\\\\Local\\\\Programs\\\\Python\\\\Python310\\\\lib\\\\site-packages\\\\debugpy\\\\_vendored\\\\pydevd\\\\_pydevd_bundle\\\\pydevd_reload.py'>, '_pydev_bundle.fsnotify': <module '_pydev_bundle.fsnotify' from 'C:\\\\Users\\\\Hello\\\\AppData\\\\Local\\\\Programs\\\\Python\\\\Python310\\\\lib\\\\site-packages\\\\debugpy\\\\_vendored\\\\pydevd\\\\_pydev_bundle\\\\fsnotify\\\\__init__.py'>, '_pydevd_bundle.pydevd_console': <module '_pydevd_bundle.pydevd_console' from 'C:\\\\Users\\\\Hello\\\\AppData\\\\Local\\\\Programs\\\\Python\\\\Python310\\\\lib\\\\site-packages\\\\debugpy\\\\_vendored\\\\pydevd\\\\_pydevd_bundle\\\\pydevd_console.py'>, '_pydevd_bundle.pydevd_comm': <module '_pydevd_bundle.pydevd_comm' from 'C:\\\\Users\\\\Hello\\\\AppData\\\\Local\\\\Programs\\\\Python\\\\Python310\\\\lib\\\\site-packages\\\\debugpy\\\\_vendored\\\\pydevd\\\\_pydevd_bundle\\\\pydevd_comm.py'>, '_pydevd_bundle.pydevd_net_command_factory_json': <module '_pydevd_bundle.pydevd_net_command_factory_json' from 'C:\\\\Users\\\\Hello\\\\AppData\\\\Local\\\\Programs\\\\Python\\\\Python310\\\\lib\\\\site-packages\\\\debugpy\\\\_vendored\\\\pydevd\\\\_pydevd_bundle\\\\pydevd_net_command_factory_json.py'>, '_pydevd_bundle.pydevd_api': <module '_pydevd_bundle.pydevd_api' from 'C:\\\\Users\\\\Hello\\\\AppData\\\\Local\\\\Programs\\\\Python\\\\Python310\\\\lib\\\\site-packages\\\\debugpy\\\\_vendored\\\\pydevd\\\\_pydevd_bundle\\\\pydevd_api.py'>, '_pydevd_bundle.pydevd_json_debug_options': <module '_pydevd_bundle.pydevd_json_debug_options' from 'C:\\\\Users\\\\Hello\\\\AppData\\\\Local\\\\Programs\\\\Python\\\\Python310\\\\lib\\\\site-packages\\\\debugpy\\\\_vendored\\\\pydevd\\\\_pydevd_bundle\\\\pydevd_json_debug_options.py'>, '_pydevd_bundle.pydevd_process_net_command_json': <module '_pydevd_bundle.pydevd_process_net_command_json' from 'C:\\\\Users\\\\Hello\\\\AppData\\\\Local\\\\Programs\\\\Python\\\\Python310\\\\lib\\\\site-packages\\\\debugpy\\\\_vendored\\\\pydevd\\\\_pydevd_bundle\\\\pydevd_process_net_command_json.py'>, '_pydevd_bundle.pydevd_traceproperty': <module '_pydevd_bundle.pydevd_traceproperty' from 'C:\\\\Users\\\\Hello\\\\AppData\\\\Local\\\\Programs\\\\Python\\\\Python310\\\\lib\\\\site-packages\\\\debugpy\\\\_vendored\\\\pydevd\\\\_pydevd_bundle\\\\pydevd_traceproperty.py'>, '_pydevd_bundle.pydevd_process_net_command': <module '_pydevd_bundle.pydevd_process_net_command' from 'C:\\\\Users\\\\Hello\\\\AppData\\\\Local\\\\Programs\\\\Python\\\\Python310\\\\lib\\\\site-packages\\\\debugpy\\\\_vendored\\\\pydevd\\\\_pydevd_bundle\\\\pydevd_process_net_command.py'>, '_pydevd_bundle.pydevd_suspended_frames': <module '_pydevd_bundle.pydevd_suspended_frames' from 'C:\\\\Users\\\\Hello\\\\AppData\\\\Local\\\\Programs\\\\Python\\\\Python310\\\\lib\\\\site-packages\\\\debugpy\\\\_vendored\\\\pydevd\\\\_pydevd_bundle\\\\pydevd_suspended_frames.py'>, '_pydevd_bundle.pydevd_trace_api': <module '_pydevd_bundle.pydevd_trace_api' from 'C:\\\\Users\\\\Hello\\\\AppData\\\\Local\\\\Programs\\\\Python\\\\Python310\\\\lib\\\\site-packages\\\\debugpy\\\\_vendored\\\\pydevd\\\\_pydevd_bundle\\\\pydevd_trace_api.py'>, 'pydevd_plugins.pydevd_line_validation': <module 'pydevd_plugins.pydevd_line_validation' from 'C:\\\\Users\\\\Hello\\\\AppData\\\\Local\\\\Programs\\\\Python\\\\Python310\\\\lib\\\\site-packages\\\\debugpy\\\\_vendored\\\\pydevd\\\\pydevd_plugins\\\\pydevd_line_validation.py'>, 'pydevd_plugins.django_debug': <module 'pydevd_plugins.django_debug' from 'C:\\\\Users\\\\Hello\\\\AppData\\\\Local\\\\Programs\\\\Python\\\\Python310\\\\lib\\\\site-packages\\\\debugpy\\\\_vendored\\\\pydevd\\\\pydevd_plugins\\\\django_debug.py'>, 'pydevd_plugins.jinja2_debug': <module 'pydevd_plugins.jinja2_debug' from 'C:\\\\Users\\\\Hello\\\\AppData\\\\Local\\\\Programs\\\\Python\\\\Python310\\\\lib\\\\site-packages\\\\debugpy\\\\_vendored\\\\pydevd\\\\pydevd_plugins\\\\jinja2_debug.py'>, '_pydevd_bundle.pydevd_plugin_utils': <module '_pydevd_bundle.pydevd_plugin_utils' from 'C:\\\\Users\\\\Hello\\\\AppData\\\\Local\\\\Programs\\\\Python\\\\Python310\\\\lib\\\\site-packages\\\\debugpy\\\\_vendored\\\\pydevd\\\\_pydevd_bundle\\\\pydevd_plugin_utils.py'>, 'pydevd_plugins.extensions.types': <module 'pydevd_plugins.extensions.types' from 'C:\\\\Users\\\\Hello\\\\AppData\\\\Local\\\\Programs\\\\Python\\\\Python310\\\\lib\\\\site-packages\\\\debugpy\\\\_vendored\\\\pydevd\\\\pydevd_plugins\\\\extensions\\\\types\\\\__init__.py'>, 'pydevd_plugins.extensions.types.pydevd_helpers': <module 'pydevd_plugins.extensions.types.pydevd_helpers' from 'C:\\\\Users\\\\Hello\\\\AppData\\\\Local\\\\Programs\\\\Python\\\\Python310\\\\lib\\\\site-packages\\\\debugpy\\\\_vendored\\\\pydevd\\\\pydevd_plugins\\\\extensions\\\\types\\\\pydevd_helpers.py'>, 'pydevd_plugins.extensions.types.pydevd_plugin_numpy_types': <module 'pydevd_plugins.extensions.types.pydevd_plugin_numpy_types' from 'C:\\\\Users\\\\Hello\\\\AppData\\\\Local\\\\Programs\\\\Python\\\\Python310\\\\lib\\\\site-packages\\\\debugpy\\\\_vendored\\\\pydevd\\\\pydevd_plugins\\\\extensions\\\\types\\\\pydevd_plugin_numpy_types.py'>, 'pydevd_plugins.extensions.types.pydevd_plugin_pandas_types': <module 'pydevd_plugins.extensions.types.pydevd_plugin_pandas_types' from 'C:\\\\Users\\\\Hello\\\\AppData\\\\Local\\\\Programs\\\\Python\\\\Python310\\\\lib\\\\site-packages\\\\debugpy\\\\_vendored\\\\pydevd\\\\pydevd_plugins\\\\extensions\\\\types\\\\pydevd_plugin_pandas_types.py'>, 'pydevd_plugins.extensions.types.pydevd_plugins_django_form_str': <module 'pydevd_plugins.extensions.types.pydevd_plugins_django_form_str' from 'C:\\\\Users\\\\Hello\\\\AppData\\\\Local\\\\Programs\\\\Python\\\\Python310\\\\lib\\\\site-packages\\\\debugpy\\\\_vendored\\\\pydevd\\\\pydevd_plugins\\\\extensions\\\\types\\\\pydevd_plugins_django_form_str.py'>, 'pydevd': <module 'pydevd' from 'C:\\\\Users\\\\Hello\\\\AppData\\\\Local\\\\Programs\\\\Python\\\\Python310\\\\lib\\\\site-packages\\\\debugpy\\\\_vendored\\\\pydevd\\\\pydevd.py'>, 'debugpy._vendored.force_pydevd': <module 'debugpy._vendored.force_pydevd' from 'C:\\\\Users\\\\Hello\\\\AppData\\\\Local\\\\Programs\\\\Python\\\\Python310\\\\lib\\\\site-packages\\\\debugpy\\\\_vendored\\\\force_pydevd.py'>, 'debugpy.server': <module 'debugpy.server' from 'C:\\\\Users\\\\Hello\\\\AppData\\\\Local\\\\Programs\\\\Python\\\\Python310\\\\lib\\\\site-packages\\\\debugpy\\\\server\\\\__init__.py'>, 'debugpy.adapter': <module 'debugpy.adapter' from 'C:\\\\Users\\\\Hello\\\\AppData\\\\Local\\\\Programs\\\\Python\\\\Python310\\\\lib\\\\site-packages\\\\debugpy\\\\adapter\\\\__init__.py'>, 'debugpy.common': <module 'debugpy.common' from 'C:\\\\Users\\\\Hello\\\\AppData\\\\Local\\\\Programs\\\\Python\\\\Python310\\\\lib\\\\site-packages\\\\debugpy\\\\common\\\\__init__.py'>, 'debugpy.common.json': <module 'debugpy.common.json' from 'C:\\\\Users\\\\Hello\\\\AppData\\\\Local\\\\Programs\\\\Python\\\\Python310\\\\lib\\\\site-packages\\\\debugpy\\\\common\\\\json.py'>, 'debugpy.common.timestamp': <module 'debugpy.common.timestamp' from 'C:\\\\Users\\\\Hello\\\\AppData\\\\Local\\\\Programs\\\\Python\\\\Python310\\\\lib\\\\site-packages\\\\debugpy\\\\common\\\\timestamp.py'>, 'debugpy.common.util': <module 'debugpy.common.util' from 'C:\\\\Users\\\\Hello\\\\AppData\\\\Local\\\\Programs\\\\Python\\\\Python310\\\\lib\\\\site-packages\\\\debugpy\\\\common\\\\util.py'>, 'debugpy.common.log': <module 'debugpy.common.log' from 'C:\\\\Users\\\\Hello\\\\AppData\\\\Local\\\\Programs\\\\Python\\\\Python310\\\\lib\\\\site-packages\\\\debugpy\\\\common\\\\log.py'>, 'debugpy.common.sockets': <module 'debugpy.common.sockets' from 'C:\\\\Users\\\\Hello\\\\AppData\\\\Local\\\\Programs\\\\Python\\\\Python310\\\\lib\\\\site-packages\\\\debugpy\\\\common\\\\sockets.py'>, 'debugpy.server.api': <module 'debugpy.server.api' from 'C:\\\\Users\\\\Hello\\\\AppData\\\\Local\\\\Programs\\\\Python\\\\Python310\\\\lib\\\\site-packages\\\\debugpy\\\\server\\\\api.py'>, 'ipykernel.debugger': <module 'ipykernel.debugger' from 'C:\\\\Users\\\\Hello\\\\AppData\\\\Local\\\\Programs\\\\Python\\\\Python310\\\\lib\\\\site-packages\\\\ipykernel\\\\debugger.py'>, 'packaging': <module 'packaging' from 'C:\\\\Users\\\\Hello\\\\AppData\\\\Local\\\\Programs\\\\Python\\\\Python310\\\\lib\\\\site-packages\\\\packaging\\\\__init__.py'>, 'packaging._structures': <module 'packaging._structures' from 'C:\\\\Users\\\\Hello\\\\AppData\\\\Local\\\\Programs\\\\Python\\\\Python310\\\\lib\\\\site-packages\\\\packaging\\\\_structures.py'>, 'packaging.version': <module 'packaging.version' from 'C:\\\\Users\\\\Hello\\\\AppData\\\\Local\\\\Programs\\\\Python\\\\Python310\\\\lib\\\\site-packages\\\\packaging\\\\version.py'>, 'ipykernel.eventloops': <module 'ipykernel.eventloops' from 'C:\\\\Users\\\\Hello\\\\AppData\\\\Local\\\\Programs\\\\Python\\\\Python310\\\\lib\\\\site-packages\\\\ipykernel\\\\eventloops.py'>, 'IPython.core.payloadpage': <module 'IPython.core.payloadpage' from 'C:\\\\Users\\\\Hello\\\\AppData\\\\Local\\\\Programs\\\\Python\\\\Python310\\\\lib\\\\site-packages\\\\IPython\\\\core\\\\payloadpage.py'>, 'ipykernel.displayhook': <module 'ipykernel.displayhook' from 'C:\\\\Users\\\\Hello\\\\AppData\\\\Local\\\\Programs\\\\Python\\\\Python310\\\\lib\\\\site-packages\\\\ipykernel\\\\displayhook.py'>, 'ipykernel.zmqshell': <module 'ipykernel.zmqshell' from 'C:\\\\Users\\\\Hello\\\\AppData\\\\Local\\\\Programs\\\\Python\\\\Python310\\\\lib\\\\site-packages\\\\ipykernel\\\\zmqshell.py'>, 'ipykernel.ipkernel': <module 'ipykernel.ipkernel' from 'C:\\\\Users\\\\Hello\\\\AppData\\\\Local\\\\Programs\\\\Python\\\\Python310\\\\lib\\\\site-packages\\\\ipykernel\\\\ipkernel.py'>, 'ipykernel.parentpoller': <module 'ipykernel.parentpoller' from 'C:\\\\Users\\\\Hello\\\\AppData\\\\Local\\\\Programs\\\\Python\\\\Python310\\\\lib\\\\site-packages\\\\ipykernel\\\\parentpoller.py'>, 'ipykernel.kernelapp': <module 'ipykernel.kernelapp' from 'C:\\\\Users\\\\Hello\\\\AppData\\\\Local\\\\Programs\\\\Python\\\\Python310\\\\lib\\\\site-packages\\\\ipykernel\\\\kernelapp.py'>, 'tornado.platform': <module 'tornado.platform' from 'C:\\\\Users\\\\Hello\\\\AppData\\\\Local\\\\Programs\\\\Python\\\\Python310\\\\lib\\\\site-packages\\\\tornado\\\\platform\\\\__init__.py'>, 'tornado.platform.asyncio': <module 'tornado.platform.asyncio' from 'C:\\\\Users\\\\Hello\\\\AppData\\\\Local\\\\Programs\\\\Python\\\\Python310\\\\lib\\\\site-packages\\\\tornado\\\\platform\\\\asyncio.py'>, 'ntsecuritycon': <module 'ntsecuritycon' from 'C:\\\\Users\\\\Hello\\\\AppData\\\\Local\\\\Programs\\\\Python\\\\Python310\\\\lib\\\\site-packages\\\\win32\\\\lib\\\\ntsecuritycon.py'>, 'win32security': <module 'win32security' from 'C:\\\\Users\\\\Hello\\\\AppData\\\\Local\\\\Programs\\\\Python\\\\Python310\\\\lib\\\\site-packages\\\\win32\\\\win32security.pyd'>, 'faulthandler': <module 'faulthandler' (built-in)>, 'IPython.core.completerlib': <module 'IPython.core.completerlib' from 'C:\\\\Users\\\\Hello\\\\AppData\\\\Local\\\\Programs\\\\Python\\\\Python310\\\\lib\\\\site-packages\\\\IPython\\\\core\\\\completerlib.py'>}\n"
     ]
    }
   ],
   "source": [
    "# print python modules\n",
    "\n",
    "print(sys.modules)"
   ]
  },
  {
   "cell_type": "code",
   "execution_count": 12,
   "id": "5f7dee54",
   "metadata": {},
   "outputs": [
    {
     "name": "stdout",
     "output_type": "stream",
     "text": [
      "utf-8\n"
     ]
    }
   ],
   "source": [
    "# print current default string encoding\n",
    "\n",
    "print(sys.getdefaultencoding())"
   ]
  },
  {
   "cell_type": "code",
   "execution_count": 53,
   "id": "d74bec47",
   "metadata": {},
   "outputs": [
    {
     "name": "stdout",
     "output_type": "stream",
     "text": [
      "D:\\EYouth\\My Materials\\03) python\n",
      "\n",
      "16\n"
     ]
    }
   ],
   "source": [
    "import os\n",
    "\n",
    "print(os.getcwd()) # get working directory\n",
    "\n",
    "print()\n",
    "\n",
    "print(os.cpu_count())\n"
   ]
  },
  {
   "cell_type": "markdown",
   "id": "084a257f",
   "metadata": {},
   "source": [
    "## <font color=red> Note </font>\n",
    "#### <font color=blue>utf-8: Unicode Transformation Format - 8-bit </font>\n",
    "- character encoding capable of encoding all possible characters in Unicode\n",
    "- The encoding is variable-length and uses 1 to 4 bytes for each character.\n",
    "- compatible with ASCII"
   ]
  },
  {
   "cell_type": "markdown",
   "id": "a4f4484c",
   "metadata": {},
   "source": [
    "## Object reference"
   ]
  },
  {
   "cell_type": "code",
   "execution_count": 12,
   "id": "6981c895",
   "metadata": {},
   "outputs": [
    {
     "name": "stdout",
     "output_type": "stream",
     "text": [
      "50 50\n",
      "1959583942416 1959583942416\n",
      "50 100\n",
      "1959583942416 1959583944016\n"
     ]
    }
   ],
   "source": [
    "a = 50\n",
    "b = a\n",
    "\n",
    "print(a,b)\n",
    "print(id(a), id(b))\n",
    "\n",
    "# b = 100\n",
    "# print(a,b)\n",
    "# print(id(a), id(b))\n"
   ]
  },
  {
   "cell_type": "code",
   "execution_count": 16,
   "id": "1b842b21",
   "metadata": {},
   "outputs": [
    {
     "name": "stdout",
     "output_type": "stream",
     "text": [
      "60\n",
      "50\n"
     ]
    }
   ],
   "source": [
    "a = a+10\n",
    "\n",
    "print(a)\n",
    "print(b)"
   ]
  },
  {
   "cell_type": "markdown",
   "id": "e492f73f",
   "metadata": {},
   "source": [
    "## <font color=red> Note </font>\n",
    "> The expression a + 10 creates a new integer object with the value 60.\n",
    "<br>The variable a is updated to reference this new integer object 60.\n",
    "<br>b still references the old integer object 50, which has not changed."
   ]
  },
  {
   "cell_type": "markdown",
   "id": "84706c8c",
   "metadata": {},
   "source": [
    "### Multiple assignment"
   ]
  },
  {
   "cell_type": "code",
   "execution_count": 15,
   "id": "7c5b3284",
   "metadata": {},
   "outputs": [
    {
     "name": "stdout",
     "output_type": "stream",
     "text": [
      "50\n",
      "50\n",
      "50\n",
      "5\n",
      "10\n",
      "15\n",
      "1934792917360 1934792917520 1934792917680\n",
      "1934792918800 1934792918800 1934792918800\n"
     ]
    }
   ],
   "source": [
    "x=y=z=50\n",
    "a,b,c=5,10,15 \n",
    "print(x)    \n",
    "print(y)    \n",
    "print(z)    \n",
    "print(a)    \n",
    "print(b)    \n",
    "print(c)\n",
    "\n",
    "print(id(a), id(b), id(c))\n",
    "print(id(x), id(y), id(z))"
   ]
  },
  {
   "cell_type": "markdown",
   "id": "62d2cf7a",
   "metadata": {},
   "source": [
    "### Data Types"
   ]
  },
  {
   "cell_type": "code",
   "execution_count": 16,
   "id": "3992d72c",
   "metadata": {},
   "outputs": [
    {
     "name": "stdout",
     "output_type": "stream",
     "text": [
      "<class 'int'>\n",
      "\n",
      "<class 'int'>\n",
      "\n",
      "<class 'float'>\n",
      "\n",
      "<class 'complex'>\n",
      "\n",
      "35000.0\n",
      "<class 'float'>\n"
     ]
    }
   ],
   "source": [
    "print(type(5))\n",
    "\n",
    "print()\n",
    "\n",
    "print(type(-5))\n",
    "\n",
    "print()\n",
    "\n",
    "\n",
    "print(type(4.5))\n",
    "\n",
    "print()\n",
    "\n",
    "print(type(5+2j))\n",
    "\n",
    "print()\n",
    "\n",
    "print(35e3)\n",
    "print(type(35e3))\n"
   ]
  },
  {
   "cell_type": "code",
   "execution_count": 17,
   "id": "fe0f0d18",
   "metadata": {},
   "outputs": [
    {
     "name": "stdout",
     "output_type": "stream",
     "text": [
      "<class 'str'>\n",
      "\n",
      "<class 'str'>\n",
      "\n",
      "<class 'list'>\n",
      "\n",
      "<class 'tuple'>\n",
      "\n",
      "<class 'dict'>\n",
      "\n",
      "<class 'bool'>\n",
      "\n",
      "<class 'set'>\n",
      "\n",
      "<class 'NoneType'>\n"
     ]
    }
   ],
   "source": [
    "print(type('h')) # single quote\n",
    "\n",
    "print()\n",
    "\n",
    "print(type(\"h\")) # double quote\n",
    "\n",
    "print()\n",
    "\n",
    "print(type([5, 'h']))\n",
    "\n",
    "print()\n",
    "\n",
    "print(type((5, 6, 7)))\n",
    "\n",
    "print()\n",
    "\n",
    "print(type({1:5, 2:'h'}))\n",
    "\n",
    "print()\n",
    "\n",
    "print(type(True))\n",
    "\n",
    "print()\n",
    "\n",
    "print(type({'h', 5}))\n",
    "\n",
    "print()\n",
    "\n",
    "print(type(None))"
   ]
  },
  {
   "cell_type": "code",
   "execution_count": 18,
   "id": "fdd49c7b",
   "metadata": {},
   "outputs": [
    {
     "name": "stdout",
     "output_type": "stream",
     "text": [
      "5.0\n",
      "<class 'float'>\n",
      "\n",
      "2\n",
      "<class 'int'>\n",
      "\n",
      "(3+0j)\n",
      "<class 'complex'>\n"
     ]
    }
   ],
   "source": [
    "a = 5\n",
    "print(float(a))\n",
    "print(type(float(a)))\n",
    "\n",
    "print()\n",
    "\n",
    "a = 2.8\n",
    "print(int(a))\n",
    "print(type(int(a)))\n",
    "\n",
    "print()\n",
    "\n",
    "a = 3\n",
    "print(complex(a))\n",
    "print(type(complex(a)))"
   ]
  },
  {
   "cell_type": "markdown",
   "id": "b3483542",
   "metadata": {},
   "source": [
    "### check for types similarity"
   ]
  },
  {
   "cell_type": "code",
   "execution_count": 19,
   "id": "f3d3b7e6",
   "metadata": {},
   "outputs": [
    {
     "name": "stdout",
     "output_type": "stream",
     "text": [
      "True\n",
      "False\n"
     ]
    }
   ],
   "source": [
    "print(isinstance(5, int))\n",
    "print(isinstance(5.0, int))"
   ]
  },
  {
   "cell_type": "code",
   "execution_count": 20,
   "id": "2d2eea6b",
   "metadata": {
    "scrolled": true
   },
   "outputs": [
    {
     "name": "stdout",
     "output_type": "stream",
     "text": [
      "False\n",
      "True\n"
     ]
    }
   ],
   "source": [
    "print(isinstance(5, float))\n",
    "print(isinstance(5.0, float))"
   ]
  },
  {
   "cell_type": "code",
   "execution_count": 21,
   "id": "3fc6fb72",
   "metadata": {},
   "outputs": [
    {
     "name": "stdout",
     "output_type": "stream",
     "text": [
      "True\n",
      "True\n",
      "False\n"
     ]
    }
   ],
   "source": [
    "print(isinstance('5', str))\n",
    "print(isinstance(\"5.0\", str))\n",
    "print(isinstance(5, str))"
   ]
  },
  {
   "cell_type": "markdown",
   "id": "eaa755bf",
   "metadata": {},
   "source": [
    "***"
   ]
  },
  {
   "cell_type": "markdown",
   "id": "33fc2d4c",
   "metadata": {},
   "source": [
    "# <font color=orange> Random Module </font>"
   ]
  },
  {
   "cell_type": "code",
   "execution_count": 1,
   "id": "002effc7",
   "metadata": {},
   "outputs": [],
   "source": [
    "import random"
   ]
  },
  {
   "cell_type": "code",
   "execution_count": 68,
   "id": "e15be472",
   "metadata": {},
   "outputs": [
    {
     "name": "stdout",
     "output_type": "stream",
     "text": [
      "0.45663391985903345\n"
     ]
    }
   ],
   "source": [
    "# Generate random float number\n",
    "\n",
    "print(random.random())"
   ]
  },
  {
   "cell_type": "code",
   "execution_count": 70,
   "id": "d9bb5e00",
   "metadata": {},
   "outputs": [
    {
     "name": "stdout",
     "output_type": "stream",
     "text": [
      "7\n"
     ]
    }
   ],
   "source": [
    "# Generate random number within a range\n",
    "\n",
    "print(random.randrange(3, 9))"
   ]
  },
  {
   "cell_type": "code",
   "execution_count": 58,
   "id": "14f3b915",
   "metadata": {},
   "outputs": [
    {
     "name": "stdout",
     "output_type": "stream",
     "text": [
      "dog\n",
      "\n",
      "['dog', 'dog', 'cat', 'dog', 'dog', 'dog', 'dog', 'dog', 'cat', 'dog', 'dog', 'dog', 'fish', 'dog']\n"
     ]
    }
   ],
   "source": [
    "# select random item from a list\n",
    "\n",
    "mylist = [\"dog\", \"cat\", \"fish\"]\n",
    "\n",
    "print(random.choice(mylist))\n",
    "print()\n",
    "print(random.choices(mylist, weights = [10, 1, 1], k = 14))"
   ]
  },
  {
   "cell_type": "code",
   "execution_count": 59,
   "id": "ad2ffc1d",
   "metadata": {},
   "outputs": [
    {
     "name": "stdout",
     "output_type": "stream",
     "text": [
      "['dog', 'cat', 'fish']\n",
      "['cat', 'dog']\n"
     ]
    }
   ],
   "source": [
    "# select random sample of a list\n",
    "\n",
    "mylist = [\"dog\", \"cat\", \"fish\"]\n",
    "x = random.sample(mylist, k=2)\n",
    "print(mylist)\n",
    "print(x)"
   ]
  },
  {
   "cell_type": "code",
   "execution_count": 64,
   "id": "334cb60b",
   "metadata": {},
   "outputs": [
    {
     "name": "stdout",
     "output_type": "stream",
     "text": [
      "['banana', 'apple', 'cherry']\n"
     ]
    }
   ],
   "source": [
    "# reorder the list\n",
    "\n",
    "mylist = [\"apple\", \"banana\", \"cherry\"]\n",
    "random.shuffle(mylist) # passing by reference \"with its memory location\"  reference: memory location\n",
    "\n",
    "print(mylist)"
   ]
  },
  {
   "cell_type": "code",
   "execution_count": 65,
   "id": "57482d77-9b3c-4bee-a425-4cf5a628dd74",
   "metadata": {},
   "outputs": [
    {
     "name": "stdout",
     "output_type": "stream",
     "text": [
      "None\n"
     ]
    }
   ],
   "source": [
    "x = random.shuffle(mylist) \n",
    "\n",
    "print(x)"
   ]
  },
  {
   "cell_type": "code",
   "execution_count": 91,
   "id": "552beb5d",
   "metadata": {},
   "outputs": [
    {
     "name": "stdout",
     "output_type": "stream",
     "text": [
      "0.8444218515250481\n"
     ]
    }
   ],
   "source": [
    "# get the exact random number each time\n",
    "\n",
    "import random\n",
    "\n",
    "random.seed(0)\n",
    "print(random.random())"
   ]
  },
  {
   "cell_type": "markdown",
   "id": "a54352b5",
   "metadata": {},
   "source": [
    "***"
   ]
  },
  {
   "cell_type": "markdown",
   "id": "e196fbac",
   "metadata": {},
   "source": [
    "# <font color=orange>if Conditions</font>"
   ]
  },
  {
   "cell_type": "code",
   "execution_count": 106,
   "id": "6ea9727e-3c70-411d-b7dc-ace90bd2d857",
   "metadata": {},
   "outputs": [
    {
     "name": "stdout",
     "output_type": "stream",
     "text": [
      "True\n"
     ]
    }
   ],
   "source": [
    "#assignment \n",
    "x = y = 5\n",
    "\n",
    "print(x == y)"
   ]
  },
  {
   "cell_type": "code",
   "execution_count": 117,
   "id": "9d3db07f-0c3c-4d27-9a95-0f2ce71d91d0",
   "metadata": {},
   "outputs": [
    {
     "name": "stdout",
     "output_type": "stream",
     "text": [
      "True\n",
      "False\n",
      "False\n",
      "True\n",
      "False\n",
      "True\n"
     ]
    }
   ],
   "source": [
    "a = 201\n",
    "b = 200\n",
    "\n",
    "\n",
    "print(a > b) # bigger\n",
    "print(a < b) # smaller\n",
    "print(a == b) # equal or not in value\n",
    "print(a >= b) # bigger than or equal\n",
    "print(a <= b) # smaller than or equal\n",
    "print(a != b) # not equal"
   ]
  },
  {
   "cell_type": "code",
   "execution_count": 92,
   "id": "9f306368-6fb8-4ae0-b924-389f888a0d7d",
   "metadata": {},
   "outputs": [
    {
     "name": "stdout",
     "output_type": "stream",
     "text": [
      "11\n",
      "\n",
      "1\n"
     ]
    }
   ],
   "source": [
    "a = 5\n",
    "b = 6\n",
    "\n",
    "if a+b == 11:\n",
    "    print('11')\n",
    "    \n",
    "elif a+b == 12:\n",
    "    print(12)\n",
    "\n",
    "print()\n",
    "if b - a == 1:\n",
    "    print(1)\n",
    "elif b - a == 2:\n",
    "    print(2)"
   ]
  },
  {
   "cell_type": "code",
   "execution_count": 118,
   "id": "3b8c240c",
   "metadata": {},
   "outputs": [
    {
     "name": "stdout",
     "output_type": "stream",
     "text": [
      "a equals b\n"
     ]
    }
   ],
   "source": [
    "a = 200\n",
    "b = 200\n",
    "if b > a:\n",
    "    print(\"b is greater than a\")\n",
    "elif a > b:\n",
    "    print(\"a is greater than b\")\n",
    "elif a == b:\n",
    "    print(\"a equals b\")\n",
    "else:\n",
    "    print('NA')"
   ]
  },
  {
   "cell_type": "code",
   "execution_count": 97,
   "id": "f623b912-6036-4628-8567-b30b537b0afd",
   "metadata": {},
   "outputs": [
    {
     "name": "stdout",
     "output_type": "stream",
     "text": [
      "2227832750448\n",
      "2227832750480\n"
     ]
    }
   ],
   "source": [
    "a,b = 5,6\n",
    "\n",
    "print(id(a))\n",
    "print(id(b))"
   ]
  },
  {
   "cell_type": "code",
   "execution_count": 98,
   "id": "61e89377-2866-4927-9aed-e696f5947aff",
   "metadata": {},
   "outputs": [
    {
     "name": "stdout",
     "output_type": "stream",
     "text": [
      "2227832750448\n",
      "2227832750448\n"
     ]
    }
   ],
   "source": [
    "a,b = 5,5\n",
    "\n",
    "print(id(a))\n",
    "print(id(b))"
   ]
  },
  {
   "cell_type": "code",
   "execution_count": 96,
   "id": "c03820af",
   "metadata": {},
   "outputs": [],
   "source": [
    "a,b = 5,6\n",
    "\n",
    "if a == b:\n",
    "    print('a equals b')\n",
    "\n",
    "if a is b:\n",
    "    print('a equals b')"
   ]
  },
  {
   "cell_type": "code",
   "execution_count": 99,
   "id": "2be70995",
   "metadata": {},
   "outputs": [
    {
     "name": "stdout",
     "output_type": "stream",
     "text": [
      "a equals b\n"
     ]
    }
   ],
   "source": [
    "a=b=5\n",
    "\n",
    "if a == b:\n",
    "    print(\"a equals b\")"
   ]
  },
  {
   "cell_type": "code",
   "execution_count": 103,
   "id": "ce79e69f",
   "metadata": {},
   "outputs": [
    {
     "name": "stdout",
     "output_type": "stream",
     "text": [
      "a equals b\n",
      "\n",
      "[1, 5, 3]\n",
      "[1, 5, 3]\n",
      "a equals b\n",
      "\n",
      "[1, 5, 3]\n",
      "[5, 3]\n",
      "a is not b\n"
     ]
    }
   ],
   "source": [
    "a = [1, 2, 3] # index --> [0, 1, 2]\n",
    "b = a # have the same reference \"Memory loc\"\n",
    "\n",
    "if a is b:\n",
    "    print(\"a equals b\")\n",
    "\n",
    "print()\n",
    "\n",
    "b[1] = 5\n",
    "print(a)\n",
    "print(b)\n",
    "if a is b: # is for reference \n",
    "    print(\"a equals b\")\n",
    "else:\n",
    "    print('a is not equal b')\n",
    "    \n",
    "print()\n",
    "\n",
    "b = a[1:3] \n",
    "print(a)\n",
    "print(b)\n",
    "if a is b:\n",
    "    print(\"a equals b\")\n",
    "    \n",
    "elif a is not b:\n",
    "    print('a is not b')\n",
    "    \n",
    "# else:\n",
    "#     print('NA')"
   ]
  },
  {
   "cell_type": "code",
   "execution_count": 140,
   "id": "f1ed2cce-1b8d-4c11-9873-7d532826740c",
   "metadata": {},
   "outputs": [
    {
     "data": {
      "text/plain": [
       "'aaaaa'"
      ]
     },
     "execution_count": 140,
     "metadata": {},
     "output_type": "execute_result"
    }
   ],
   "source": [
    "'a'*5"
   ]
  },
  {
   "cell_type": "code",
   "execution_count": 160,
   "id": "04de463b-765e-4e0d-8a8a-3c22a2506ee1",
   "metadata": {},
   "outputs": [
    {
     "data": {
      "text/plain": [
       "'aa'"
      ]
     },
     "execution_count": 160,
     "metadata": {},
     "output_type": "execute_result"
    }
   ],
   "source": [
    "x = \"a\"\n",
    "\n",
    "x*2"
   ]
  },
  {
   "cell_type": "code",
   "execution_count": 106,
   "id": "edcac06d-dbb5-45f5-87e9-be30b54dc6fa",
   "metadata": {},
   "outputs": [
    {
     "name": "stdout",
     "output_type": "stream",
     "text": [
      "True\n"
     ]
    }
   ],
   "source": [
    "print(\"aa\" == \"a\" * 2)"
   ]
  },
  {
   "cell_type": "code",
   "execution_count": 107,
   "id": "42c074e2",
   "metadata": {},
   "outputs": [
    {
     "name": "stdout",
     "output_type": "stream",
     "text": [
      "\n",
      "x = aa\n",
      "\n",
      "True\n",
      "True\n",
      "False\n"
     ]
    },
    {
     "name": "stderr",
     "output_type": "stream",
     "text": [
      "<>:8: SyntaxWarning: \"is\" with a literal. Did you mean \"==\"?\n",
      "<>:12: SyntaxWarning: \"is\" with a literal. Did you mean \"==\"?\n",
      "<>:8: SyntaxWarning: \"is\" with a literal. Did you mean \"==\"?\n",
      "<>:12: SyntaxWarning: \"is\" with a literal. Did you mean \"==\"?\n",
      "C:\\Users\\hadyo\\AppData\\Local\\Temp\\ipykernel_11376\\2820600696.py:8: SyntaxWarning: \"is\" with a literal. Did you mean \"==\"?\n",
      "  print(\"aa\" is x)\n",
      "C:\\Users\\hadyo\\AppData\\Local\\Temp\\ipykernel_11376\\2820600696.py:12: SyntaxWarning: \"is\" with a literal. Did you mean \"==\"?\n",
      "  print(\"aa\" is x*2)\n"
     ]
    }
   ],
   "source": [
    "# print(\"aa\" == \"a\" * 2)\n",
    "\n",
    "print()\n",
    "\n",
    "x = \"a\"*2 # 'aa'\n",
    "print(f'x = {x}')\n",
    "print()\n",
    "print(\"aa\" is x)\n",
    "\n",
    "x = \"a\"\n",
    "print('aa' == x*2) # aa = aa\n",
    "print(\"aa\" is x*2)"
   ]
  },
  {
   "cell_type": "code",
   "execution_count": 115,
   "id": "cd43762c-f916-43ec-9ba6-ca9e5608993c",
   "metadata": {},
   "outputs": [
    {
     "name": "stdout",
     "output_type": "stream",
     "text": [
      "7\n"
     ]
    }
   ],
   "source": [
    "x = 5\n",
    "\n",
    "if -1:\n",
    "    print('7')"
   ]
  },
  {
   "cell_type": "code",
   "execution_count": null,
   "id": "fef6e924-7a3b-411e-86fe-3d17d7de6230",
   "metadata": {},
   "outputs": [],
   "source": [
    "# True == -1, 1 \"any non zero values\"\n",
    "# False == 0 \"Zero value\""
   ]
  },
  {
   "cell_type": "markdown",
   "id": "2cb6ed97",
   "metadata": {},
   "source": [
    "### short hand if"
   ]
  },
  {
   "cell_type": "code",
   "execution_count": 117,
   "id": "d846e4a6",
   "metadata": {},
   "outputs": [
    {
     "name": "stdout",
     "output_type": "stream",
     "text": [
      "a is greater than b\n"
     ]
    }
   ],
   "source": [
    "a = 50\n",
    "b = 20\n",
    "\n",
    "if a > b: print(\"a is greater than b\")\n",
    "elif a < b: print('')\n",
    "else: print()"
   ]
  },
  {
   "cell_type": "markdown",
   "id": "66ba24b1",
   "metadata": {},
   "source": [
    "### short hand if .. else,   known as <font color=red> Ternary operators </font>"
   ]
  },
  {
   "cell_type": "code",
   "execution_count": 120,
   "id": "96ecc041-ab64-42c8-9bd7-66990b5f0f21",
   "metadata": {},
   "outputs": [
    {
     "name": "stdout",
     "output_type": "stream",
     "text": [
      "B\n"
     ]
    }
   ],
   "source": [
    "a,b =20, 330\n",
    "\n",
    "print(\"A\") if a > b else print(\"B\")"
   ]
  },
  {
   "cell_type": "markdown",
   "id": "dc69f7f1",
   "metadata": {},
   "source": [
    "### multiple else statements"
   ]
  },
  {
   "cell_type": "code",
   "execution_count": 170,
   "id": "3e0e6caa",
   "metadata": {},
   "outputs": [
    {
     "name": "stdout",
     "output_type": "stream",
     "text": [
      "a equals b\n",
      "a equals b\n"
     ]
    }
   ],
   "source": [
    "a = 330\n",
    "b = 330\n",
    "\n",
    "print(\"A\") if a > b else print(\"a equals b\") if a == b else print(\"B\")\n"
   ]
  },
  {
   "cell_type": "markdown",
   "id": "6261b0f1",
   "metadata": {},
   "source": [
    "### And, Or & not"
   ]
  },
  {
   "cell_type": "code",
   "execution_count": 175,
   "id": "be150a7a",
   "metadata": {},
   "outputs": [
    {
     "name": "stdout",
     "output_type": "stream",
     "text": [
      "Both conditions are True\n",
      "\n",
      "At least one of the conditions is True\n",
      "\n",
      "a is NOT smaller than b\n"
     ]
    }
   ],
   "source": [
    "a = 200\n",
    "b = 33\n",
    "c = 500\n",
    "if a > b and c > a:\n",
    "    print(\"Both conditions are True\")\n",
    "\n",
    "print()\n",
    "\n",
    "if a > b or a > c:\n",
    "    print(\"At least one of the conditions is True\")\n",
    "\n",
    "print()\n",
    "\n",
    "    \n",
    "if not a<b:\n",
    "    print(\"a is NOT smaller than b\")"
   ]
  },
  {
   "cell_type": "code",
   "execution_count": 126,
   "id": "11d56172",
   "metadata": {},
   "outputs": [
    {
     "name": "stdout",
     "output_type": "stream",
     "text": [
      "Above five,\n",
      "but not above 10.\n"
     ]
    }
   ],
   "source": [
    "x = 6\n",
    "\n",
    "if x > 5:\n",
    "    print(\"Above five,\")\n",
    "    if x > 10:\n",
    "        print(\"and also above 10!\")\n",
    "    else:\n",
    "        print(\"but not above 10.\")\n"
   ]
  },
  {
   "cell_type": "markdown",
   "id": "38bb1ce7",
   "metadata": {},
   "source": [
    "# <font color=orange>Loops</font>"
   ]
  },
  {
   "cell_type": "markdown",
   "id": "7431c1b1",
   "metadata": {},
   "source": [
    "## while loops"
   ]
  },
  {
   "cell_type": "code",
   "execution_count": 127,
   "id": "e4720155",
   "metadata": {},
   "outputs": [
    {
     "name": "stdout",
     "output_type": "stream",
     "text": [
      "1\n",
      "2\n",
      "3\n",
      "4\n",
      "5\n"
     ]
    }
   ],
   "source": [
    "i = 1\n",
    "while i < 6:\n",
    "    print(i)\n",
    "    i += 1\n",
    "    "
   ]
  },
  {
   "cell_type": "code",
   "execution_count": 40,
   "id": "dea9ef72",
   "metadata": {},
   "outputs": [
    {
     "name": "stdout",
     "output_type": "stream",
     "text": [
      "1\n",
      "2\n",
      "3\n"
     ]
    }
   ],
   "source": [
    "# break\n",
    "\n",
    "i = 1\n",
    "while i < 6:\n",
    "    print(i)\n",
    "    if i == 3:\n",
    "        break\n",
    "    i += 1"
   ]
  },
  {
   "cell_type": "code",
   "execution_count": 193,
   "id": "5ae2d1e0",
   "metadata": {},
   "outputs": [
    {
     "name": "stdout",
     "output_type": "stream",
     "text": [
      "1\n",
      "2\n",
      "4\n",
      "5\n",
      "6\n"
     ]
    }
   ],
   "source": [
    "# conitnue\n",
    "\n",
    "i = 0\n",
    "while i < 6:\n",
    "    i += 1\n",
    "    if i == 3:\n",
    "        continue\n",
    "    print(i)"
   ]
  },
  {
   "cell_type": "code",
   "execution_count": 202,
   "id": "38634236-aae0-4a2c-8abd-0cafcafe33c4",
   "metadata": {},
   "outputs": [
    {
     "name": "stdout",
     "output_type": "stream",
     "text": [
      "2\n",
      "4\n",
      "6\n",
      "8\n",
      "10\n"
     ]
    }
   ],
   "source": [
    "flag = True\n",
    "\n",
    "x = 0\n",
    "while flag:\n",
    "    x+=2\n",
    "    print(x)\n",
    "    if x == 10:\n",
    "        flag = False"
   ]
  },
  {
   "cell_type": "code",
   "execution_count": 131,
   "id": "bc78614b",
   "metadata": {},
   "outputs": [
    {
     "name": "stdout",
     "output_type": "stream",
     "text": [
      "1\n",
      "2\n",
      "3\n",
      "4\n",
      "5\n",
      "i is no longer less than 6\n",
      "\n",
      "1\n",
      "1\n",
      "2\n",
      "3\n",
      "4\n",
      "5\n"
     ]
    }
   ],
   "source": [
    "# else statement\n",
    "i = 1\n",
    "while i < 6:\n",
    "    print(i)\n",
    "    i += 1\n",
    "else:\n",
    "    print(\"i is no longer less than 6\")\n",
    "    i = 1\n",
    "\n",
    "print()\n",
    "print(i)\n",
    "\n",
    "while i < 6:\n",
    "    print(i)\n",
    "    i += 1"
   ]
  },
  {
   "cell_type": "markdown",
   "id": "ae0e0bd5",
   "metadata": {},
   "source": [
    " ##  for loops"
   ]
  },
  {
   "cell_type": "code",
   "execution_count": 132,
   "id": "57943fbe",
   "metadata": {},
   "outputs": [
    {
     "name": "stdout",
     "output_type": "stream",
     "text": [
      "cat\n",
      "dog\n",
      "fish\n"
     ]
    }
   ],
   "source": [
    "fruits = [\"cat\", \"dog\", \"fish\"]\n",
    "\n",
    "for x in fruits:\n",
    "    print(x)"
   ]
  },
  {
   "cell_type": "code",
   "execution_count": 137,
   "id": "d987369f-c2ad-4945-a6d6-2eb9a1023e6d",
   "metadata": {},
   "outputs": [
    {
     "name": "stdout",
     "output_type": "stream",
     "text": [
      "0 cat\n",
      "1 dog\n",
      "2 fish\n"
     ]
    }
   ],
   "source": [
    "fruits = [\"cat\", \"dog\", \"fish\"]\n",
    "\n",
    "for i in range(len(fruits)):\n",
    "    print(i, fruits[i])"
   ]
  },
  {
   "cell_type": "code",
   "execution_count": 209,
   "id": "15daeea1-a0cb-44ec-9258-1a08ebe89f23",
   "metadata": {},
   "outputs": [
    {
     "name": "stdout",
     "output_type": "stream",
     "text": [
      "range(2, 6)\n"
     ]
    }
   ],
   "source": [
    "x = range(2, 6)\n",
    "print(x)"
   ]
  },
  {
   "cell_type": "code",
   "execution_count": 135,
   "id": "003eae9f",
   "metadata": {},
   "outputs": [
    {
     "name": "stdout",
     "output_type": "stream",
     "text": [
      "0\n",
      "1\n",
      "2\n",
      "3\n",
      "4\n",
      "5\n",
      "\n",
      "2\n",
      "3\n",
      "4\n",
      "5\n"
     ]
    }
   ],
   "source": [
    "# loop through range of numbers\n",
    "for x in range(6):\n",
    "    print(x)\n",
    "print()\n",
    "\n",
    "for x in range(2, 6):\n",
    "    print(x)"
   ]
  },
  {
   "cell_type": "code",
   "execution_count": 139,
   "id": "ee0c194b",
   "metadata": {},
   "outputs": [
    {
     "name": "stdout",
     "output_type": "stream",
     "text": [
      "Finally finished!\n",
      "\n",
      "5\n"
     ]
    }
   ],
   "source": [
    "# else in foor loops\n",
    "\n",
    "for x in range(6): # 0 --> 5\n",
    "    print(x)\n",
    "else:\n",
    "    print(\"Finally finished!\")\n",
    "\n",
    "print()\n",
    "print(x)"
   ]
  },
  {
   "cell_type": "code",
   "execution_count": 2,
   "id": "b6a56336-1691-4298-a94a-034f3c4537d7",
   "metadata": {},
   "outputs": [
    {
     "name": "stdout",
     "output_type": "stream",
     "text": [
      "0\n",
      "1\n",
      "2\n",
      "3\n",
      "4\n",
      "5\n",
      "\n",
      "5\n",
      "0\n"
     ]
    }
   ],
   "source": [
    "for x in range(6):\n",
    "    i = 0\n",
    "    print(x)\n",
    "\n",
    "print()\n",
    "print(x)\n",
    "print(i)"
   ]
  },
  {
   "cell_type": "markdown",
   "id": "ea937574",
   "metadata": {},
   "source": [
    "## <font color=red> Note </font>\n",
    "> #### <font color=blue>on using break </font>\n",
    "Else statement will not be executed"
   ]
  },
  {
   "cell_type": "code",
   "execution_count": null,
   "id": "5a1d2913-fb7e-44a4-8b0e-3e93cd8b6fb4",
   "metadata": {},
   "outputs": [],
   "source": [
    "for i in range(3):\n",
    "    print(i)\n",
    "    if i == 15:\n",
    "        break\n",
    "    print(i+2)\n"
   ]
  },
  {
   "cell_type": "code",
   "execution_count": 145,
   "id": "dc5145f4",
   "metadata": {},
   "outputs": [
    {
     "name": "stdout",
     "output_type": "stream",
     "text": [
      "0\n",
      "1\n",
      "2\n"
     ]
    }
   ],
   "source": [
    "for x in range(6):\n",
    "    if x == 3: break\n",
    "    print(x)\n",
    "else:\n",
    "    print(\"Finally finished!\")"
   ]
  },
  {
   "cell_type": "code",
   "execution_count": 144,
   "id": "451be88f",
   "metadata": {},
   "outputs": [
    {
     "name": "stdout",
     "output_type": "stream",
     "text": [
      "red apple\n",
      "red banana\n",
      "red cherry\n",
      "big apple\n",
      "big banana\n",
      "big cherry\n",
      "tasty apple\n",
      "tasty banana\n",
      "tasty cherry\n"
     ]
    }
   ],
   "source": [
    "# nested for loops\n",
    "\n",
    "\n",
    "adj = [\"red\", \"big\", \"tasty\"]\n",
    "fruits = [\"apple\", \"banana\", \"cherry\"]\n",
    "\n",
    "for x in adj:\n",
    "    for y in fruits:\n",
    "        print(x, y)"
   ]
  },
  {
   "cell_type": "code",
   "execution_count": 152,
   "id": "7c1955e5-1bc4-4f06-8cdc-c8918b1be1d3",
   "metadata": {
    "scrolled": true
   },
   "outputs": [
    {
     "name": "stdout",
     "output_type": "stream",
     "text": [
      "2227832750288\n",
      "2227832750288\n",
      "0\n",
      "2227832750320\n",
      "1\n",
      "2227832750352\n",
      "2\n",
      "2227832750384\n",
      "3\n",
      "2227832750416\n",
      "4\n",
      "Hello\n",
      "2227832750320\n",
      "2227832750288\n",
      "0\n",
      "2227832750320\n",
      "1\n",
      "2227832750352\n",
      "2\n",
      "2227832750384\n",
      "3\n",
      "2227832750416\n",
      "4\n",
      "Hello\n",
      "2227832750352\n",
      "2227832750288\n",
      "0\n",
      "2227832750320\n",
      "1\n",
      "2227832750352\n",
      "2\n",
      "2227832750384\n",
      "3\n",
      "2227832750416\n",
      "4\n",
      "Hello\n"
     ]
    }
   ],
   "source": [
    "for x in range(3): # intentionally not to use the counter\n",
    "    print(id(x))\n",
    "    for x in range(5):\n",
    "        print(id(x))\n",
    "        print(x)\n",
    "    print(y)"
   ]
  },
  {
   "cell_type": "code",
   "execution_count": 151,
   "id": "0e0fe633-f430-4a97-a19e-8ced937aaa09",
   "metadata": {
    "scrolled": true
   },
   "outputs": [
    {
     "name": "stdout",
     "output_type": "stream",
     "text": [
      "2227832750288\n",
      "2227832750288\n",
      "0\n",
      "2227832750320\n",
      "1\n",
      "2227832750352\n",
      "2\n",
      "2227832750384\n",
      "3\n",
      "2227832750416\n",
      "4\n",
      "Hello\n",
      "2227832750320\n",
      "2227832750288\n",
      "0\n",
      "2227832750320\n",
      "1\n",
      "2227832750352\n",
      "2\n",
      "2227832750384\n",
      "3\n",
      "2227832750416\n",
      "4\n",
      "Hello\n",
      "2227832750352\n",
      "2227832750288\n",
      "0\n",
      "2227832750320\n",
      "1\n",
      "2227832750352\n",
      "2\n",
      "2227832750384\n",
      "3\n",
      "2227832750416\n",
      "4\n",
      "Hello\n"
     ]
    }
   ],
   "source": [
    "y = 'Hello'\n",
    "\n",
    "for _ in range(3): # intentionally not to use the counter\n",
    "    print(id(_))\n",
    "    for _ in range(5):\n",
    "        print(id(_))\n",
    "        print(_)\n",
    "    print(y)\n"
   ]
  },
  {
   "cell_type": "code",
   "execution_count": 153,
   "id": "e35a4cbb-4e93-4e2b-8485-f79969fff180",
   "metadata": {},
   "outputs": [
    {
     "name": "stdout",
     "output_type": "stream",
     "text": [
      "banana\n",
      "banana\n",
      "banana\n",
      "banana\n",
      "banana\n",
      "banana\n"
     ]
    }
   ],
   "source": [
    "i = 'banana'\n",
    "for _ in i:\n",
    "    print(i)"
   ]
  },
  {
   "cell_type": "markdown",
   "id": "9094ee68",
   "metadata": {},
   "source": [
    "### Take inputs"
   ]
  },
  {
   "cell_type": "code",
   "execution_count": 160,
   "id": "dc0ede1c-6e24-49f7-b8bd-225ce0992436",
   "metadata": {},
   "outputs": [
    {
     "name": "stdin",
     "output_type": "stream",
     "text": [
      " 5\n",
      " 6\n"
     ]
    },
    {
     "name": "stdout",
     "output_type": "stream",
     "text": [
      "<class 'int'>\n",
      "<class 'int'>\n",
      "5\n",
      "6\n",
      "11\n"
     ]
    }
   ],
   "source": [
    "a = int(input())\n",
    "b = int(input())\n",
    "print(type(a))\n",
    "print(type(b))\n",
    "\n",
    "print(a)\n",
    "print(b)\n",
    "print(a+b)"
   ]
  },
  {
   "cell_type": "code",
   "execution_count": 157,
   "id": "ab40f9a6",
   "metadata": {},
   "outputs": [
    {
     "name": "stdin",
     "output_type": "stream",
     "text": [
      " 5\n",
      " 6\n"
     ]
    },
    {
     "name": "stdout",
     "output_type": "stream",
     "text": [
      "<class 'int'>\n",
      "<class 'int'>\n",
      "a is 5\n",
      "b is 6\n",
      "a+b is 11\n"
     ]
    }
   ],
   "source": [
    "a = int(input())\n",
    "b = int(input())\n",
    "\n",
    "print(type(a))\n",
    "print(type(b))\n",
    "\n",
    "print(f'a is {a}')\n",
    "print(f'b is {b}')\n",
    "print(f'a+b is {a+b}')"
   ]
  },
  {
   "cell_type": "code",
   "execution_count": 170,
   "id": "0af3ca26-e346-406d-87aa-6d9aaa99595a",
   "metadata": {},
   "outputs": [
    {
     "name": "stdout",
     "output_type": "stream",
     "text": [
      "hello2\n"
     ]
    }
   ],
   "source": [
    "g1 = 1\n",
    "g2 = 2\n",
    "\n",
    "a = \"hello\" + str(g2)\n",
    "x = f'hello{g2}'\n",
    "\n",
    "print(x)"
   ]
  },
  {
   "cell_type": "markdown",
   "id": "80285a78",
   "metadata": {},
   "source": [
    "***"
   ]
  },
  {
   "cell_type": "markdown",
   "id": "e619bcc3",
   "metadata": {},
   "source": [
    "# <font color=orange>Python Lists</font>"
   ]
  },
  {
   "cell_type": "code",
   "execution_count": 59,
   "id": "4868fb29",
   "metadata": {},
   "outputs": [
    {
     "name": "stdout",
     "output_type": "stream",
     "text": [
      "['apple', 5, 5, 2.3, (1+2j), 'h']\n"
     ]
    }
   ],
   "source": [
    "# ordered, changeable, and allow duplicate values.\n",
    "ls = [\"apple\", 5, 5, 2.3, 1+2j, \"h\"]\n",
    "\n",
    "print(ls)"
   ]
  },
  {
   "cell_type": "code",
   "execution_count": 60,
   "id": "1950f2c2",
   "metadata": {},
   "outputs": [
    {
     "name": "stdout",
     "output_type": "stream",
     "text": [
      "6\n"
     ]
    }
   ],
   "source": [
    "# Get length\n",
    "ls = [\"apple\", 5, 5, 2.3, 1+2j, \"h\"]\n",
    "\n",
    "print(len(ls))"
   ]
  },
  {
   "cell_type": "markdown",
   "id": "cfb74978",
   "metadata": {},
   "source": [
    "### Acess list items \"List indexing\""
   ]
  },
  {
   "cell_type": "code",
   "execution_count": 64,
   "id": "7db85144",
   "metadata": {},
   "outputs": [
    {
     "name": "stdout",
     "output_type": "stream",
     "text": [
      "dog\n",
      "\n",
      "fish\n",
      "\n",
      "cat\n",
      "\n",
      "fish\n",
      "\n",
      "dog\n"
     ]
    }
   ],
   "source": [
    "# get specific items\n",
    "\n",
    "ls = ['cat', 'dog', 'fish']\n",
    "\n",
    "print(ls[1]) # get second item\n",
    "print()\n",
    "print(ls[2]) # get third item\n",
    "print()\n",
    "print(ls[0])  # get first item\n",
    "print()\n",
    "print(ls[-1])  # get last item\n",
    "print()\n",
    "print(ls[-2])  # get the item before the item"
   ]
  },
  {
   "cell_type": "code",
   "execution_count": 65,
   "id": "988db877",
   "metadata": {},
   "outputs": [
    {
     "name": "stdout",
     "output_type": "stream",
     "text": [
      "['cherry', 'orange', 'kiwi']\n"
     ]
    }
   ],
   "source": [
    "# get third, fourth and fifth item\n",
    "\n",
    "ls = [\"apple\", \"banana\", \"cherry\", \"orange\", \"kiwi\", \"melon\", \"mango\"]\n",
    "print(ls[2:5])"
   ]
  },
  {
   "cell_type": "code",
   "execution_count": 66,
   "id": "7da07ac7",
   "metadata": {},
   "outputs": [
    {
     "name": "stdout",
     "output_type": "stream",
     "text": [
      "['apple', 'banana', 'cherry', 'orange']\n"
     ]
    }
   ],
   "source": [
    "# get the first four elements\n",
    "ls = [\"apple\", \"banana\", \"cherry\", \"orange\", \"kiwi\", \"melon\", \"mango\"]\n",
    "print(ls[:4])"
   ]
  },
  {
   "cell_type": "code",
   "execution_count": 67,
   "id": "ddec24f8",
   "metadata": {},
   "outputs": [
    {
     "name": "stdout",
     "output_type": "stream",
     "text": [
      "['cherry', 'orange', 'kiwi', 'melon', 'mango']\n"
     ]
    }
   ],
   "source": [
    "# get the items starting with the third item till the end\n",
    "ls = [\"apple\", \"banana\", \"cherry\", \"orange\", \"kiwi\", \"melon\", \"mango\"]\n",
    "print(ls[2:])"
   ]
  },
  {
   "cell_type": "code",
   "execution_count": 27,
   "id": "de90cf7a",
   "metadata": {},
   "outputs": [
    {
     "name": "stdout",
     "output_type": "stream",
     "text": [
      "['orange', 'kiwi', 'melon']\n",
      "[]\n"
     ]
    }
   ],
   "source": [
    "# get the last four items\n",
    "ls = [\"apple\", \"banana\", \"cherry\", \"orange\", \"kiwi\", \"melon\", \"mango\"]\n",
    "print(ls[-4:-1])"
   ]
  },
  {
   "cell_type": "code",
   "execution_count": 2,
   "id": "b6f6f067-2020-459c-9364-ec24f659c164",
   "metadata": {},
   "outputs": [
    {
     "name": "stdout",
     "output_type": "stream",
     "text": [
      "[]\n"
     ]
    }
   ],
   "source": [
    "# get the last four items\n",
    "ls = [\"apple\", \"banana\", \"cherry\", \"orange\", \"kiwi\", \"melon\", \"mango\"]\n",
    "print(ls[-1:3])"
   ]
  },
  {
   "cell_type": "markdown",
   "id": "0ce736eb",
   "metadata": {},
   "source": [
    "### Check item existance"
   ]
  },
  {
   "cell_type": "code",
   "execution_count": 28,
   "id": "ad592b81",
   "metadata": {},
   "outputs": [
    {
     "name": "stdout",
     "output_type": "stream",
     "text": [
      "Yes, 3 is in the list\n"
     ]
    }
   ],
   "source": [
    "ls = [1, 2, 3, 4, 5]\n",
    "if 3 in ls:\n",
    "    print(\"Yes, 3 is in the list\")"
   ]
  },
  {
   "cell_type": "markdown",
   "id": "ccdf9f05",
   "metadata": {},
   "source": [
    "### Change list items"
   ]
  },
  {
   "cell_type": "code",
   "execution_count": 75,
   "id": "2f810f23",
   "metadata": {},
   "outputs": [
    {
     "name": "stdout",
     "output_type": "stream",
     "text": [
      "['cat', 'dog', 'fish']\n",
      "\n",
      "after changing\n",
      "['bird', 'dog', 'fish']\n"
     ]
    }
   ],
   "source": [
    "# Change first item\n",
    "ls = ['cat', 'dog', 'fish']\n",
    "print(ls)\n",
    "\n",
    "print()\n",
    "\n",
    "print('after changing')\n",
    "ls[0] = 'bird'\n",
    "print(ls)"
   ]
  },
  {
   "cell_type": "code",
   "execution_count": 3,
   "id": "7ee5bc15-f40b-4c57-9df1-334849ddd8d5",
   "metadata": {},
   "outputs": [
    {
     "name": "stdout",
     "output_type": "stream",
     "text": [
      "2175062152832\n",
      "\n",
      "after changing\n",
      "2175062152832\n"
     ]
    }
   ],
   "source": [
    "ls = ['cat', 'dog', 'fish']\n",
    "# print(ls)\n",
    "print(id(ls))\n",
    "\n",
    "print()\n",
    "\n",
    "print('after changing')\n",
    "ls[0] = 'bird'\n",
    "print(id(ls))\n",
    "# print(ls)"
   ]
  },
  {
   "cell_type": "code",
   "execution_count": 29,
   "id": "2f2c33e8-af89-477f-840c-65f630ba51fb",
   "metadata": {},
   "outputs": [
    {
     "name": "stdout",
     "output_type": "stream",
     "text": [
      "2174998834672\n",
      "\n",
      "after changing\n",
      "2175061811504\n"
     ]
    }
   ],
   "source": [
    "ls = ['cat', 'dog', 'fish']\n",
    "# print(ls)\n",
    "print(id(ls[0]))\n",
    "\n",
    "print()\n",
    "\n",
    "print('after changing')\n",
    "ls[0] = 'bird'\n",
    "print(id(ls[0]))"
   ]
  },
  {
   "cell_type": "code",
   "execution_count": 4,
   "id": "465b1962",
   "metadata": {},
   "outputs": [
    {
     "name": "stdout",
     "output_type": "stream",
     "text": [
      "['cat', 'dog', 'fish']\n",
      "2175062156224\n",
      "\n",
      "after changing\n",
      "['bird', 'cat', 'fish']\n",
      "2175062156224\n",
      "\n",
      "after changing and adding another item\n",
      "['dog', 'bird', 'cat', 'fish']\n",
      "2175062156224\n"
     ]
    }
   ],
   "source": [
    "# change range of items\n",
    "\n",
    "ls = ['cat', 'dog', 'fish']\n",
    "print(ls)\n",
    "print(id(ls))\n",
    "\n",
    "print()\n",
    "\n",
    "\n",
    "print('after changing')\n",
    "ls[0:2] = ['bird', 'cat']\n",
    "print(ls)\n",
    "print(id(ls))\n",
    "\n",
    "print()\n",
    "print('after changing and adding another item')\n",
    "ls[0:2] = ['dog','bird', 'cat']\n",
    "print(ls)\n",
    "print(id(ls))"
   ]
  },
  {
   "cell_type": "markdown",
   "id": "8aade5c9",
   "metadata": {},
   "source": [
    "### adding new items"
   ]
  },
  {
   "cell_type": "code",
   "execution_count": 30,
   "id": "f1252e16",
   "metadata": {},
   "outputs": [
    {
     "name": "stdout",
     "output_type": "stream",
     "text": [
      "['cat', 'dog', 'fish', 'bird']\n"
     ]
    }
   ],
   "source": [
    "ls = ['cat', 'dog', 'fish']\n",
    "ls.append('bird')\n",
    "\n",
    "print(ls)"
   ]
  },
  {
   "cell_type": "code",
   "execution_count": 33,
   "id": "2e94ad04",
   "metadata": {},
   "outputs": [
    {
     "name": "stdout",
     "output_type": "stream",
     "text": [
      "2174998834672\n",
      "2175061811504\n",
      "2174998834672\n",
      "['bird', 'cat', 'dog', 'fish']\n",
      "\n",
      "['cat', 'bird', 'dog', 'fish']\n"
     ]
    }
   ],
   "source": [
    "ls = ['cat', 'dog', 'fish']\n",
    "print(id(ls[0]))\n",
    "ls.insert(0, 'bird')\n",
    "print(id(ls[0]))\n",
    "print(id(ls[1]))\n",
    "print(ls)\n",
    "print()\n",
    "\n",
    "ls = ['cat', 'dog', 'fish']\n",
    "ls.insert(1, 'bird')\n",
    "\n",
    "print(ls)\n"
   ]
  },
  {
   "cell_type": "code",
   "execution_count": 34,
   "id": "3f3b2503",
   "metadata": {},
   "outputs": [
    {
     "name": "stdout",
     "output_type": "stream",
     "text": [
      "['cat', 'dog', 'fish', 'bird', 'hamster']\n",
      "\n",
      "['cat', 'dog', 'fish', 'bird', 'hamster', 'canary', 'turtle']\n",
      "['cat', 'dog', 'fish', 'bird', 'hamster', 'canary', 'turtle', 'butterfly']\n",
      "['cat', 'dog', 'fish', 'bird', 'hamster', 'canary', 'turtle', 'butterfly', 'b', 'u', 't', 't', 'e', 'r', 'f', 'l', 'y']\n"
     ]
    }
   ],
   "source": [
    "ls1 = ['cat', 'dog', 'fish']\n",
    "ls2 = ['bird', 'hamster']\n",
    "tup3 = ('canary', 'turtle')\n",
    "\n",
    "ls1.extend(ls2)\n",
    "\n",
    "print(ls1)\n",
    "print()\n",
    "\n",
    "ls1.extend(tup3)\n",
    "print(ls1)\n",
    "\n",
    "ls1.extend(['butterfly'])\n",
    "print(ls1)\n",
    "\n",
    "ls1.extend('butterfly')\n",
    "print(ls1)"
   ]
  },
  {
   "cell_type": "code",
   "execution_count": 9,
   "id": "66a655e2-c53d-4cbb-9deb-04b0d8a971cc",
   "metadata": {},
   "outputs": [
    {
     "name": "stdout",
     "output_type": "stream",
     "text": [
      "['cat', 'dog', 'fish', 'bird', 'hamster']\n"
     ]
    }
   ],
   "source": [
    "ls1 = ['cat', 'dog', 'fish']\n",
    "ls2 = ['bird', 'hamster']\n",
    "\n",
    "print(ls1+ls2)"
   ]
  },
  {
   "cell_type": "code",
   "execution_count": 10,
   "id": "7c48cbd8-73b9-4f7b-9b32-c55e776bb514",
   "metadata": {},
   "outputs": [
    {
     "name": "stdout",
     "output_type": "stream",
     "text": [
      "[1, 2, 3, 1, 2]\n"
     ]
    }
   ],
   "source": [
    "ls1 = [1, 2, 3]\n",
    "ls2 = [1, 2]\n",
    "\n",
    "print(ls1+ls2)"
   ]
  },
  {
   "cell_type": "markdown",
   "id": "96da5670",
   "metadata": {},
   "source": [
    "### removing items"
   ]
  },
  {
   "cell_type": "code",
   "execution_count": 90,
   "id": "3c7e9124",
   "metadata": {},
   "outputs": [
    {
     "name": "stdout",
     "output_type": "stream",
     "text": [
      "['cat', 'dog', 'fish']\n"
     ]
    }
   ],
   "source": [
    "# remove last item\n",
    "\n",
    "ls = ['cat', 'dog', 'fish', 'bird']\n",
    "ls.remove('bird')\n",
    "\n",
    "print(ls)"
   ]
  },
  {
   "cell_type": "code",
   "execution_count": 11,
   "id": "023f4714",
   "metadata": {},
   "outputs": [
    {
     "name": "stdout",
     "output_type": "stream",
     "text": [
      "dog\n",
      "['cat', 'fish', 'bird']\n"
     ]
    }
   ],
   "source": [
    "# remove second item\n",
    "\n",
    "ls = ['cat', 'dog', 'fish', 'bird']\n",
    "ls.pop(1)\n",
    "\n",
    "print(ls)"
   ]
  },
  {
   "cell_type": "code",
   "execution_count": 35,
   "id": "36e2886f",
   "metadata": {},
   "outputs": [
    {
     "name": "stdout",
     "output_type": "stream",
     "text": [
      "['cat', 'fish', 'bird']\n",
      "dog\n"
     ]
    }
   ],
   "source": [
    "# pop Vs remove\n",
    "\n",
    "ls = ['cat', 'dog', 'fish', 'bird']\n",
    "second_item = ls.pop(1)\n",
    "\n",
    "print(ls)\n",
    "print(second_item)"
   ]
  },
  {
   "cell_type": "code",
   "execution_count": 95,
   "id": "440142bd",
   "metadata": {},
   "outputs": [
    {
     "name": "stdout",
     "output_type": "stream",
     "text": [
      "[]\n"
     ]
    }
   ],
   "source": [
    "# clear list\n",
    "\n",
    "ls = ['cat', 'dog', 'fish', 'bird']\n",
    "ls.clear()\n",
    "\n",
    "print(ls)\n"
   ]
  },
  {
   "cell_type": "code",
   "execution_count": null,
   "id": "e6c0187c-ce63-4b9d-a3c5-5ccd3cbbff28",
   "metadata": {},
   "outputs": [],
   "source": []
  },
  {
   "cell_type": "code",
   "execution_count": null,
   "id": "7811999c-5209-4f8f-8c50-1813e8907ec0",
   "metadata": {},
   "outputs": [],
   "source": []
  },
  {
   "cell_type": "code",
   "execution_count": null,
   "id": "408a0b12-cd41-4c6f-bfa1-c53b0abf817c",
   "metadata": {},
   "outputs": [],
   "source": []
  },
  {
   "cell_type": "markdown",
   "id": "3cd92bf8",
   "metadata": {},
   "source": [
    "### list looping"
   ]
  },
  {
   "cell_type": "code",
   "execution_count": 98,
   "id": "596a9493",
   "metadata": {},
   "outputs": [
    {
     "name": "stdout",
     "output_type": "stream",
     "text": [
      "item index is 0 = cat\n",
      "item index is 1 = dog\n",
      "item index is 2 = fish\n",
      "item index is 3 = bird\n"
     ]
    }
   ],
   "source": [
    "ls = ['cat', 'dog', 'fish', 'bird']\n",
    "\n",
    "for i in range(len(ls)):\n",
    "    print(f'item index is {i} = {ls[i]}')"
   ]
  },
  {
   "cell_type": "code",
   "execution_count": 99,
   "id": "ef907f4a",
   "metadata": {},
   "outputs": [
    {
     "name": "stdout",
     "output_type": "stream",
     "text": [
      "cat\n",
      "dog\n",
      "fish\n",
      "bird\n"
     ]
    }
   ],
   "source": [
    "ls = ['cat', 'dog', 'fish', 'bird']\n",
    "\n",
    "for pet in ls:\n",
    "    print(pet)"
   ]
  },
  {
   "cell_type": "code",
   "execution_count": 14,
   "id": "1ad6c04a-0fcb-4a67-9f3e-df1dc448f33b",
   "metadata": {},
   "outputs": [
    {
     "name": "stdout",
     "output_type": "stream",
     "text": [
      "0 cat\n",
      "1 dog\n",
      "2 fish\n",
      "3 bird\n"
     ]
    }
   ],
   "source": [
    "ls = ['cat', 'dog', 'fish', 'bird']\n",
    "\n",
    "for i, pet in enumerate(ls):\n",
    "    print(i, pet)"
   ]
  },
  {
   "cell_type": "code",
   "execution_count": 18,
   "id": "72206e92-2754-4ccb-b045-8fd8dd92b88d",
   "metadata": {},
   "outputs": [
    {
     "data": {
      "text/plain": [
       "[(0, 'cat'), (1, 'dog'), (2, 'fish'), (3, 'bird')]"
      ]
     },
     "execution_count": 18,
     "metadata": {},
     "output_type": "execute_result"
    }
   ],
   "source": [
    "list(enumerate(ls))"
   ]
  },
  {
   "cell_type": "markdown",
   "id": "874caae6",
   "metadata": {},
   "source": [
    "### List comprehension"
   ]
  },
  {
   "cell_type": "code",
   "execution_count": 21,
   "id": "3e9ad181",
   "metadata": {},
   "outputs": [
    {
     "name": "stdout",
     "output_type": "stream",
     "text": [
      "['cat', 'dog', 'fish', 'bird']\n",
      "cat\n",
      "dog\n",
      "fish\n",
      "bird\n"
     ]
    },
    {
     "data": {
      "text/plain": [
       "[None, None, None, None]"
      ]
     },
     "execution_count": 21,
     "metadata": {},
     "output_type": "execute_result"
    }
   ],
   "source": [
    "ls = ['cat', 'dog', 'fish', 'bird']\n",
    "print([x for x in ls])\n",
    "[print(x) for x in ls]"
   ]
  },
  {
   "cell_type": "code",
   "execution_count": 25,
   "id": "ea2147b4",
   "metadata": {},
   "outputs": [
    {
     "name": "stdout",
     "output_type": "stream",
     "text": [
      "[0, 1, 2, 3, 4, 5, 6, 7, 8, 9]\n"
     ]
    }
   ],
   "source": [
    "ls = [x for x in range(10)]\n",
    "print(ls)\n"
   ]
  },
  {
   "cell_type": "code",
   "execution_count": 38,
   "id": "dfbb820e",
   "metadata": {},
   "outputs": [
    {
     "name": "stdout",
     "output_type": "stream",
     "text": [
      "['apple', 'banana', 'mango']\n",
      "['apple', 'banana', 'mango']\n"
     ]
    }
   ],
   "source": [
    "# get fruits having a letter\n",
    "fruits = [\"apple\", \"banana\", \"cherry\", \"kiwi\", \"mango\"]\n",
    "newlist = []\n",
    "\n",
    "for x in fruits:\n",
    "    if \"a\" in x:\n",
    "        newlist.append(x)\n",
    "\n",
    "print(newlist)\n",
    "\n",
    "# list comprehension\n",
    "newlist = [x for x in fruits if \"a\" in x]\n",
    "\n",
    "print(newlist)"
   ]
  },
  {
   "cell_type": "markdown",
   "id": "73ed5b41",
   "metadata": {},
   "source": [
    "## <font color=red> Note </font>\n",
    "written as follow\n",
    ">newlist = [expression for item in iterable if condition == True]"
   ]
  },
  {
   "cell_type": "markdown",
   "id": "3d411ad6",
   "metadata": {},
   "source": [
    "### List Sorting"
   ]
  },
  {
   "cell_type": "code",
   "execution_count": 107,
   "id": "8851efab",
   "metadata": {},
   "outputs": [
    {
     "name": "stdout",
     "output_type": "stream",
     "text": [
      "[23, 50, 65, 82, 100]\n",
      "[100, 82, 65, 50, 23]\n"
     ]
    }
   ],
   "source": [
    "# sort in ascending order\n",
    "\n",
    "ls = [100, 50, 65, 82, 23]\n",
    "ls.sort()\n",
    "print(ls)\n",
    "\n",
    "# sort in descending order\n",
    "ls = [100, 50, 65, 82, 23]\n",
    "ls.sort(reverse = True)\n",
    "print(ls)"
   ]
  },
  {
   "cell_type": "code",
   "execution_count": 108,
   "id": "aa7d2a53",
   "metadata": {},
   "outputs": [
    {
     "name": "stdout",
     "output_type": "stream",
     "text": [
      "[23, 82, 65, 50, 100]\n"
     ]
    }
   ],
   "source": [
    "# list reversing\n",
    "\n",
    "ls = [100, 50, 65, 82, 23]\n",
    "ls.reverse()\n",
    "print(ls)"
   ]
  },
  {
   "cell_type": "markdown",
   "id": "fd377320",
   "metadata": {},
   "source": [
    "# <font color=orange>Strings</font>"
   ]
  },
  {
   "cell_type": "code",
   "execution_count": 113,
   "id": "fea9bcc2",
   "metadata": {},
   "outputs": [
    {
     "name": "stdout",
     "output_type": "stream",
     "text": [
      "e\n",
      ",\n",
      " \n",
      "!\n",
      "b\n",
      "a\n",
      "n\n",
      "a\n",
      "n\n",
      "a\n"
     ]
    }
   ],
   "source": [
    "# Strings are arrays\n",
    "\n",
    "a = \"Hello, World!\"\n",
    "print(a[1])\n",
    "print(a[5])\n",
    "print(a[6])\n",
    "print(a[-1])\n",
    "\n",
    "for x in \"banana\":\n",
    "    print(x)"
   ]
  },
  {
   "cell_type": "code",
   "execution_count": 115,
   "id": "942e40fd",
   "metadata": {},
   "outputs": [
    {
     "name": "stdout",
     "output_type": "stream",
     "text": [
      "6\n"
     ]
    }
   ],
   "source": [
    "# get number of letters\n",
    "\n",
    "a = \"banana\"\n",
    "\n",
    "print(len(a))"
   ]
  },
  {
   "cell_type": "code",
   "execution_count": 118,
   "id": "fb634148",
   "metadata": {},
   "outputs": [
    {
     "name": "stdout",
     "output_type": "stream",
     "text": [
      "True\n",
      "True\n"
     ]
    }
   ],
   "source": [
    "# Check word existance\n",
    "\n",
    "txt = 'I will play football tomorrow'\n",
    "print('football' in txt)\n",
    "print('tennis' not in txt)"
   ]
  },
  {
   "cell_type": "markdown",
   "id": "5c8b6a41",
   "metadata": {},
   "source": [
    "### slicing"
   ]
  },
  {
   "cell_type": "code",
   "execution_count": 123,
   "id": "94060b5a",
   "metadata": {},
   "outputs": [
    {
     "name": "stdout",
     "output_type": "stream",
     "text": [
      "llo\n",
      "\n",
      "Hello\n",
      "\n",
      "llo, World!\n",
      "\n",
      "orl\n"
     ]
    }
   ],
   "source": [
    "b = \"Hello, World!\"\n",
    "print(b[2:5])\n",
    "\n",
    "print()\n",
    "\n",
    "b = \"Hello, World!\"\n",
    "print(b[:5])\n",
    "\n",
    "print()\n",
    "\n",
    "b = \"Hello, World!\"\n",
    "print(b[2:])\n",
    "\n",
    "print()\n",
    "\n",
    "b = \"Hello, World!\"\n",
    "print(b[-5:-2])"
   ]
  },
  {
   "cell_type": "markdown",
   "id": "a2ad187c",
   "metadata": {},
   "source": [
    "### string manipulation"
   ]
  },
  {
   "cell_type": "code",
   "execution_count": 125,
   "id": "a5a8d806",
   "metadata": {},
   "outputs": [
    {
     "name": "stdout",
     "output_type": "stream",
     "text": [
      "HELLO, WORLD!\n",
      "hello, world!\n"
     ]
    }
   ],
   "source": [
    "a = \"Hello, World!\"\n",
    "print(a.upper())\n",
    "\n",
    "a = \"Hello, World!\"\n",
    "print(a.lower())"
   ]
  },
  {
   "cell_type": "code",
   "execution_count": 127,
   "id": "9b207ffe",
   "metadata": {},
   "outputs": [
    {
     "name": "stdout",
     "output_type": "stream",
     "text": [
      "Hello, World!\n"
     ]
    }
   ],
   "source": [
    "# remove white space in the beginin and ending of the string\n",
    "\n",
    "a = \" Hello, World! \"\n",
    "print(a.strip())"
   ]
  },
  {
   "cell_type": "code",
   "execution_count": 129,
   "id": "8d433c1d",
   "metadata": {},
   "outputs": [
    {
     "name": "stdout",
     "output_type": "stream",
     "text": [
      "Jello, World!\n"
     ]
    }
   ],
   "source": [
    "# Replace letters\n",
    "\n",
    "a = \"Hello, World!\"\n",
    "print(a.replace(\"H\", \"J\"))"
   ]
  },
  {
   "cell_type": "code",
   "execution_count": 131,
   "id": "dc58cb67",
   "metadata": {},
   "outputs": [
    {
     "name": "stdout",
     "output_type": "stream",
     "text": [
      "['Hello', ' World!']\n"
     ]
    }
   ],
   "source": [
    "# split\n",
    "a = \"Hello, World!\"\n",
    "print(a.split(\",\"))"
   ]
  },
  {
   "cell_type": "code",
   "execution_count": 137,
   "id": "c80fd2c1",
   "metadata": {
    "scrolled": true
   },
   "outputs": [
    {
     "name": "stdout",
     "output_type": "stream",
     "text": [
      "True\n",
      "Hello, World! From My Python Code\n",
      "hello world\n"
     ]
    }
   ],
   "source": [
    "a ='HI'\n",
    "print(a.isupper())\n",
    "\n",
    "a = \"hello, world! from my python code\"\n",
    "print(a.title())\n",
    "\n",
    "a = 'hello'\n",
    "b = 'world'\n",
    "\n",
    "print(a + ' ' + b)"
   ]
  },
  {
   "cell_type": "markdown",
   "id": "6a1e6258",
   "metadata": {},
   "source": [
    "### Escape characters"
   ]
  },
  {
   "cell_type": "code",
   "execution_count": 143,
   "id": "8254e895",
   "metadata": {},
   "outputs": [
    {
     "name": "stdout",
     "output_type": "stream",
     "text": [
      "hello\n",
      "world\n",
      "hello world\b\n",
      "hello\\world\n",
      "hello'world\n",
      "hello\tworld\n"
     ]
    }
   ],
   "source": [
    "a = 'hello\\nworld'\n",
    "print(a)\n",
    "\n",
    "a = 'hello world\\b'\n",
    "print(a)\n",
    "\n",
    "a = 'hello\\\\world'\n",
    "print(a)\n",
    "\n",
    "a = 'hello\\'world'\n",
    "print(a)\n",
    "\n",
    "a = 'hello\\tworld'\n",
    "print(a)"
   ]
  },
  {
   "cell_type": "markdown",
   "id": "71e22ddf-bd4f-4104-be6f-e61947783fc2",
   "metadata": {},
   "source": [
    "***"
   ]
  },
  {
   "cell_type": "markdown",
   "id": "20d21aae-2243-4402-9fec-01da805ead3a",
   "metadata": {},
   "source": [
    "# <font color=orange>Python functions</font>"
   ]
  },
  {
   "cell_type": "code",
   "execution_count": 9,
   "id": "cb162bc0-9388-47d1-9377-591daf142167",
   "metadata": {},
   "outputs": [
    {
     "name": "stdout",
     "output_type": "stream",
     "text": [
      "Hello from a function\n"
     ]
    }
   ],
   "source": [
    "def my_function():\n",
    "  print(\"Hello from a function\")\n",
    "\n",
    "my_function()"
   ]
  },
  {
   "cell_type": "code",
   "execution_count": 11,
   "id": "dc47b28d-13e3-4fa2-ad05-86d3458dfa48",
   "metadata": {},
   "outputs": [
    {
     "name": "stdout",
     "output_type": "stream",
     "text": [
      "Ayman Ali\n"
     ]
    }
   ],
   "source": [
    "def fullname(f_name, l_name):\n",
    "    print(f_name + ' ' + l_name)\n",
    "\n",
    "fullname('Ayman', 'Ali')"
   ]
  },
  {
   "cell_type": "markdown",
   "id": "0e4422eb-26d6-4fe2-b2ec-1a17a7bd1a23",
   "metadata": {},
   "source": [
    "### Arbitrary arguments"
   ]
  },
  {
   "cell_type": "code",
   "execution_count": 45,
   "id": "484572b4-286b-4c58-8def-acf6ddfd0635",
   "metadata": {},
   "outputs": [
    {
     "name": "stdout",
     "output_type": "stream",
     "text": [
      "Ayman Ali\n",
      "or\n",
      "Ayman Ali\n"
     ]
    }
   ],
   "source": [
    "def fullname(f_name, l_name):\n",
    "    print(f_name + ' ' + l_name)\n",
    "\n",
    "name = ['Ayman', 'Ali']\n",
    "fullname(*name) # only one start for the list\n",
    "print('or')\n",
    "fullname(name[0], name[1])"
   ]
  },
  {
   "cell_type": "code",
   "execution_count": 16,
   "id": "2df80e09-6c71-4467-8859-1ddcff640ee8",
   "metadata": {},
   "outputs": [
    {
     "name": "stdout",
     "output_type": "stream",
     "text": [
      "Ayman Ali\n"
     ]
    }
   ],
   "source": [
    "def fullname(*names): #positional arguments\n",
    "    full_name = ' '.join(names)\n",
    "    print(full_name)\n",
    "\n",
    "# Example usage\n",
    "names = ['Ayman', 'Ali']\n",
    "fullname(*names)"
   ]
  },
  {
   "cell_type": "markdown",
   "id": "157e1d6a-8597-47d8-b3d1-0980f95d33eb",
   "metadata": {},
   "source": [
    "### keyword arguments and positional arguments"
   ]
  },
  {
   "cell_type": "code",
   "execution_count": 19,
   "id": "4bbfc35d-03ff-4e04-9d1b-9ae14519578c",
   "metadata": {},
   "outputs": [
    {
     "name": "stdout",
     "output_type": "stream",
     "text": [
      "first_name: Ayman\n",
      "last_name: Ali\n",
      "age: 30\n"
     ]
    }
   ],
   "source": [
    "def print_details(**kwargs):\n",
    "    for key, value in kwargs.items():\n",
    "        print(f\"{key}: {value}\")\n",
    "\n",
    "# Example usage\n",
    "print_details(first_name='Ayman', last_name='Ali', age=30)\n",
    "# print()\n",
    "# print_details(Mango='Ayman', banana='Ali', apple=30)"
   ]
  },
  {
   "cell_type": "code",
   "execution_count": 22,
   "id": "4974d952-8fb9-4975-987f-f4e1de0c966c",
   "metadata": {},
   "outputs": [
    {
     "name": "stdout",
     "output_type": "stream",
     "text": [
      "Positional arguments: ('Ayman', 'Ali')\n",
      "Keyword arguments: {'age': 30, 'city': 'Cairo'}\n"
     ]
    }
   ],
   "source": [
    "def full_info(*args, **kwargs):\n",
    "    print(\"Positional arguments:\", args)\n",
    "    print(\"Keyword arguments:\", kwargs)\n",
    "\n",
    "# Example usage\n",
    "full_info('Ayman', 'Ali', age=30, city='Cairo')\n"
   ]
  },
  {
   "cell_type": "markdown",
   "id": "a28a5c18-b82d-49ae-8e28-50de522fad0b",
   "metadata": {},
   "source": [
    "### Default value"
   ]
  },
  {
   "cell_type": "code",
   "execution_count": 27,
   "id": "f99bcbda-a2ed-461b-b326-f1468d35b80b",
   "metadata": {},
   "outputs": [
    {
     "name": "stdout",
     "output_type": "stream",
     "text": [
      "30\n",
      "11\n"
     ]
    }
   ],
   "source": [
    "def summation(n1 = 10, n2 = 20):\n",
    "    print(n1+n2)\n",
    "\n",
    "summation()\n",
    "summation(5,6)"
   ]
  },
  {
   "cell_type": "markdown",
   "id": "52bcfe3a-0e4a-43b4-a4ce-33700afb0e1a",
   "metadata": {},
   "source": [
    "### Passing by value Vs passing by reference"
   ]
  },
  {
   "cell_type": "code",
   "execution_count": 33,
   "id": "ff266af6-8744-4558-bc72-08226703a085",
   "metadata": {},
   "outputs": [
    {
     "name": "stdout",
     "output_type": "stream",
     "text": [
      "5\n",
      "15\n"
     ]
    }
   ],
   "source": [
    "def modify_value(x):\n",
    "    x += 10\n",
    "    return x\n",
    "\n",
    "value = 5\n",
    "value_modified = modify_value(value)\n",
    "print(value)\n",
    "print(value_modified)"
   ]
  },
  {
   "cell_type": "code",
   "execution_count": 32,
   "id": "9f22e591-aea4-4e72-a81d-201d5d9ff217",
   "metadata": {},
   "outputs": [
    {
     "name": "stdout",
     "output_type": "stream",
     "text": [
      "[1, 2, 3]\n",
      "[1, 2, 3, 4]\n"
     ]
    }
   ],
   "source": [
    "def modify_list(lst):\n",
    "    lst.append(4)\n",
    "\n",
    "my_list = [1, 2, 3]\n",
    "print(my_list)\n",
    "modify_list(my_list)\n",
    "print(my_list)"
   ]
  },
  {
   "cell_type": "markdown",
   "id": "cb9ccc81-c3f6-45ff-aecd-92061e388e72",
   "metadata": {},
   "source": [
    "## <font color=red> Note </font>\n",
    "\n",
    "### Strings, integers, and tuples are <u>immutable</u> in Python (does not change)\n",
    "\n",
    "### Lists, dictionaries, and sets are <u>mutable</u> in Python. (can be changed)"
   ]
  },
  {
   "cell_type": "code",
   "execution_count": 42,
   "id": "4deee8f4-c64b-4740-a688-5d1a3f816986",
   "metadata": {},
   "outputs": [
    {
     "name": "stdout",
     "output_type": "stream",
     "text": [
      "[1, 2, 3]\n",
      "[1, 2, 3]\n",
      "[1, 2, 3, 4]\n"
     ]
    }
   ],
   "source": [
    "# Copying the list to a new list to stop passing by reference\n",
    "\n",
    "def modify_list(lst):\n",
    "    new_ls = lst[:]\n",
    "    new_ls.append(4)\n",
    "    return new_ls\n",
    "\n",
    "my_list = [1, 2, 3]\n",
    "print(my_list)\n",
    "\n",
    "new_ls = modify_list(my_list)\n",
    "print(my_list)\n",
    "print(new_ls)"
   ]
  },
  {
   "cell_type": "markdown",
   "id": "79d6f669-81e8-46a7-9aba-64fd177671ab",
   "metadata": {},
   "source": [
    "# <font color=orange>NumPy</font>"
   ]
  },
  {
   "cell_type": "code",
   "execution_count": 1,
   "id": "0f2b166e",
   "metadata": {},
   "outputs": [
    {
     "name": "stdout",
     "output_type": "stream",
     "text": [
      "[1 2 3 4 5]\n"
     ]
    }
   ],
   "source": [
    "import numpy as np\n",
    "\n",
    "arr = np.array([1, 2, 3, 4, 5])\n",
    "\n",
    "print(arr)"
   ]
  },
  {
   "cell_type": "code",
   "execution_count": 2,
   "id": "ad686e74",
   "metadata": {},
   "outputs": [
    {
     "data": {
      "text/plain": [
       "numpy.ndarray"
      ]
     },
     "execution_count": 2,
     "metadata": {},
     "output_type": "execute_result"
    }
   ],
   "source": [
    "type(arr)"
   ]
  },
  {
   "cell_type": "markdown",
   "id": "65eb4a85-6eda-47cf-8205-599491d3fd29",
   "metadata": {},
   "source": [
    "## <font color=red> Note </font>\n",
    "\n",
    "#### A dimension in arrays is one level of array depth (nested arrays).\n",
    "\n",
    "### nested array:\n",
    "> #### Are arrays that have arrays as their elements."
   ]
  },
  {
   "cell_type": "markdown",
   "id": "16dec07c-9a0a-4bfd-8547-f49880562387",
   "metadata": {},
   "source": [
    "### 0-D Arrays"
   ]
  },
  {
   "cell_type": "code",
   "execution_count": 3,
   "id": "14b8c0d3-8ebb-44d3-bd23-9df379dbc559",
   "metadata": {},
   "outputs": [
    {
     "name": "stdout",
     "output_type": "stream",
     "text": [
      "42\n"
     ]
    }
   ],
   "source": [
    "import numpy as np\n",
    "\n",
    "arr = np.array(42) # scalar value\n",
    "\n",
    "print(arr)"
   ]
  },
  {
   "cell_type": "markdown",
   "id": "2f8c0e76-3136-48dd-9d7d-0a52b94c1d52",
   "metadata": {},
   "source": [
    "## <font color=red> Note </font>\n",
    "\n",
    "> #### 0-D arrays, or Scalars, are the elements in an array. Each value in an array is a 0-D array."
   ]
  },
  {
   "cell_type": "markdown",
   "id": "c096b929-d503-4c5c-8687-00b1ddb169ff",
   "metadata": {},
   "source": [
    "### 1-D Arrays or uni-dimensional"
   ]
  },
  {
   "cell_type": "code",
   "execution_count": 4,
   "id": "d9c8ff9b-9900-4065-8538-4ff32f31c6c4",
   "metadata": {},
   "outputs": [
    {
     "name": "stdout",
     "output_type": "stream",
     "text": [
      "[1 2 3 4 5]\n"
     ]
    }
   ],
   "source": [
    "import numpy as np\n",
    "\n",
    "arr = np.array([1, 2, 3, 4, 5])\n",
    "\n",
    "print(arr)"
   ]
  },
  {
   "cell_type": "markdown",
   "id": "11e3a2dc-ed26-4388-9e5e-223b91bc11cb",
   "metadata": {},
   "source": [
    "## <font color=red> Note </font>\n",
    "\n",
    "> #### array that has 0-D arrays as its elements is called uni-dimensional or 1-D array."
   ]
  },
  {
   "cell_type": "markdown",
   "id": "16acf827-b9c2-4566-a7b3-19d5848dc2b9",
   "metadata": {},
   "source": [
    "### 2-D Arrays"
   ]
  },
  {
   "cell_type": "code",
   "execution_count": 4,
   "id": "1b84a5f0-d5d1-417a-ab92-ccd6a22c02b1",
   "metadata": {},
   "outputs": [
    {
     "name": "stdout",
     "output_type": "stream",
     "text": [
      "[[1 2 3]\n",
      " [4 5 6]]\n"
     ]
    }
   ],
   "source": [
    "import numpy as np\n",
    "\n",
    "arr = np.array([[1, 2, 3], [4, 5, 6]])\n",
    "\n",
    "print(arr)"
   ]
  },
  {
   "cell_type": "markdown",
   "id": "6824104e-62de-4b68-941e-75f681dcaf2d",
   "metadata": {},
   "source": [
    "## <font color=red> Note </font>\n",
    "\n",
    "> #### An array that has 1-D arrays as its elements is called a 2-D array.\n",
    "> #### These are often used to represent matrix"
   ]
  },
  {
   "cell_type": "markdown",
   "id": "807bbff4-6de0-4f90-8385-558409829617",
   "metadata": {},
   "source": [
    "### 3-D Arrays"
   ]
  },
  {
   "cell_type": "code",
   "execution_count": 6,
   "id": "fb704365-8ffe-4b0e-b0b3-037b9a3e5606",
   "metadata": {},
   "outputs": [
    {
     "name": "stdout",
     "output_type": "stream",
     "text": [
      "[[[1 2 3]\n",
      "  [4 5 6]]\n",
      "\n",
      " [[1 2 3]\n",
      "  [4 5 6]]]\n"
     ]
    }
   ],
   "source": [
    "import numpy as np\n",
    "\n",
    "arr = np.array([[[1, 2, 3], [4, 5, 6]], [[1, 2, 3], [4, 5, 6]]])\n",
    "\n",
    "print(arr)"
   ]
  },
  {
   "cell_type": "markdown",
   "id": "96f4ca27-ae0d-4f9c-b813-636c2ccb42f6",
   "metadata": {},
   "source": [
    "## <font color=red> Note </font>\n",
    "\n",
    "> #### An array that has 2-D arrays (matrices) as its elements is called 3-D array."
   ]
  },
  {
   "cell_type": "markdown",
   "id": "59b15946-6248-4f12-805e-69211d6b1f7f",
   "metadata": {},
   "source": [
    "## Check Number of Dimensions?"
   ]
  },
  {
   "cell_type": "code",
   "execution_count": 7,
   "id": "411afadf-8a27-4a82-9e16-3bad42314c25",
   "metadata": {},
   "outputs": [
    {
     "name": "stdout",
     "output_type": "stream",
     "text": [
      "0\n",
      "1\n",
      "2\n",
      "3\n"
     ]
    }
   ],
   "source": [
    "import numpy as np\n",
    "\n",
    "a = np.array(42)\n",
    "b = np.array([1, 2, 3, 4, 5])\n",
    "c = np.array([[1, 2, 3], [4, 5, 6]])\n",
    "d = np.array([[[1, 2, 3], [4, 5, 6]], [[1, 2, 3], [4, 5, 6]]])\n",
    "\n",
    "print(a.ndim)\n",
    "print(b.ndim)\n",
    "print(c.ndim)\n",
    "print(d.ndim)"
   ]
  },
  {
   "cell_type": "markdown",
   "id": "91390492-8b10-4833-8318-19b22392852c",
   "metadata": {},
   "source": [
    "### Higher dimensional arrays"
   ]
  },
  {
   "cell_type": "code",
   "execution_count": 7,
   "id": "63ba2370-f103-4028-8909-00163b57c058",
   "metadata": {},
   "outputs": [
    {
     "name": "stdout",
     "output_type": "stream",
     "text": [
      "[[[[[1 2 3 4]]]]]\n",
      "number of dimensions : 5\n"
     ]
    }
   ],
   "source": [
    "import numpy as np\n",
    "\n",
    "arr = np.array([1, 2, 3, 4], ndmin=5)\n",
    "\n",
    "print(arr)\n",
    "print('number of dimensions :', arr.ndim)"
   ]
  },
  {
   "cell_type": "markdown",
   "id": "172f457b-14a4-4910-a6a8-7e865e0b128c",
   "metadata": {},
   "source": [
    "# Array indexing"
   ]
  },
  {
   "cell_type": "markdown",
   "id": "2f913c99-061d-4955-844d-ed1b295de563",
   "metadata": {},
   "source": [
    "### 1D array indexing\n"
   ]
  },
  {
   "cell_type": "code",
   "execution_count": 10,
   "id": "7aa6e26b-3507-4950-ba2a-53d970fc42d9",
   "metadata": {},
   "outputs": [
    {
     "name": "stdout",
     "output_type": "stream",
     "text": [
      "1\n",
      "2\n",
      "4\n"
     ]
    }
   ],
   "source": [
    "import numpy as np\n",
    "\n",
    "arr = np.array([1, 2, 3, 4])\n",
    "\n",
    "print(arr[0])\n",
    "print(arr[1])\n",
    "print(arr[-1])\n"
   ]
  },
  {
   "cell_type": "markdown",
   "id": "c3e11b75-b642-499d-8f57-8c0e135726d0",
   "metadata": {},
   "source": [
    "### 2D array indexing"
   ]
  },
  {
   "cell_type": "code",
   "execution_count": 10,
   "id": "3eba782f-9759-493d-ab49-5bfcfb0281b3",
   "metadata": {
    "scrolled": true
   },
   "outputs": [
    {
     "name": "stdout",
     "output_type": "stream",
     "text": [
      "2nd element on 1st row:  2\n",
      "2nd element on 1st row:  4\n",
      "2nd element on 1st row:  7\n",
      "2nd element on 1st row:  9\n",
      "2nd element on 1st row:  10\n"
     ]
    }
   ],
   "source": [
    "import numpy as np\n",
    "\n",
    "arr = np.array([\n",
    "    [1,2,3,4,5],\n",
    "    [6,7,8,9,10]\n",
    "])\n",
    "\n",
    "print('2nd element on 1st row: ', arr[0, 1])\n",
    "\n",
    "print('3rd element on 1st row: ', arr[0][3])\n",
    "\n",
    "print('2nd element on 2nd row: ', arr[1, 1])\n",
    "\n",
    "print('3rd element on 2nd row: ', arr[-1][3])\n",
    "\n",
    "print('last element on last row: ', arr[-1, -1])\n"
   ]
  },
  {
   "cell_type": "code",
   "execution_count": 9,
   "id": "b4463ddb",
   "metadata": {},
   "outputs": [],
   "source": [
    "_3d_array = np.array([\n",
    "    [\n",
    "        [1, 2, 3], #index = 0\n",
    "        [4, 5, 6] # index = 1\n",
    "    ], # index = 0\n",
    "              \n",
    "    [\n",
    "        [7, 8, 9], # index = 0\n",
    "        [11, 12, 13] # index = 1\n",
    "    ] # index = 1\n",
    "])"
   ]
  },
  {
   "cell_type": "code",
   "execution_count": 11,
   "id": "4b9b4226",
   "metadata": {},
   "outputs": [
    {
     "name": "stdout",
     "output_type": "stream",
     "text": [
      "12\n",
      "12\n",
      "12\n",
      "12\n",
      "[[ 7  8  9]\n",
      " [11 12 13]]\n"
     ]
    }
   ],
   "source": [
    "print(_3d_array[-1][-1][1])\n",
    "print(_3d_array[1, 1, 1])\n",
    "print(_3d_array[1][1][1])\n",
    "\n",
    "print(_3d_array[-1, -1, 1])\n",
    "\n",
    "print(_3d_array[1])"
   ]
  },
  {
   "cell_type": "markdown",
   "id": "e3091484-f7f1-4c2d-acab-5c71dc4ceced",
   "metadata": {},
   "source": [
    "### 3D array indexing"
   ]
  },
  {
   "cell_type": "code",
   "execution_count": 12,
   "id": "c335c09a-0844-45b8-abf8-9c54df764c3a",
   "metadata": {},
   "outputs": [
    {
     "name": "stdout",
     "output_type": "stream",
     "text": [
      "6\n"
     ]
    }
   ],
   "source": [
    "import numpy as np\n",
    "\n",
    "arr = np.array([[[1, 2, 3], [4, 5, 6]], [[7, 8, 9], [10, 11, 12]]])\n",
    "\n",
    "print(arr[0, 1, 2])\n",
    "\"\"\"\n",
    "[0,  1,  2]\n",
    "[2d, 1d, 0d]\n",
    "\"\"\""
   ]
  },
  {
   "cell_type": "markdown",
   "id": "724f0f8a-a1dc-4cc6-888f-fb035cfc71dc",
   "metadata": {},
   "source": [
    "# Array indexing"
   ]
  },
  {
   "cell_type": "markdown",
   "id": "ed173632-7373-441f-a0e7-0bbc063614a3",
   "metadata": {},
   "source": [
    "### 1D array indexing"
   ]
  },
  {
   "cell_type": "code",
   "execution_count": 18,
   "id": "9316b7f2-1ffa-4427-bbce-cc91bb0c2e09",
   "metadata": {},
   "outputs": [
    {
     "name": "stdout",
     "output_type": "stream",
     "text": [
      "[2 3 4 5]\n",
      "\n",
      "[1 2 3 4]\n",
      "\n",
      "[4 5 6 7]\n"
     ]
    }
   ],
   "source": [
    "# get range of items\n",
    "\n",
    "import numpy as np\n",
    "\n",
    "arr = np.array([1, 2, 3, 4, 5, 6, 7])\n",
    "\n",
    "print(arr[1:5])\n",
    "print()\n",
    "print(arr[:4])\n",
    "print()\n",
    "print(arr[3:10]) # We have just 7 elements How?\n"
   ]
  },
  {
   "cell_type": "code",
   "execution_count": null,
   "id": "19cd61bb-7012-4213-9c6f-148e59180b72",
   "metadata": {},
   "outputs": [],
   "source": []
  },
  {
   "cell_type": "markdown",
   "id": "8f2fb217-a4d3-4010-b62b-3be29bd3273d",
   "metadata": {},
   "source": [
    "## Using steps"
   ]
  },
  {
   "cell_type": "code",
   "execution_count": 19,
   "id": "167a8e02-656a-4a39-a1b2-c19442b430e3",
   "metadata": {},
   "outputs": [
    {
     "name": "stdout",
     "output_type": "stream",
     "text": [
      "[2 4]\n"
     ]
    }
   ],
   "source": [
    "import numpy as np\n",
    "\n",
    "arr = np.array([1, 2, 3, 4, 5, 6, 7])\n",
    "\n",
    "print(arr[1:5:2])"
   ]
  },
  {
   "cell_type": "code",
   "execution_count": 20,
   "id": "d6777e94-580a-4609-bc1a-df8cd40b33d9",
   "metadata": {},
   "outputs": [
    {
     "name": "stdout",
     "output_type": "stream",
     "text": [
      "[1 3 5 7]\n"
     ]
    }
   ],
   "source": [
    "import numpy as np\n",
    "\n",
    "arr = np.array([1, 2, 3, 4, 5, 6, 7])\n",
    "\n",
    "print(arr[::2])"
   ]
  },
  {
   "cell_type": "markdown",
   "id": "a579f761-a49c-47d2-9b60-a0dffadf66a7",
   "metadata": {},
   "source": [
    "### 2D array indexing"
   ]
  },
  {
   "cell_type": "code",
   "execution_count": 21,
   "id": "7265b59d-c5a1-4787-a007-7dd48c182f9e",
   "metadata": {},
   "outputs": [
    {
     "name": "stdout",
     "output_type": "stream",
     "text": [
      "[7 8 9]\n"
     ]
    }
   ],
   "source": [
    "import numpy as np\n",
    "\n",
    "arr = np.array([[1, 2, 3, 4, 5], [6, 7, 8, 9, 10]])\n",
    "\n",
    "print(arr[1, 1:4])"
   ]
  },
  {
   "cell_type": "code",
   "execution_count": 26,
   "id": "2cfbedab",
   "metadata": {},
   "outputs": [],
   "source": [
    "arr = np.array([\n",
    "    [\n",
    "        [1, 2, 3, 4, 5],\n",
    "        [6, 7, 8, 9, 10]\n",
    "    ],\n",
    "    \n",
    "    [\n",
    "        [11, 12, 13, 14, 15],\n",
    "        [16, 17, 18, 19, 20]\n",
    "    ]\n",
    "])\n",
    "\n",
    "# index to get 12\n",
    "\n",
    "print(arr[1, 0, 1])\n",
    "print(arr[1, 1, 1])"
   ]
  },
  {
   "cell_type": "markdown",
   "id": "2e358b48-3fd9-4a55-9b5a-c9ee72b0393e",
   "metadata": {},
   "source": [
    "# Data Types"
   ]
  },
  {
   "cell_type": "code",
   "execution_count": 27,
   "id": "8757cf75-5825-4b05-8fc1-b55c4b1373c8",
   "metadata": {},
   "outputs": [
    {
     "name": "stdout",
     "output_type": "stream",
     "text": [
      "int32\n"
     ]
    }
   ],
   "source": [
    "import numpy as np\n",
    "\n",
    "arr = np.array([1, 2, 3, 4])\n",
    "\n",
    "print(arr.dtype)"
   ]
  },
  {
   "cell_type": "code",
   "execution_count": 28,
   "id": "50d8db56-fb8b-407e-ba32-041b1b52e014",
   "metadata": {},
   "outputs": [
    {
     "name": "stdout",
     "output_type": "stream",
     "text": [
      "<U6\n"
     ]
    }
   ],
   "source": [
    "import numpy as np\n",
    "\n",
    "arr = np.array(['apple', 'banana', 'cherry'])\n",
    "\n",
    "print(arr.dtype) # unicode string"
   ]
  },
  {
   "cell_type": "code",
   "execution_count": 29,
   "id": "e199f0d1-fe3d-44bb-a928-b7f7bdc9db21",
   "metadata": {},
   "outputs": [
    {
     "name": "stdout",
     "output_type": "stream",
     "text": [
      "[b'1' b'2' b'3' b'4']\n",
      "|S1\n"
     ]
    }
   ],
   "source": [
    "import numpy as np\n",
    "\n",
    "arr = np.array([1, 2, 3, 4], dtype='S') # byte string\n",
    "\n",
    "print(arr)\n",
    "print(arr.dtype) # string of length 1"
   ]
  },
  {
   "cell_type": "code",
   "execution_count": 31,
   "id": "638dc22f-02d3-408e-8c6e-081720318843",
   "metadata": {},
   "outputs": [
    {
     "name": "stdout",
     "output_type": "stream",
     "text": [
      "[b'1' b'2' b'3' b'44']\n",
      "|S2\n",
      "\n",
      "[b'1' b'2' b'3' b'40']\n",
      "|S2\n"
     ]
    }
   ],
   "source": [
    "arr = np.array([1, 2, 3, 44], dtype='S') # will cast to S2\n",
    "print(arr)\n",
    "print(arr.dtype)\n",
    "\n",
    "print()\n",
    "\n",
    "arr = np.array([1, 2, 3, 400], dtype='S2') # will not cast\n",
    "print(arr)\n",
    "print(arr.dtype)"
   ]
  },
  {
   "cell_type": "code",
   "execution_count": 40,
   "id": "c37e03a1-8dff-437b-94c4-a1402beaa033",
   "metadata": {},
   "outputs": [
    {
     "name": "stdout",
     "output_type": "stream",
     "text": [
      "[1 2 3 4]\n",
      "int8\n",
      "[1 2 3 4]\n",
      "int64\n"
     ]
    }
   ],
   "source": [
    "import numpy as np\n",
    "\n",
    "arr = np.array([1, 2, 3, 4], dtype='i1')\n",
    "\n",
    "print(arr)\n",
    "print(arr.dtype)\n",
    "\n",
    "arr = np.array([1, 2, 3, 4], dtype='int64')\n",
    "print(arr)\n",
    "print(arr.dtype)\n",
    "\n",
    "# i1 = int8\n",
    "# i2 = int16\n",
    "# i4 = int32 (default)\n",
    "# i8 = int64\n",
    "####\n",
    "# int8  --> 8 byte\n",
    "# int16\n",
    "# int32 (default)\n",
    "# int64 "
   ]
  },
  {
   "cell_type": "markdown",
   "id": "1b124e3e-2b30-479f-9f15-8bb4cf96f653",
   "metadata": {},
   "source": [
    "## Changing data types of arrays"
   ]
  },
  {
   "cell_type": "code",
   "execution_count": 44,
   "id": "ab312783-c39a-4a25-87cd-a17738af8189",
   "metadata": {},
   "outputs": [
    {
     "name": "stdout",
     "output_type": "stream",
     "text": [
      "float64\n",
      "\n",
      "[1 2 3]\n",
      "int32\n",
      "\n",
      "[1 2 3]\n",
      "int64\n"
     ]
    }
   ],
   "source": [
    "import numpy as np\n",
    "\n",
    "arr = np.array([1.1, 2.1, 3.1])\n",
    "print(arr.dtype)\n",
    "\n",
    "print()\n",
    "newarr_i = arr.astype('i') # converting\n",
    "\n",
    "print(newarr_i)\n",
    "print(newarr_i.dtype)\n",
    "\n",
    "print()\n",
    "newarr_int = arr.astype('int64') # converting\n",
    "\n",
    "print(newarr_int)\n",
    "print(newarr_int.dtype)"
   ]
  },
  {
   "cell_type": "code",
   "execution_count": 45,
   "id": "465fca24-767c-43e5-86a8-7379976aa366",
   "metadata": {},
   "outputs": [
    {
     "name": "stdout",
     "output_type": "stream",
     "text": [
      "[1 2 3]\n",
      "int32\n"
     ]
    }
   ],
   "source": [
    "import numpy as np\n",
    "\n",
    "arr = np.array([1.1, 2.1, 3.1])\n",
    "\n",
    "newarr = arr.astype(int)\n",
    "\n",
    "print(newarr)\n",
    "print(newarr.dtype)"
   ]
  },
  {
   "cell_type": "code",
   "execution_count": 47,
   "id": "14d53e0d-54e8-4c06-803f-b0d0c505601c",
   "metadata": {},
   "outputs": [
    {
     "name": "stdout",
     "output_type": "stream",
     "text": [
      "int32\n",
      "[ True False  True  True]\n",
      "bool\n"
     ]
    }
   ],
   "source": [
    "import numpy as np\n",
    "\n",
    "arr = np.array([1, 0, 3, -5])\n",
    "print(arr.dtype)\n",
    "\n",
    "newarr = arr.astype(bool)\n",
    "\n",
    "print(newarr)\n",
    "print(newarr.dtype)"
   ]
  },
  {
   "cell_type": "markdown",
   "id": "2e788950-524c-4aa0-8241-30bbeceb2ffe",
   "metadata": {},
   "source": [
    "# Numpy copy"
   ]
  },
  {
   "cell_type": "code",
   "execution_count": 49,
   "id": "f3735e5b-c042-4834-9659-18fe3ab19a08",
   "metadata": {},
   "outputs": [
    {
     "name": "stdout",
     "output_type": "stream",
     "text": [
      "int32\n",
      "[42  2  3  4  5]\n",
      "[1 2 3 4 5]\n",
      "int32\n",
      "\n",
      "1921409549296\n",
      "1921409553136\n"
     ]
    }
   ],
   "source": [
    "import numpy as np\n",
    "\n",
    "arr = np.array([1, 2, 3, 4, 5])\n",
    "x = arr.copy()\n",
    "arr[0] = 42 # The copy SHOULD NOT be affected by the changes made to the original array.\n",
    "\n",
    "print(arr.dtype)\n",
    "print(arr)\n",
    "print(x)\n",
    "print(x.dtype)\n",
    "print()\n",
    "\n",
    "print(id(arr))\n",
    "print(id(x))"
   ]
  },
  {
   "cell_type": "markdown",
   "id": "ea88fe2e-8761-4045-86e4-867ae8310d66",
   "metadata": {},
   "source": [
    "# Numpy view"
   ]
  },
  {
   "cell_type": "code",
   "execution_count": 51,
   "id": "66c85761-9323-4794-a883-39043f114abc",
   "metadata": {},
   "outputs": [
    {
     "name": "stdout",
     "output_type": "stream",
     "text": [
      "int32\n",
      "[42  2  3  4  5]\n",
      "[42  2  3  4  5]\n",
      "int32\n",
      "\n",
      "1921409549488\n",
      "1921409549104\n"
     ]
    }
   ],
   "source": [
    "import numpy as np\n",
    "\n",
    "arr = np.array([1, 2, 3, 4, 5])\n",
    "x = arr.view()\n",
    "arr[0] = 42\n",
    "\n",
    "print(arr.dtype)\n",
    "print(arr)\n",
    "print(x)\n",
    "print(x.dtype)\n",
    "\n",
    "print()\n",
    "print(id(arr))\n",
    "print(id(x))"
   ]
  },
  {
   "cell_type": "code",
   "execution_count": 52,
   "id": "3ffd9236-fe7f-4064-83ca-5d26ed9c7b7e",
   "metadata": {},
   "outputs": [
    {
     "name": "stdout",
     "output_type": "stream",
     "text": [
      "[31  2  3  4  5]\n",
      "[31  2  3  4  5]\n"
     ]
    }
   ],
   "source": [
    "# make changes to the view\n",
    "\n",
    "import numpy as np\n",
    "\n",
    "arr = np.array([1, 2, 3, 4, 5])\n",
    "x = arr.view()\n",
    "x[0] = 31\n",
    "\n",
    "print(arr)\n",
    "print(x)"
   ]
  },
  {
   "cell_type": "code",
   "execution_count": 54,
   "id": "83d0369c-4559-40cb-9530-21bab4084286",
   "metadata": {},
   "outputs": [
    {
     "name": "stdout",
     "output_type": "stream",
     "text": [
      "None\n",
      "[1 2 3 4 5]\n"
     ]
    }
   ],
   "source": [
    "import numpy as np\n",
    "\n",
    "arr = np.array([1, 2, 3, 4, 5])\n",
    "\n",
    "x = arr.copy()\n",
    "y = arr.view()\n",
    "\n",
    "print(x.base)\n",
    "print(y.base)"
   ]
  },
  {
   "cell_type": "markdown",
   "id": "eba6bc7b-386b-4079-8bd9-460ca39e7842",
   "metadata": {},
   "source": [
    "## <font color=red> Note </font>\n",
    "\n",
    "> #### Copies owns the data\n",
    "\n",
    "> #### views does not own the data\n",
    "\n",
    "> ## to check owning:\n",
    "> Attribute <u>base</u> that returns None if the array owns the data\n",
    ">\n",
    "> otherwise it will return the data of the main array"
   ]
  },
  {
   "cell_type": "markdown",
   "id": "e37378e7-68ee-44c3-8542-a14fba0978c5",
   "metadata": {},
   "source": [
    "## Get array shape"
   ]
  },
  {
   "cell_type": "code",
   "execution_count": 56,
   "id": "9f40bbb3-48c7-4004-acd3-d54faca6ede4",
   "metadata": {},
   "outputs": [
    {
     "name": "stdout",
     "output_type": "stream",
     "text": [
      "(2, 4)\n"
     ]
    }
   ],
   "source": [
    "import numpy as np\n",
    "\n",
    "arr = np.array([[1, 2, 3, 4], [5, 6, 7, 8]])\n",
    "\n",
    "# arr = np.array([[1, 2, 3, 4],\n",
    "#                 [5, 6, 7, 8],\n",
    "#                 [10,11,12,13]])\n",
    "\n",
    "print(arr.shape)"
   ]
  },
  {
   "cell_type": "code",
   "execution_count": 2,
   "id": "bc966e3e-d685-4912-a88e-eea2b7840bc2",
   "metadata": {},
   "outputs": [
    {
     "name": "stdout",
     "output_type": "stream",
     "text": [
      "[[[[[1 2 3 4]]]]]\n",
      "shape of array : (1, 1, 1, 1, 4)\n"
     ]
    }
   ],
   "source": [
    "import numpy as np\n",
    "\n",
    "arr = np.array([1, 2, 3, 4], ndmin=5)\n",
    "\n",
    "print(arr)\n",
    "print('shape of array :', arr.shape)"
   ]
  },
  {
   "cell_type": "code",
   "execution_count": 64,
   "id": "4ac8c833-5690-4743-931d-7e286947709b",
   "metadata": {},
   "outputs": [
    {
     "name": "stdout",
     "output_type": "stream",
     "text": [
      "[[ 1  2  3]\n",
      " [ 4  5  6]\n",
      " [ 7  8  9]\n",
      " [10 11 12]]\n",
      "2\n"
     ]
    }
   ],
   "source": [
    "# reshape from 1D to 2D\n",
    "\n",
    "import numpy as np\n",
    "\n",
    "arr = np.array([1, 2, 3, 4, 5, 6, 7, 8, 9, 10, 11, 12])\n",
    "\n",
    "newarr = arr.reshape(4, 3)\n",
    "print(newarr)\n",
    "print(newarr.ndim)\n"
   ]
  },
  {
   "cell_type": "code",
   "execution_count": 65,
   "id": "745aad82-dd59-48f0-af85-d06192c4688a",
   "metadata": {},
   "outputs": [
    {
     "name": "stdout",
     "output_type": "stream",
     "text": [
      "[[[ 1  2]\n",
      "  [ 3  4]\n",
      "  [ 5  6]]\n",
      "\n",
      " [[ 7  8]\n",
      "  [ 9 10]\n",
      "  [11 12]]]\n"
     ]
    }
   ],
   "source": [
    "# reshape from 1D to 3D\n",
    "\n",
    "import numpy as np\n",
    "\n",
    "arr = np.array([1, 2, 3, 4, 5, 6, 7, 8, 9, 10, 11, 12])\n",
    "\n",
    "newarr = arr.reshape(2, 3, 2)\n",
    "\n",
    "print(newarr)"
   ]
  },
  {
   "cell_type": "code",
   "execution_count": 68,
   "id": "5ae7ffc8-1434-472c-a3dc-7424983c7bf5",
   "metadata": {},
   "outputs": [],
   "source": [
    "# Will work??\n",
    "\n",
    "import numpy as np\n",
    "\n",
    "arr = np.array([1, 2, 3, 4, 5, 6, 7, 8]) # shape (1, 8)\n",
    "\n",
    "newarr = arr.reshape(3, 3)\n",
    "\n",
    "print(newarr)"
   ]
  },
  {
   "cell_type": "markdown",
   "id": "9b3bf712-94b0-41e1-a3ab-58b83e36979b",
   "metadata": {},
   "source": [
    "## Array iterating"
   ]
  },
  {
   "cell_type": "code",
   "execution_count": 69,
   "id": "9ec5003f-0a1c-4f12-95f2-a828778a5a40",
   "metadata": {},
   "outputs": [
    {
     "name": "stdout",
     "output_type": "stream",
     "text": [
      "1\n",
      "2\n",
      "3\n"
     ]
    }
   ],
   "source": [
    "import numpy as np\n",
    "\n",
    "arr = np.array([1, 2, 3])\n",
    "\n",
    "for x in arr:\n",
    "    print(x)"
   ]
  },
  {
   "cell_type": "code",
   "execution_count": 70,
   "id": "48490a3c-49c3-437f-9ab1-cc0cda9b0231",
   "metadata": {},
   "outputs": [
    {
     "name": "stdout",
     "output_type": "stream",
     "text": [
      "1\n",
      "2\n",
      "3\n",
      "4\n",
      "5\n",
      "6\n"
     ]
    }
   ],
   "source": [
    "import numpy as np\n",
    "\n",
    "arr = np.array([[1, 2, 3], [4, 5, 6]])\n",
    "\n",
    "for x in arr:\n",
    "    for y in x:\n",
    "        print(y)"
   ]
  },
  {
   "cell_type": "code",
   "execution_count": 71,
   "id": "70c61aa9-ab95-46dc-84e1-4707d689cb66",
   "metadata": {},
   "outputs": [
    {
     "name": "stdout",
     "output_type": "stream",
     "text": [
      "1\n",
      "2\n",
      "3\n",
      "4\n",
      "5\n",
      "6\n",
      "7\n",
      "8\n",
      "9\n",
      "10\n",
      "11\n",
      "12\n"
     ]
    }
   ],
   "source": [
    "import numpy as np\n",
    "\n",
    "arr = np.array([[[1, 2, 3], [4, 5, 6]], [[7, 8, 9], [10, 11, 12]]])\n",
    "\n",
    "for x in arr:\n",
    "    for y in x:\n",
    "        for z in y:\n",
    "            print(z)"
   ]
  },
  {
   "cell_type": "code",
   "execution_count": 72,
   "id": "ee87f56c-f330-4fcc-8a53-0746794e53cb",
   "metadata": {},
   "outputs": [
    {
     "name": "stdout",
     "output_type": "stream",
     "text": [
      "1\n",
      "2\n",
      "3\n",
      "4\n",
      "5\n",
      "6\n",
      "7\n",
      "8\n"
     ]
    }
   ],
   "source": [
    "import numpy as np\n",
    "\n",
    "arr = np.array([[[1, 2], [3, 4]], [[5, 6], [7, 8]]])\n",
    "\n",
    "for x in np.nditer(arr):\n",
    "    print(x)"
   ]
  },
  {
   "cell_type": "code",
   "execution_count": 73,
   "id": "489d67bc-3220-4d2e-813b-18a135509d0f",
   "metadata": {},
   "outputs": [
    {
     "name": "stdout",
     "output_type": "stream",
     "text": [
      "1\n",
      "3\n",
      "5\n",
      "7\n"
     ]
    }
   ],
   "source": [
    "# Iterating using steps\n",
    "\n",
    "import numpy as np\n",
    "\n",
    "arr = np.array([[1, 2, 3, 4], [5, 6, 7, 8]])\n",
    "\n",
    "for x in np.nditer(arr[:, ::2]):\n",
    "    print(x)"
   ]
  },
  {
   "cell_type": "markdown",
   "id": "7804d7b2-887c-4576-b01c-ef2bf2bb4e02",
   "metadata": {},
   "source": [
    "## <font color=red> Note </font>\n",
    "\n",
    "#### Slicing the Array: arr[:, ::2]\n",
    "\n",
    "> : (colon before the comma) indicates that all rows are included.\n",
    ">\n",
    "> ::2 (colon after the comma) indicates that every second column is selected.\n",
    "\n",
    ">So, arr[:, ::2] is a slice that includes all rows but only every second column from the array arr."
   ]
  },
  {
   "cell_type": "markdown",
   "id": "3cf08388-7708-43ae-b921-593ee4101794",
   "metadata": {},
   "source": [
    "# Array joining"
   ]
  },
  {
   "cell_type": "code",
   "execution_count": 77,
   "id": "d5acf1e1-746f-424d-a73e-ee1122a1e09a",
   "metadata": {},
   "outputs": [
    {
     "name": "stdout",
     "output_type": "stream",
     "text": [
      "[1 2 3 4 5 6]\n",
      "[1 2 3]\n",
      "[4 5 6]\n"
     ]
    }
   ],
   "source": [
    "import numpy as np\n",
    "\n",
    "arr1 = np.array([1, 2, 3])\n",
    "\n",
    "arr2 = np.array([4, 5, 6])\n",
    "\n",
    "arr = np.concatenate((arr1, arr2))\n"
   ]
  },
  {
   "cell_type": "code",
   "execution_count": 78,
   "id": "313e8c8a-b7f0-4343-8ac9-3f544413d5a2",
   "metadata": {},
   "outputs": [
    {
     "name": "stdout",
     "output_type": "stream",
     "text": [
      "[[1 2 5 6]\n",
      " [3 4 7 8]]\n"
     ]
    }
   ],
   "source": [
    "import numpy as np\n",
    "\n",
    "arr1 = np.array([[1, 2], [3, 4]])\n",
    "\n",
    "arr2 = np.array([[5, 6], [7, 8]])\n",
    "\n",
    "arr = np.concatenate((arr1, arr2), axis=1) # Column by Column\n",
    "\n",
    "print(arr)"
   ]
  },
  {
   "cell_type": "code",
   "execution_count": 79,
   "id": "021e6b54-36af-41dc-adeb-a7ec426c3573",
   "metadata": {},
   "outputs": [
    {
     "name": "stdout",
     "output_type": "stream",
     "text": [
      "[[1 2]\n",
      " [3 4]\n",
      " [5 6]\n",
      " [7 8]]\n"
     ]
    }
   ],
   "source": [
    "import numpy as np\n",
    "\n",
    "arr1 = np.array([[1, 2], [3, 4]])\n",
    "\n",
    "arr2 = np.array([[5, 6], [7, 8]])\n",
    "\n",
    "arr = np.concatenate((arr1, arr2), axis=0) # Row by row\n",
    "\n",
    "print(arr)"
   ]
  },
  {
   "cell_type": "code",
   "execution_count": 21,
   "id": "f2938491-bd81-42a7-a09d-410f3ca0fd52",
   "metadata": {},
   "outputs": [
    {
     "name": "stdout",
     "output_type": "stream",
     "text": [
      "[[1 4]\n",
      " [2 5]\n",
      " [3 6]]\n"
     ]
    }
   ],
   "source": [
    "import numpy as np\n",
    "\n",
    "arr1 = np.array([1, 2, 3])\n",
    "\n",
    "arr2 = np.array([4, 5, 6])\n",
    "\n",
    "arr = np.stack((arr1, arr2), axis=1)\n",
    "\n",
    "print(arr)"
   ]
  },
  {
   "cell_type": "markdown",
   "id": "946b31a2-a39c-49bb-bc1b-5532da34c400",
   "metadata": {},
   "source": [
    "\n",
    "# split"
   ]
  },
  {
   "cell_type": "code",
   "execution_count": 22,
   "id": "8c86560d-cb83-4282-a4ad-a761d408f5ab",
   "metadata": {},
   "outputs": [
    {
     "name": "stdout",
     "output_type": "stream",
     "text": [
      "[array([1, 2]), array([3, 4]), array([5, 6])]\n"
     ]
    }
   ],
   "source": [
    "import numpy as np\n",
    "\n",
    "arr = np.array([1, 2, 3, 4, 5, 6])\n",
    "\n",
    "newarr = np.array_split(arr, 3)\n",
    "\n",
    "print(newarr)"
   ]
  },
  {
   "cell_type": "code",
   "execution_count": 86,
   "id": "b4cd46d4",
   "metadata": {},
   "outputs": [
    {
     "name": "stdout",
     "output_type": "stream",
     "text": [
      "[array([1, 2]), array([3, 4]), array([5, 6])]\n"
     ]
    }
   ],
   "source": [
    "arr = np.array([1, 2, 3, 4, 5, 6])\n",
    "\n",
    "newarr = np.array_split(arr,3)\n",
    "\n",
    "print(newarr)"
   ]
  },
  {
   "cell_type": "code",
   "execution_count": 88,
   "id": "ded28657-078d-45c9-8757-16fd94025940",
   "metadata": {},
   "outputs": [
    {
     "name": "stdout",
     "output_type": "stream",
     "text": [
      "[array([1, 2]), array([3, 4]), array([5]), array([6])]\n"
     ]
    }
   ],
   "source": [
    "import numpy as np\n",
    "\n",
    "arr = np.array([1, 2, 3, 4, 5, 6])\n",
    "\n",
    "newarr = np.array_split(arr, 4)\n",
    "print(newarr)\n",
    "# newarr = np.array_split(arr, 5)\n",
    "# print(newarr)\n",
    "# newarr = np.array_split(arr, 6)\n",
    "# print(newarr)\n",
    "# newarr = np.array_split(arr, 7)\n",
    "# print(newarr)\n",
    "# newarr = np.array_split(arr, 8)\n",
    "# print(newarr)\n",
    "\n",
    "\n",
    "# print(newarr)"
   ]
  },
  {
   "cell_type": "markdown",
   "id": "9618227c-548e-4543-a843-65b61aef9fd9",
   "metadata": {},
   "source": [
    "# Search"
   ]
  },
  {
   "cell_type": "code",
   "execution_count": 89,
   "id": "9e9c4bcc-db67-47bb-805a-a0c205b1cf66",
   "metadata": {},
   "outputs": [
    {
     "name": "stdout",
     "output_type": "stream",
     "text": [
      "(array([3, 5, 6], dtype=int64),)\n"
     ]
    }
   ],
   "source": [
    "import numpy as np\n",
    "\n",
    "arr = np.array([1, 2, 3, 4, 5, 4, 4])\n",
    "\n",
    "x = np.where(arr == 4) # Return indices (element-wise operations) [False, False, False, True, False, T,T]\n",
    "\n",
    "print(x)"
   ]
  },
  {
   "cell_type": "code",
   "execution_count": 95,
   "id": "6412d9e0-1474-46c9-a6c2-20239ddfcec3",
   "metadata": {},
   "outputs": [
    {
     "name": "stdout",
     "output_type": "stream",
     "text": [
      "(array([1, 3, 5, 7], dtype=int64),)\n"
     ]
    }
   ],
   "source": [
    "import numpy as np\n",
    "\n",
    "arr = np.array([1, 2, 3, 4, 5, 6, 7, 8])\n",
    "\n",
    "x = np.where(arr%2 == 0) # Return indices: element-wise operations\n",
    "\n",
    "print(x)"
   ]
  },
  {
   "cell_type": "markdown",
   "id": "30e76183",
   "metadata": {},
   "source": [
    "### Advanced Indexing"
   ]
  },
  {
   "cell_type": "code",
   "execution_count": 98,
   "id": "0997afd0",
   "metadata": {},
   "outputs": [
    {
     "name": "stdout",
     "output_type": "stream",
     "text": [
      "[2 4 6 8]\n",
      "\n",
      "[2 3 4]\n"
     ]
    }
   ],
   "source": [
    "for i in x:\n",
    "    print(arr[i])\n",
    "\n",
    "for x in np.nditer(x):\n",
    "    print(x)\n",
    "\n",
    "# print(arr[x])\n",
    "# print()\n",
    "# print(arr[[1,2,3]])"
   ]
  },
  {
   "cell_type": "code",
   "execution_count": 106,
   "id": "0baaf868",
   "metadata": {},
   "outputs": [
    {
     "name": "stdout",
     "output_type": "stream",
     "text": [
      "(array([0, 1], dtype=int64), array([1, 1], dtype=int64))\n",
      "[2 4]\n"
     ]
    }
   ],
   "source": [
    "import numpy as np\n",
    "\n",
    "arr = np.array([[1, 2], [3, 4]])\n",
    "\n",
    "x = np.where(arr%2 == 0)\n",
    "\n",
    "print(x)\n",
    "print(arr[x])"
   ]
  },
  {
   "cell_type": "markdown",
   "id": "7663b291-98b7-4712-b0a9-1dbe0f9c140d",
   "metadata": {},
   "source": [
    "## <font color=red> Note </font>\n",
    "\n",
    "#### Element-wise operations\n",
    "\n",
    "> Applies the condition element-wise to the input array.\n",
    ">\n",
    "> [False, True, False, True, False, True, False, True]\n",
    ">\n",
    "> Then it returns just the index of the true elements"
   ]
  },
  {
   "cell_type": "markdown",
   "id": "9c07027d-ba60-429b-b58c-81d9fdc8e5f1",
   "metadata": {},
   "source": [
    "# Sort"
   ]
  },
  {
   "cell_type": "code",
   "execution_count": 109,
   "id": "bf14d8f5-55cd-456d-bad5-1038ba9affe5",
   "metadata": {},
   "outputs": [
    {
     "name": "stdout",
     "output_type": "stream",
     "text": [
      "[0 1 2 3]\n",
      "[3 2 0 1]\n"
     ]
    }
   ],
   "source": [
    "import numpy as np\n",
    "\n",
    "arr = np.array([3, 2, 0, 1])\n",
    "\n",
    "print(np.sort(arr))\n",
    "print(arr)"
   ]
  },
  {
   "cell_type": "code",
   "execution_count": 30,
   "id": "aaa20186-26f8-4c04-b11c-f2b8b42eb5fc",
   "metadata": {},
   "outputs": [
    {
     "name": "stdout",
     "output_type": "stream",
     "text": [
      "[0 1 2 3]\n",
      "[0 1 2 3]\n"
     ]
    }
   ],
   "source": [
    "# Sort types\n",
    "\n",
    "import numpy as np\n",
    "\n",
    "arr = np.array([3, 2, 0, 1])\n",
    "\n",
    "print(np.sort(arr)) # default (Quick Sort) Preferred for general-purpose sorting due to its performance.\n",
    "\n",
    "print((np.sort(arr, kind='heapsort'))) # Offers a different trade-off between stability and performance."
   ]
  },
  {
   "cell_type": "markdown",
   "id": "8c64cf02-64e6-4cb7-a5f7-35e9cf2de38c",
   "metadata": {},
   "source": [
    "## <font color=red> Note </font>\n",
    "\n",
    "#### Stability\n",
    "\n",
    "> stability refers to the property where two equal elements retain their relative order after sorting.\n",
    ">\n",
    "> if two elements are considered equal based on the sorting criterion, their order in the output will be the same as their order in the input."
   ]
  },
  {
   "cell_type": "code",
   "execution_count": 8,
   "id": "e67e68c0-4b7e-4530-8b83-bd7aad3c8b1c",
   "metadata": {},
   "outputs": [
    {
     "name": "stdout",
     "output_type": "stream",
     "text": [
      "[False  True  True]\n",
      "140735729049936\n",
      "140735729049936\n"
     ]
    }
   ],
   "source": [
    "# what is the result???\n",
    "\n",
    "import numpy as np\n",
    "\n",
    "arr = np.array([True, False, True])\n",
    "\n",
    "arr_sort = np.sort(arr)\n",
    "print(arr_sort)\n",
    "print(id(arr[0]))\n",
    "print(id(arr_sort[1]))"
   ]
  },
  {
   "cell_type": "markdown",
   "id": "3d9cb8ad-a076-43d9-8018-a25bea8a34be",
   "metadata": {},
   "source": [
    "### Check item existance"
   ]
  },
  {
   "cell_type": "code",
   "execution_count": 7,
   "id": "2c7eb64c-4a83-4787-b6dd-33e5c3945a12",
   "metadata": {
    "scrolled": true
   },
   "outputs": [
    {
     "name": "stdout",
     "output_type": "stream",
     "text": [
      "[False False  True  True False]\n",
      "\n",
      "[False False  True  True False]\n",
      "\n",
      "[ True  True]\n"
     ]
    },
    {
     "name": "stderr",
     "output_type": "stream",
     "text": [
      "C:\\Users\\Green\\AppData\\Local\\Temp\\ipykernel_4356\\445977265.py:6: DeprecationWarning: `in1d` is deprecated. Use `np.isin` instead.\n",
      "  print(np.in1d(arr1, arr2))\n"
     ]
    }
   ],
   "source": [
    "import numpy as np\n",
    "\n",
    "arr1 = [1,2,3,4,5]\n",
    "arr2 = [3,4]\n",
    "\n",
    "print(np.in1d(arr1, arr2))\n",
    "print()\n",
    "print(np.isin(arr1, arr2))\n",
    "print()\n",
    "print(np.isin(arr2, arr1))"
   ]
  },
  {
   "cell_type": "markdown",
   "id": "b8702f2a-badb-40f7-ac0e-76ca95a6763d",
   "metadata": {},
   "source": [
    "# Get the non intersected items"
   ]
  },
  {
   "cell_type": "code",
   "execution_count": 115,
   "id": "987bb9a6-71c3-4fe7-b342-871343a55123",
   "metadata": {},
   "outputs": [
    {
     "name": "stdout",
     "output_type": "stream",
     "text": [
      "[1 2 5]\n",
      "[]\n"
     ]
    }
   ],
   "source": [
    "import numpy as np\n",
    "\n",
    "arr1 = [1,2,3,4,5]\n",
    "arr2 = [3,4]\n",
    "\n",
    "print(np.setdiff1d(arr1, arr2))\n",
    "print(np.setdiff1d(arr2, arr1))"
   ]
  },
  {
   "cell_type": "markdown",
   "id": "aae17c22-22bf-483a-b43d-2373ccd4e1e2",
   "metadata": {},
   "source": [
    "### Get Unique items in a list (without repeatition)"
   ]
  },
  {
   "cell_type": "code",
   "execution_count": 3,
   "id": "8b8f0e2b-d1ae-42c5-99a3-0ddf57110b04",
   "metadata": {},
   "outputs": [
    {
     "data": {
      "text/plain": [
       "array([ 1,  2,  3,  4,  5,  9, 10])"
      ]
     },
     "execution_count": 3,
     "metadata": {},
     "output_type": "execute_result"
    }
   ],
   "source": [
    "import numpy as np\n",
    "\n",
    "arr = np.array([1,1,2,3,3,4,3,5,9,10])\n",
    "\n",
    "np.unique(arr)"
   ]
  },
  {
   "cell_type": "markdown",
   "id": "34651007-59eb-42b6-a764-823c8f84fa20",
   "metadata": {},
   "source": [
    "### Count the repitition of an item"
   ]
  },
  {
   "cell_type": "code",
   "execution_count": 6,
   "id": "cd0cff2f-1355-4977-bc2c-e9483651f34e",
   "metadata": {},
   "outputs": [
    {
     "name": "stdout",
     "output_type": "stream",
     "text": [
      "3\n"
     ]
    }
   ],
   "source": [
    "import numpy as np\n",
    "\n",
    "arr = np.array([1,1,2,3,3,4,3,5,9,10]) # element-wise operation: [False, False, False, True, True, False]\n",
    "\n",
    "print(np.sum(arr == 3))"
   ]
  },
  {
   "cell_type": "code",
   "execution_count": 131,
   "id": "b9df9f49",
   "metadata": {},
   "outputs": [
    {
     "name": "stdout",
     "output_type": "stream",
     "text": [
      "10\n",
      "3\n"
     ]
    }
   ],
   "source": [
    "import numpy as np\n",
    "\n",
    "arr = np.array([0,1,1,2,3,3,4,3,5,9,10])\n",
    "\n",
    "print(np.count_nonzero(arr))\n",
    "print(np.count_nonzero(arr == 3))"
   ]
  },
  {
   "cell_type": "markdown",
   "id": "8c708edd-1381-4d3e-abe8-f6e9cb118fc8",
   "metadata": {},
   "source": [
    "## <font color=red> Note </font>\n",
    "\n",
    "np.sum(array == item_to_count)\n",
    "\n",
    "is using the comparison operator\n",
    "it will return a boolean list like this: [False, True, True, True, True, False, ...etc.] \n",
    "\n",
    "Then it will sum the boolean results Note that True = 1, False = 0.\n",
    "\n",
    "So, the sum will be the occurnce of the value"
   ]
  },
  {
   "cell_type": "markdown",
   "id": "b93c4790-1807-4836-af2d-8d2e6b777f08",
   "metadata": {},
   "source": [
    "### Insert new item"
   ]
  },
  {
   "cell_type": "code",
   "execution_count": 136,
   "id": "9cd86af0-50a8-4337-bb02-073bc564818c",
   "metadata": {},
   "outputs": [
    {
     "name": "stdout",
     "output_type": "stream",
     "text": [
      "[10  1  2  3  4  5]\n",
      "[10  1  2  3  4  5  6]\n",
      "[10  1  2 33  3  4  5  6]\n"
     ]
    }
   ],
   "source": [
    "import numpy as np\n",
    "\n",
    "arr = [1,2,3,4,5]\n",
    "\n",
    "# Insert 10 at the beginning\n",
    "arr = np.insert(arr, 0, 10)\n",
    "print(arr)\n",
    "\n",
    "# Insert 6 at the end\n",
    "arr = np.append(arr, 6)\n",
    "print(arr)\n",
    "\n",
    "# Calculate the middle index\n",
    "middle_index = len(arr) // 2\n",
    "\n",
    "# Insert 33 at the middle\n",
    "arr = np.insert(arr, middle_index, 33)\n",
    "\n",
    "print(arr)"
   ]
  },
  {
   "cell_type": "markdown",
   "id": "a502b035-e5cb-40c2-aba7-40afefb40bc4",
   "metadata": {},
   "source": [
    "# Work with the index of the lists"
   ]
  },
  {
   "cell_type": "code",
   "execution_count": 19,
   "id": "604875aa-c414-4d1b-bc35-221ec55100f2",
   "metadata": {},
   "outputs": [
    {
     "name": "stdout",
     "output_type": "stream",
     "text": [
      "[1 0 5 3 4 6 2]\n"
     ]
    }
   ],
   "source": [
    "# sort with keep track of the indices\n",
    "\n",
    "arr = np.array([100, 50, 900, 500, 600, 400, 800])\n",
    "            #    0    1   2    3    4    5   6\n",
    "          #Sort: 1    0   5    3\n",
    "\n",
    "print(np.argsort(arr)) # Gives the indices that would sort the array"
   ]
  },
  {
   "cell_type": "code",
   "execution_count": 137,
   "id": "92c88523-3615-4854-8f17-75ec85f9e4f6",
   "metadata": {},
   "outputs": [
    {
     "name": "stdout",
     "output_type": "stream",
     "text": [
      "1\n"
     ]
    }
   ],
   "source": [
    "# Get the index of the minimum value\n",
    "\n",
    "arr = np.array([100, 50, 900, 500, 600, 400, 800])\n",
    "\n",
    "print(np.argmin(arr))"
   ]
  },
  {
   "cell_type": "code",
   "execution_count": 138,
   "id": "6ef0fe8d-4b1a-4b0d-bfaa-d57814519093",
   "metadata": {},
   "outputs": [
    {
     "name": "stdout",
     "output_type": "stream",
     "text": [
      "2\n"
     ]
    }
   ],
   "source": [
    "# Get the index of the maximum value\n",
    "\n",
    "arr = np.array([100, 50, 900, 500, 600, 400, 800])\n",
    "\n",
    "print(np.argmax(arr))"
   ]
  },
  {
   "cell_type": "markdown",
   "id": "8a97889b-f0cc-472b-ae5a-1935339e63fd",
   "metadata": {},
   "source": [
    "# Partitioning"
   ]
  },
  {
   "cell_type": "code",
   "execution_count": 165,
   "id": "4b0dfa1c-1097-4202-81ae-c8cc2d1b5ab0",
   "metadata": {},
   "outputs": [
    {
     "name": "stdout",
     "output_type": "stream",
     "text": [
      "[20 30 40 50 50 60 70 90]\n",
      "[20 30 40 50 50 60 90 70]\n"
     ]
    }
   ],
   "source": [
    "array = np.array([70, 50, 20, 30, 90, 60, 50, 40])\n",
    "print(np.sort(array))\n",
    "# Set position to 3, for example\n",
    "# position = 5\n",
    "\n",
    "# Partition the array\n",
    "partitioned_array = np.partition(array, 4)\n",
    "\n",
    "print(partitioned_array)"
   ]
  },
  {
   "cell_type": "markdown",
   "id": "9ec192db-d94d-4e91-8e53-c0f4db18e45a",
   "metadata": {},
   "source": [
    "#### indices partitioning"
   ]
  },
  {
   "cell_type": "code",
   "execution_count": 25,
   "id": "f1f1259c-76f9-4506-a8a2-9fb7ebe27fb4",
   "metadata": {},
   "outputs": [
    {
     "name": "stdout",
     "output_type": "stream",
     "text": [
      "[4 2 3 7 6 1 5 0]\n"
     ]
    }
   ],
   "source": [
    "import numpy as np\n",
    "\n",
    "array = np.array([70, 50, 20, 30, -11, 60, 50, 40])\n",
    "\n",
    "k = 3\n",
    "partitioned_indices = np.argpartition(array, k)\n",
    "\n",
    "print(partitioned_indices)  # Output: indices of the partitioned array"
   ]
  }
 ],
 "metadata": {
  "kernelspec": {
   "display_name": "Python 3 (ipykernel)",
   "language": "python",
   "name": "python3"
  },
  "language_info": {
   "codemirror_mode": {
    "name": "ipython",
    "version": 3
   },
   "file_extension": ".py",
   "mimetype": "text/x-python",
   "name": "python",
   "nbconvert_exporter": "python",
   "pygments_lexer": "ipython3",
   "version": "3.11.2"
  }
 },
 "nbformat": 4,
 "nbformat_minor": 5
}
